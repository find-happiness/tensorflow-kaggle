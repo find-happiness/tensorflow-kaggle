{
 "cells": [
  {
   "cell_type": "code",
   "execution_count": 1,
   "metadata": {},
   "outputs": [
    {
     "name": "stderr",
     "output_type": "stream",
     "text": [
      "E:\\Anaconda3_5_0_0\\lib\\site-packages\\h5py\\__init__.py:34: FutureWarning: Conversion of the second argument of issubdtype from `float` to `np.floating` is deprecated. In future, it will be treated as `np.float64 == np.dtype(float).type`.\n",
      "  from ._conv import register_converters as _register_converters\n"
     ]
    }
   ],
   "source": [
    "import tensorflow as tf\n",
    "from tensorflow.python.framework import ops\n",
    "\n",
    "ops.reset_default_graph()"
   ]
  },
  {
   "cell_type": "markdown",
   "metadata": {
    "collapsed": true
   },
   "source": [
    "### 自定义Esitimator"
   ]
  },
  {
   "cell_type": "code",
   "execution_count": 2,
   "metadata": {
    "collapsed": true
   },
   "outputs": [],
   "source": [
    "TRAIN_URL = \"http://download.tensorflow.org/data/iris_training.csv\"\n",
    "TEST_URL = \"http://download.tensorflow.org/data/iris_test.csv\"\n",
    "\n",
    "CSV_COLUMN_NAMES = ['SepalLength', 'SepalWidth',\n",
    "                    'PetalLength', 'PetalWidth', 'Species']\n",
    "SPECIES = ['Setosa', 'Versicolor', 'Virginica']"
   ]
  },
  {
   "cell_type": "code",
   "execution_count": 3,
   "metadata": {
    "collapsed": true
   },
   "outputs": [],
   "source": [
    "def maybe_download():\n",
    "    train_path = tf.keras.utils.get_file(TRAIN_URL.split('/')[-1], TRAIN_URL,cache_dir=\"./data\")\n",
    "    test_path = tf.keras.utils.get_file(TEST_URL.split('/')[-1], TEST_URL,cache_dir=\"./data\")\n",
    "\n",
    "    return train_path, test_path"
   ]
  },
  {
   "cell_type": "code",
   "execution_count": 4,
   "metadata": {
    "collapsed": true
   },
   "outputs": [],
   "source": [
    "import pandas as pd"
   ]
  },
  {
   "cell_type": "code",
   "execution_count": 5,
   "metadata": {
    "collapsed": true
   },
   "outputs": [],
   "source": [
    "def load_data(y_name ='Species' ):\n",
    "    train_path,test_path = maybe_download()\n",
    "    train = pd.read_csv(train_path,names=CSV_COLUMN_NAMES,header=0)\n",
    "    train_x,train_y = train,train.pop(y_name)\n",
    "              \n",
    "    test = pd.read_csv(test_path,names=CSV_COLUMN_NAMES,header=0)\n",
    "    test_x ,test_y= test,test.pop(y_name)\n",
    "    return (train_x,train_y),(test_x,test_y)"
   ]
  },
  {
   "cell_type": "code",
   "execution_count": 6,
   "metadata": {
    "collapsed": true
   },
   "outputs": [],
   "source": [
    "def train_input_fn(features,labels,batch_size):\n",
    "    dataset = tf.data.Dataset.from_tensor_slices((dict(features),labels))\n",
    "    dataset = dataset.shuffle(1000).repeat().batch(batch_size)\n",
    "    \n",
    "    return dataset.make_one_shot_iterator().get_next()"
   ]
  },
  {
   "cell_type": "code",
   "execution_count": 7,
   "metadata": {
    "collapsed": true
   },
   "outputs": [],
   "source": [
    "def eval_input_fn(features,labels,batch_size):\n",
    "    features = dict(features)\n",
    "    if labels is None:\n",
    "        inputs = features\n",
    "    else:\n",
    "        inputs = (features,labels)\n",
    "    \n",
    "    dataset = tf.data.Dataset.from_tensor_slices(inputs)\n",
    "    dataset = dataset.batch(batch_size)\n",
    "    return dataset.make_one_shot_iterator().get_next()"
   ]
  },
  {
   "cell_type": "code",
   "execution_count": 8,
   "metadata": {
    "collapsed": true
   },
   "outputs": [],
   "source": [
    "(train_x,train_y),(test_x,test_y) = load_data()"
   ]
  },
  {
   "cell_type": "markdown",
   "metadata": {},
   "source": [
    "#### 定义feature columns"
   ]
  },
  {
   "cell_type": "code",
   "execution_count": 9,
   "metadata": {},
   "outputs": [
    {
     "name": "stdout",
     "output_type": "stream",
     "text": [
      "[_NumericColumn(key='SepalLength', shape=(1,), default_value=None, dtype=tf.float32, normalizer_fn=None), _NumericColumn(key='SepalWidth', shape=(1,), default_value=None, dtype=tf.float32, normalizer_fn=None), _NumericColumn(key='PetalLength', shape=(1,), default_value=None, dtype=tf.float32, normalizer_fn=None), _NumericColumn(key='PetalWidth', shape=(1,), default_value=None, dtype=tf.float32, normalizer_fn=None)]\n"
     ]
    }
   ],
   "source": [
    "my_features_columns = []\n",
    "for key in train_x.keys():\n",
    "    my_features_columns.append(tf.feature_column.numeric_column(key=key))\n",
    "print(my_features_columns)"
   ]
  },
  {
   "cell_type": "markdown",
   "metadata": {},
   "source": [
    "#### 定义模型"
   ]
  },
  {
   "cell_type": "code",
   "execution_count": 10,
   "metadata": {
    "collapsed": true
   },
   "outputs": [],
   "source": [
    "def model_fn(features,labels,mode,params):\n",
    "    # 创建输入层 第一个参数为特征，第二参数为 特征的key\n",
    "    net = tf.feature_column.input_layer(features,params['feature_columns'])\n",
    "    # 创建神经网络\n",
    "    for units in params['hidden_units']:\n",
    "        net = tf.layers.dense(net,units=units,activation=tf.nn.relu)\n",
    "    \n",
    "    # 创建输出层\n",
    "    logits = tf.layers.dense(inputs=net,units=params['n_classes'],activation=None)\n",
    "    \n",
    "    predicted_classes = tf.argmax(logits,axis=1)\n",
    "    \n",
    "    # 预测 In this case, the model function must return a tf.estimator.EstimatorSpec containing the prediction.\n",
    "    # The predictions holds the following three key/value pairs:\n",
    "\n",
    "    #   class_ids   holds the class id (0, 1, or 2) representing the model's prediction of the most likely species for this example.\n",
    "    #   probabilities   holds the three probabilities (in this example, 0.02, 0.95, and 0.03)\n",
    "    #   logit   holds the raw logit values (in this example, -1.3, 2.6, and -0.9)\n",
    "    if mode == tf.estimator.ModeKeys.PREDICT:\n",
    "        predictions ={\n",
    "            'class_ids':predicted_classes[:,tf.newaxis],\n",
    "            'probabilities':tf.nn.softmax(logits),\n",
    "            'logit':logits\n",
    "        }\n",
    "        return tf.estimator.EstimatorSpec(mode,predictions)\n",
    "    \n",
    "    loss = tf.losses.sparse_softmax_cross_entropy(logits=logits,labels=labels)\n",
    "    \n",
    "    # 估计 In this case, the model function must return a tf.estimator.EstimatorSpec containing the model's loss and optionally one or more metrics.\n",
    "    if mode == tf.estimator.ModeKeys.EVAL:\n",
    "        accuracy = tf.metrics.accuracy(labels=labels,predictions=predicted_classes,name=\"eval_op\")\n",
    "        metric={'accuracy':accuracy}\n",
    "        # 生成标量\n",
    "        tf.summary.scalar('accuracy',accuracy[1])\n",
    "        return tf.estimator.EstimatorSpec(mode,loss=loss,eval_metric_ops=metric)\n",
    "    \n",
    "    # 训练In this case, the model function must return an EstimatorSpec that contains the loss and a training operation.\n",
    "    if mode == tf.estimator.ModeKeys.TRAIN:\n",
    "        optimizer = tf.train.AdagradOptimizer(learning_rate=0.001)\n",
    "        train_op = optimizer.minimize(loss,global_step = tf.train.get_global_step())\n",
    "        return tf.estimator.EstimatorSpec(mode,loss = loss,train_op = train_op)"
   ]
  },
  {
   "cell_type": "markdown",
   "metadata": {},
   "source": [
    "#### 定义Estimator"
   ]
  },
  {
   "cell_type": "code",
   "execution_count": 11,
   "metadata": {},
   "outputs": [
    {
     "name": "stdout",
     "output_type": "stream",
     "text": [
      "INFO:tensorflow:Using config: {'_model_dir': './model_custom', '_tf_random_seed': None, '_save_summary_steps': 100, '_save_checkpoints_steps': None, '_save_checkpoints_secs': 600, '_session_config': None, '_keep_checkpoint_max': 5, '_keep_checkpoint_every_n_hours': 10000, '_log_step_count_steps': 100, '_train_distribute': None, '_device_fn': None, '_service': None, '_cluster_spec': <tensorflow.python.training.server_lib.ClusterSpec object at 0x000002403673B128>, '_task_type': 'worker', '_task_id': 0, '_global_id_in_cluster': 0, '_master': '', '_evaluation_master': '', '_is_chief': True, '_num_ps_replicas': 0, '_num_worker_replicas': 1}\n"
     ]
    }
   ],
   "source": [
    "config = tf.estimator.RunConfig(model_dir=\"./model_custom\")\n",
    "risi_classes = tf.estimator.Estimator(model_fn=model_fn,params={'feature_columns':my_features_columns,'hidden_units':[10,10],'n_classes':3},config=config)"
   ]
  },
  {
   "cell_type": "code",
   "execution_count": 12,
   "metadata": {},
   "outputs": [
    {
     "name": "stdout",
     "output_type": "stream",
     "text": [
      "INFO:tensorflow:Calling model_fn.\n",
      "INFO:tensorflow:Done calling model_fn.\n",
      "INFO:tensorflow:Create CheckpointSaverHook.\n",
      "INFO:tensorflow:Graph was finalized.\n",
      "INFO:tensorflow:Running local_init_op.\n",
      "INFO:tensorflow:Done running local_init_op.\n",
      "INFO:tensorflow:Saving checkpoints for 0 into ./model_custom\\model.ckpt.\n",
      "INFO:tensorflow:loss = 2.1527865, step = 0\n",
      "INFO:tensorflow:global_step/sec: 439.357\n",
      "INFO:tensorflow:loss = 1.5026704, step = 100 (0.229 sec)\n",
      "INFO:tensorflow:global_step/sec: 623.339\n",
      "INFO:tensorflow:loss = 1.1963761, step = 200 (0.159 sec)\n",
      "INFO:tensorflow:global_step/sec: 631.23\n",
      "INFO:tensorflow:loss = 1.0633175, step = 300 (0.159 sec)\n",
      "INFO:tensorflow:global_step/sec: 560.304\n",
      "INFO:tensorflow:loss = 0.99344945, step = 400 (0.178 sec)\n",
      "INFO:tensorflow:global_step/sec: 573.182\n",
      "INFO:tensorflow:loss = 1.007433, step = 500 (0.174 sec)\n",
      "INFO:tensorflow:global_step/sec: 611.868\n",
      "INFO:tensorflow:loss = 0.96387625, step = 600 (0.163 sec)\n",
      "INFO:tensorflow:global_step/sec: 623.338\n",
      "INFO:tensorflow:loss = 0.9262908, step = 700 (0.161 sec)\n",
      "INFO:tensorflow:global_step/sec: 623.336\n",
      "INFO:tensorflow:loss = 0.9277035, step = 800 (0.159 sec)\n",
      "INFO:tensorflow:global_step/sec: 627.258\n",
      "INFO:tensorflow:loss = 0.88453996, step = 900 (0.159 sec)\n",
      "INFO:tensorflow:global_step/sec: 623.339\n",
      "INFO:tensorflow:loss = 0.866908, step = 1000 (0.160 sec)\n",
      "INFO:tensorflow:global_step/sec: 627.259\n",
      "INFO:tensorflow:loss = 0.8434301, step = 1100 (0.159 sec)\n",
      "INFO:tensorflow:global_step/sec: 619.466\n",
      "INFO:tensorflow:loss = 0.83195686, step = 1200 (0.160 sec)\n",
      "INFO:tensorflow:global_step/sec: 631.227\n",
      "INFO:tensorflow:loss = 0.811716, step = 1300 (0.159 sec)\n",
      "INFO:tensorflow:global_step/sec: 627.256\n",
      "INFO:tensorflow:loss = 0.8032066, step = 1400 (0.159 sec)\n",
      "INFO:tensorflow:global_step/sec: 557.175\n",
      "INFO:tensorflow:loss = 0.79477984, step = 1500 (0.179 sec)\n",
      "INFO:tensorflow:global_step/sec: 611.867\n",
      "INFO:tensorflow:loss = 0.7631737, step = 1600 (0.162 sec)\n",
      "INFO:tensorflow:global_step/sec: 631.227\n",
      "INFO:tensorflow:loss = 0.7730993, step = 1700 (0.159 sec)\n",
      "INFO:tensorflow:global_step/sec: 615.642\n",
      "INFO:tensorflow:loss = 0.76497287, step = 1800 (0.162 sec)\n",
      "INFO:tensorflow:global_step/sec: 627.258\n",
      "INFO:tensorflow:loss = 0.74923605, step = 1900 (0.159 sec)\n",
      "INFO:tensorflow:global_step/sec: 635.248\n",
      "INFO:tensorflow:loss = 0.7504975, step = 2000 (0.157 sec)\n",
      "INFO:tensorflow:global_step/sec: 627.259\n",
      "INFO:tensorflow:loss = 0.7197088, step = 2100 (0.159 sec)\n",
      "INFO:tensorflow:global_step/sec: 627.258\n",
      "INFO:tensorflow:loss = 0.6976887, step = 2200 (0.159 sec)\n",
      "INFO:tensorflow:global_step/sec: 627.259\n",
      "INFO:tensorflow:loss = 0.71179575, step = 2300 (0.159 sec)\n",
      "INFO:tensorflow:global_step/sec: 623.337\n",
      "INFO:tensorflow:loss = 0.72712463, step = 2400 (0.160 sec)\n",
      "INFO:tensorflow:global_step/sec: 627.257\n",
      "INFO:tensorflow:loss = 0.7073936, step = 2500 (0.159 sec)\n",
      "INFO:tensorflow:global_step/sec: 631.228\n",
      "INFO:tensorflow:loss = 0.71761817, step = 2600 (0.158 sec)\n",
      "INFO:tensorflow:global_step/sec: 515.733\n",
      "INFO:tensorflow:loss = 0.69740415, step = 2700 (0.194 sec)\n",
      "INFO:tensorflow:global_step/sec: 557.174\n",
      "INFO:tensorflow:loss = 0.68780524, step = 2800 (0.179 sec)\n",
      "INFO:tensorflow:global_step/sec: 631.229\n",
      "INFO:tensorflow:loss = 0.6968796, step = 2900 (0.158 sec)\n",
      "INFO:tensorflow:global_step/sec: 611.864\n",
      "INFO:tensorflow:loss = 0.6954153, step = 3000 (0.162 sec)\n",
      "INFO:tensorflow:global_step/sec: 631.228\n",
      "INFO:tensorflow:loss = 0.7062756, step = 3100 (0.159 sec)\n",
      "INFO:tensorflow:global_step/sec: 627.26\n",
      "INFO:tensorflow:loss = 0.69085866, step = 3200 (0.158 sec)\n",
      "INFO:tensorflow:global_step/sec: 639.318\n",
      "INFO:tensorflow:loss = 0.6741178, step = 3300 (0.157 sec)\n",
      "INFO:tensorflow:global_step/sec: 619.469\n",
      "INFO:tensorflow:loss = 0.6104622, step = 3400 (0.160 sec)\n",
      "INFO:tensorflow:global_step/sec: 615.642\n",
      "INFO:tensorflow:loss = 0.61690676, step = 3500 (0.162 sec)\n",
      "INFO:tensorflow:global_step/sec: 615.64\n",
      "INFO:tensorflow:loss = 0.6329707, step = 3600 (0.162 sec)\n",
      "INFO:tensorflow:global_step/sec: 623.34\n",
      "INFO:tensorflow:loss = 0.6627903, step = 3700 (0.161 sec)\n",
      "INFO:tensorflow:global_step/sec: 623.337\n",
      "INFO:tensorflow:loss = 0.6218581, step = 3800 (0.160 sec)\n",
      "INFO:tensorflow:global_step/sec: 631.228\n",
      "INFO:tensorflow:loss = 0.6348317, step = 3900 (0.158 sec)\n",
      "INFO:tensorflow:global_step/sec: 623.336\n",
      "INFO:tensorflow:loss = 0.63962626, step = 4000 (0.160 sec)\n",
      "INFO:tensorflow:global_step/sec: 623.338\n",
      "INFO:tensorflow:loss = 0.6521313, step = 4100 (0.160 sec)\n",
      "INFO:tensorflow:global_step/sec: 623.338\n",
      "INFO:tensorflow:loss = 0.62460214, step = 4200 (0.160 sec)\n",
      "INFO:tensorflow:global_step/sec: 627.26\n",
      "INFO:tensorflow:loss = 0.60859513, step = 4300 (0.159 sec)\n",
      "INFO:tensorflow:global_step/sec: 623.337\n",
      "INFO:tensorflow:loss = 0.61898977, step = 4400 (0.160 sec)\n",
      "INFO:tensorflow:global_step/sec: 623.338\n",
      "INFO:tensorflow:loss = 0.60661006, step = 4500 (0.160 sec)\n",
      "INFO:tensorflow:global_step/sec: 557.17\n",
      "INFO:tensorflow:loss = 0.60598063, step = 4600 (0.179 sec)\n",
      "INFO:tensorflow:global_step/sec: 593.658\n",
      "INFO:tensorflow:loss = 0.57995415, step = 4700 (0.167 sec)\n",
      "INFO:tensorflow:global_step/sec: 623.337\n",
      "INFO:tensorflow:loss = 0.6040244, step = 4800 (0.161 sec)\n",
      "INFO:tensorflow:global_step/sec: 623.336\n",
      "INFO:tensorflow:loss = 0.57776815, step = 4900 (0.160 sec)\n",
      "INFO:tensorflow:global_step/sec: 608.136\n",
      "INFO:tensorflow:loss = 0.57033455, step = 5000 (0.164 sec)\n",
      "INFO:tensorflow:global_step/sec: 514.092\n",
      "INFO:tensorflow:loss = 0.5674415, step = 5100 (0.195 sec)\n",
      "INFO:tensorflow:global_step/sec: 623.337\n",
      "INFO:tensorflow:loss = 0.5996154, step = 5200 (0.160 sec)\n",
      "INFO:tensorflow:global_step/sec: 623.339\n",
      "INFO:tensorflow:loss = 0.6336789, step = 5300 (0.160 sec)\n",
      "INFO:tensorflow:global_step/sec: 619.465\n",
      "INFO:tensorflow:loss = 0.57083935, step = 5400 (0.161 sec)\n",
      "INFO:tensorflow:global_step/sec: 623.338\n",
      "INFO:tensorflow:loss = 0.58383036, step = 5500 (0.160 sec)\n",
      "INFO:tensorflow:global_step/sec: 600.808\n",
      "INFO:tensorflow:loss = 0.590214, step = 5600 (0.167 sec)\n",
      "INFO:tensorflow:global_step/sec: 583.24\n",
      "INFO:tensorflow:loss = 0.5786713, step = 5700 (0.170 sec)\n",
      "INFO:tensorflow:global_step/sec: 615.644\n",
      "INFO:tensorflow:loss = 0.5286345, step = 5800 (0.162 sec)\n",
      "INFO:tensorflow:global_step/sec: 576.495\n",
      "INFO:tensorflow:loss = 0.56148267, step = 5900 (0.173 sec)\n",
      "INFO:tensorflow:global_step/sec: 569.912\n",
      "INFO:tensorflow:loss = 0.5823606, step = 6000 (0.175 sec)\n",
      "INFO:tensorflow:global_step/sec: 615.642\n",
      "INFO:tensorflow:loss = 0.56942576, step = 6100 (0.162 sec)\n",
      "INFO:tensorflow:global_step/sec: 593.654\n",
      "INFO:tensorflow:loss = 0.5342223, step = 6200 (0.168 sec)\n",
      "INFO:tensorflow:global_step/sec: 611.865\n",
      "INFO:tensorflow:loss = 0.539556, step = 6300 (0.162 sec)\n",
      "INFO:tensorflow:global_step/sec: 608.133\n",
      "INFO:tensorflow:loss = 0.5529628, step = 6400 (0.165 sec)\n",
      "INFO:tensorflow:global_step/sec: 631.229\n",
      "INFO:tensorflow:loss = 0.57230484, step = 6500 (0.157 sec)\n",
      "INFO:tensorflow:global_step/sec: 583.239\n",
      "INFO:tensorflow:loss = 0.52669054, step = 6600 (0.172 sec)\n",
      "INFO:tensorflow:global_step/sec: 569.909\n",
      "INFO:tensorflow:loss = 0.52623343, step = 6700 (0.175 sec)\n",
      "INFO:tensorflow:global_step/sec: 557.173\n",
      "INFO:tensorflow:loss = 0.5540444, step = 6800 (0.179 sec)\n",
      "INFO:tensorflow:global_step/sec: 619.467\n",
      "INFO:tensorflow:loss = 0.5436559, step = 6900 (0.161 sec)\n",
      "INFO:tensorflow:global_step/sec: 639.32\n",
      "INFO:tensorflow:loss = 0.5467876, step = 7000 (0.156 sec)\n",
      "INFO:tensorflow:global_step/sec: 615.642\n",
      "INFO:tensorflow:loss = 0.5264765, step = 7100 (0.162 sec)\n",
      "INFO:tensorflow:global_step/sec: 604.451\n",
      "INFO:tensorflow:loss = 0.5327792, step = 7200 (0.165 sec)\n",
      "INFO:tensorflow:global_step/sec: 611.865\n",
      "INFO:tensorflow:loss = 0.5374051, step = 7300 (0.163 sec)\n",
      "INFO:tensorflow:global_step/sec: 604.448\n",
      "INFO:tensorflow:loss = 0.5093995, step = 7400 (0.164 sec)\n",
      "INFO:tensorflow:global_step/sec: 611.866\n",
      "INFO:tensorflow:loss = 0.5261549, step = 7500 (0.164 sec)\n",
      "INFO:tensorflow:global_step/sec: 608.134\n",
      "INFO:tensorflow:loss = 0.500821, step = 7600 (0.164 sec)\n",
      "INFO:tensorflow:global_step/sec: 615.641\n",
      "INFO:tensorflow:loss = 0.49475223, step = 7700 (0.162 sec)\n",
      "INFO:tensorflow:global_step/sec: 604.449\n",
      "INFO:tensorflow:loss = 0.51603913, step = 7800 (0.165 sec)\n",
      "INFO:tensorflow:global_step/sec: 611.865\n",
      "INFO:tensorflow:loss = 0.5346754, step = 7900 (0.163 sec)\n",
      "INFO:tensorflow:global_step/sec: 611.866\n"
     ]
    },
    {
     "name": "stdout",
     "output_type": "stream",
     "text": [
      "INFO:tensorflow:loss = 0.50601995, step = 8000 (0.162 sec)\n",
      "INFO:tensorflow:global_step/sec: 619.465\n",
      "INFO:tensorflow:loss = 0.5103793, step = 8100 (0.162 sec)\n",
      "INFO:tensorflow:global_step/sec: 597.212\n",
      "INFO:tensorflow:loss = 0.4781884, step = 8200 (0.167 sec)\n",
      "INFO:tensorflow:global_step/sec: 590.14\n",
      "INFO:tensorflow:loss = 0.51530033, step = 8300 (0.169 sec)\n",
      "INFO:tensorflow:global_step/sec: 590.143\n",
      "INFO:tensorflow:loss = 0.50983477, step = 8400 (0.169 sec)\n",
      "INFO:tensorflow:global_step/sec: 623.338\n",
      "INFO:tensorflow:loss = 0.47015923, step = 8500 (0.160 sec)\n",
      "INFO:tensorflow:global_step/sec: 635.247\n",
      "INFO:tensorflow:loss = 0.49226308, step = 8600 (0.157 sec)\n",
      "INFO:tensorflow:global_step/sec: 635.249\n",
      "INFO:tensorflow:loss = 0.48401433, step = 8700 (0.156 sec)\n",
      "INFO:tensorflow:global_step/sec: 639.32\n",
      "INFO:tensorflow:loss = 0.52146196, step = 8800 (0.158 sec)\n",
      "INFO:tensorflow:global_step/sec: 573.185\n",
      "INFO:tensorflow:loss = 0.52380204, step = 8900 (0.173 sec)\n",
      "INFO:tensorflow:global_step/sec: 600.806\n",
      "INFO:tensorflow:loss = 0.49250412, step = 9000 (0.166 sec)\n",
      "INFO:tensorflow:global_step/sec: 563.47\n",
      "INFO:tensorflow:loss = 0.4942647, step = 9100 (0.177 sec)\n",
      "INFO:tensorflow:global_step/sec: 586.67\n",
      "INFO:tensorflow:loss = 0.49756753, step = 9200 (0.170 sec)\n",
      "INFO:tensorflow:global_step/sec: 639.321\n",
      "INFO:tensorflow:loss = 0.48702863, step = 9300 (0.156 sec)\n",
      "INFO:tensorflow:global_step/sec: 635.25\n",
      "INFO:tensorflow:loss = 0.51256907, step = 9400 (0.156 sec)\n",
      "INFO:tensorflow:global_step/sec: 619.465\n",
      "INFO:tensorflow:loss = 0.5073021, step = 9500 (0.162 sec)\n",
      "INFO:tensorflow:global_step/sec: 604.448\n",
      "INFO:tensorflow:loss = 0.48843127, step = 9600 (0.165 sec)\n",
      "INFO:tensorflow:global_step/sec: 627.259\n",
      "INFO:tensorflow:loss = 0.50726676, step = 9700 (0.159 sec)\n",
      "INFO:tensorflow:global_step/sec: 611.864\n",
      "INFO:tensorflow:loss = 0.49763408, step = 9800 (0.163 sec)\n",
      "INFO:tensorflow:global_step/sec: 635.249\n",
      "INFO:tensorflow:loss = 0.47865018, step = 9900 (0.157 sec)\n",
      "INFO:tensorflow:Saving checkpoints for 10000 into ./model_custom\\model.ckpt.\n",
      "INFO:tensorflow:Loss for final step: 0.4549291.\n"
     ]
    },
    {
     "data": {
      "text/plain": [
       "<tensorflow.python.estimator.estimator.Estimator at 0x2403673b0f0>"
      ]
     },
     "execution_count": 12,
     "metadata": {},
     "output_type": "execute_result"
    }
   ],
   "source": [
    "risi_classes.train(input_fn=lambda:train_input_fn(train_x,train_y,100),steps=10000)"
   ]
  },
  {
   "cell_type": "code",
   "execution_count": 13,
   "metadata": {},
   "outputs": [
    {
     "name": "stdout",
     "output_type": "stream",
     "text": [
      "INFO:tensorflow:Calling model_fn.\n",
      "INFO:tensorflow:Done calling model_fn.\n",
      "INFO:tensorflow:Starting evaluation at 2018-08-09-07:06:12\n",
      "INFO:tensorflow:Graph was finalized.\n",
      "INFO:tensorflow:Restoring parameters from ./model_custom\\model.ckpt-10000\n",
      "INFO:tensorflow:Running local_init_op.\n",
      "INFO:tensorflow:Done running local_init_op.\n",
      "INFO:tensorflow:Finished evaluation at 2018-08-09-07:06:12\n",
      "INFO:tensorflow:Saving dict for global step 10000: accuracy = 0.7, global_step = 10000, loss = 0.55667305\n",
      "INFO:tensorflow:Saving 'checkpoint_path' summary for global step 10000: ./model_custom\\model.ckpt-10000\n",
      "{'accuracy': 0.7, 'loss': 0.55667305, 'global_step': 10000}\n"
     ]
    }
   ],
   "source": [
    "eval_result = risi_classes.evaluate(input_fn=lambda:eval_input_fn(test_x,test_y,100))\n",
    "print(eval_result)"
   ]
  },
  {
   "cell_type": "code",
   "execution_count": 14,
   "metadata": {
    "collapsed": true
   },
   "outputs": [],
   "source": [
    "# Generate predictions from the model\n",
    "expected = ['Setosa', 'Versicolor', 'Virginica']\n",
    "predict_x = {\n",
    "    'SepalLength': [5.1, 5.9, 6.9],\n",
    "    'SepalWidth': [3.3, 3.0, 3.1],\n",
    "    'PetalLength': [1.7, 4.2, 5.4],\n",
    "    'PetalWidth': [0.5, 1.5, 2.1],\n",
    "}"
   ]
  },
  {
   "cell_type": "code",
   "execution_count": 15,
   "metadata": {},
   "outputs": [
    {
     "name": "stdout",
     "output_type": "stream",
     "text": [
      "INFO:tensorflow:Calling model_fn.\n",
      "INFO:tensorflow:Done calling model_fn.\n",
      "INFO:tensorflow:Graph was finalized.\n",
      "INFO:tensorflow:Restoring parameters from ./model_custom\\model.ckpt-10000\n",
      "INFO:tensorflow:Running local_init_op.\n",
      "INFO:tensorflow:Done running local_init_op.\n",
      "\n",
      "Prediction is \"Setosa\" (77.2%), expected \"Setosa\"\n",
      "\n",
      "Prediction is \"Versicolor\" (46.8%), expected \"Versicolor\"\n",
      "\n",
      "Prediction is \"Virginica\" (59.5%), expected \"Virginica\"\n"
     ]
    }
   ],
   "source": [
    "predictions = risi_classes.predict(input_fn=lambda:eval_input_fn(features=predict_x,labels=None,batch_size=100))\n",
    "\n",
    "for pred_dict,expec in zip(predictions,expected):\n",
    "    template = ('\\nPrediction is \"{}\" ({:.1f}%), expected \"{}\"')\n",
    "    class_id = pred_dict['class_ids'][0]\n",
    "    probability = pred_dict['probabilities'][class_id]\n",
    "    \n",
    "    print(template.format(SPECIES[class_id],\n",
    "                              100 * probability, expec))\n",
    "    "
   ]
  },
  {
   "cell_type": "code",
   "execution_count": null,
   "metadata": {
    "collapsed": true
   },
   "outputs": [],
   "source": []
  }
 ],
 "metadata": {
  "kernelspec": {
   "display_name": "Python 3",
   "language": "python",
   "name": "python3"
  },
  "language_info": {
   "codemirror_mode": {
    "name": "ipython",
    "version": 3
   },
   "file_extension": ".py",
   "mimetype": "text/x-python",
   "name": "python",
   "nbconvert_exporter": "python",
   "pygments_lexer": "ipython3",
   "version": "3.6.2"
  }
 },
 "nbformat": 4,
 "nbformat_minor": 2
}
