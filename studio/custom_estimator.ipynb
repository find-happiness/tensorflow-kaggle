{
 "cells": [
  {
   "cell_type": "code",
   "execution_count": 5,
   "metadata": {
    "collapsed": true
   },
   "outputs": [],
   "source": [
    "import tensorflow as tf\n",
    "from tensorflow.python.framework import ops\n",
    "\n",
    "ops.reset_default_graph()"
   ]
  },
  {
   "cell_type": "markdown",
   "metadata": {
    "collapsed": true
   },
   "source": [
    "### 自定义Esitimator"
   ]
  },
  {
   "cell_type": "code",
   "execution_count": 6,
   "metadata": {},
   "outputs": [],
   "source": [
    "TRAIN_URL = \"http://download.tensorflow.org/data/iris_training.csv\"\n",
    "TEST_URL = \"http://download.tensorflow.org/data/iris_test.csv\"\n",
    "\n",
    "CSV_COLUMN_NAMES = ['SepalLength', 'SepalWidth',\n",
    "                    'PetalLength', 'PetalWidth', 'Species']\n",
    "SPECIES = ['Setosa', 'Versicolor', 'Virginica']"
   ]
  },
  {
   "cell_type": "code",
   "execution_count": 11,
   "metadata": {
    "collapsed": true
   },
   "outputs": [],
   "source": [
    "def maybe_download():\n",
    "    train_path = tf.keras.utils.get_file(TRAIN_URL.split('/')[-1], TRAIN_URL,cache_dir=\"./data\")\n",
    "    test_path = tf.keras.utils.get_file(TEST_URL.split('/')[-1], TEST_URL,cache_dir=\"./data\")\n",
    "\n",
    "    return train_path, test_path"
   ]
  },
  {
   "cell_type": "code",
   "execution_count": 14,
   "metadata": {
    "collapsed": true
   },
   "outputs": [],
   "source": [
    "import pandas as pd"
   ]
  },
  {
   "cell_type": "code",
   "execution_count": 16,
   "metadata": {},
   "outputs": [],
   "source": [
    "def load_data(y_name ='Species' ):\n",
    "    train_path,test_path = maybe_download()\n",
    "    train = pd.read_csv(train_path,names=CSV_COLUMN_NAMES,header=0)\n",
    "    train_x,train_y = train,train.pop(y_name)\n",
    "              \n",
    "    test = pd.read_csv(test_path,names=CSV_COLUMN_NAMES,header=0)\n",
    "    test_x ,test_y= test,test.pop(y_name)\n",
    "    return (train_x,train_y),(test_x,test_y)"
   ]
  },
  {
   "cell_type": "code",
   "execution_count": 34,
   "metadata": {
    "collapsed": true
   },
   "outputs": [],
   "source": [
    "def train_input_fn(features,labels,batch_size):\n",
    "    dataset = tf.data.Dataset.from_tensor_slices((dict(features),labels))\n",
    "    dataset = dataset.shuffle(1000).repeat().batch(batch_size)\n",
    "    \n",
    "    return dataset.make_one_shot_iterator().get_next()"
   ]
  },
  {
   "cell_type": "code",
   "execution_count": 40,
   "metadata": {
    "collapsed": true
   },
   "outputs": [],
   "source": [
    "def eval_input_fn(features,labels,batch_size):\n",
    "    features = dict(features)\n",
    "    if labels is None:\n",
    "        inputs = features\n",
    "    else:\n",
    "        inputs = (features,labels)\n",
    "    \n",
    "    dataset = tf.data.Dataset.from_tensor_slices(inputs)\n",
    "    dataset = dataset.batch(batch_size)\n",
    "    return dataset.make_one_shot_iterator().get_next()"
   ]
  },
  {
   "cell_type": "code",
   "execution_count": 21,
   "metadata": {},
   "outputs": [],
   "source": [
    "(train_x,train_y),(test_x,test_y) = load_data()"
   ]
  },
  {
   "cell_type": "markdown",
   "metadata": {},
   "source": [
    "#### 定义feature columns"
   ]
  },
  {
   "cell_type": "code",
   "execution_count": 22,
   "metadata": {},
   "outputs": [
    {
     "name": "stdout",
     "output_type": "stream",
     "text": [
      "[_NumericColumn(key='SepalLength', shape=(1,), default_value=None, dtype=tf.float32, normalizer_fn=None), _NumericColumn(key='SepalWidth', shape=(1,), default_value=None, dtype=tf.float32, normalizer_fn=None), _NumericColumn(key='PetalLength', shape=(1,), default_value=None, dtype=tf.float32, normalizer_fn=None), _NumericColumn(key='PetalWidth', shape=(1,), default_value=None, dtype=tf.float32, normalizer_fn=None)]\n"
     ]
    }
   ],
   "source": [
    "my_features_columns = []\n",
    "for key in train_x.keys():\n",
    "    my_features_columns.append(tf.feature_column.numeric_column(key=key))\n",
    "print(my_features_columns)"
   ]
  },
  {
   "cell_type": "markdown",
   "metadata": {},
   "source": [
    "#### 定义模型"
   ]
  },
  {
   "cell_type": "code",
   "execution_count": 36,
   "metadata": {},
   "outputs": [],
   "source": [
    "def model_fn(features,labels,mode,params):\n",
    "    # 创建输入层 第一个参数为特征，第二参数为 特征的key\n",
    "    net = tf.feature_column.input_layer(features,params['feature_columns'])\n",
    "    # 创建神经网络\n",
    "    for units in params['hidden_units']:\n",
    "        net = tf.layers.dense(net,units=units,activation=tf.nn.relu)\n",
    "    \n",
    "    # 创建输出层\n",
    "    logits = tf.layers.dense(inputs=net,units=params['n_classes'],activation=None)\n",
    "    \n",
    "    predicted_classes = tf.argmax(logits,axis=1)\n",
    "    \n",
    "    # 预测 In this case, the model function must return a tf.estimator.EstimatorSpec containing the prediction.\n",
    "    # The predictions holds the following three key/value pairs:\n",
    "\n",
    "    #   class_ids   holds the class id (0, 1, or 2) representing the model's prediction of the most likely species for this example.\n",
    "    #   probabilities   holds the three probabilities (in this example, 0.02, 0.95, and 0.03)\n",
    "    #   logit   holds the raw logit values (in this example, -1.3, 2.6, and -0.9)\n",
    "    if mode == tf.estimator.ModeKeys.PREDICT:\n",
    "        predictions ={\n",
    "            'class_ids':predicted_classes[:,tf.newaxis],\n",
    "            'probabilities':tf.nn.softmax(logits),\n",
    "            'logit':logits\n",
    "        }\n",
    "        return tf.estimator.EstimatorSpec(mode,predictions)\n",
    "    \n",
    "    loss = tf.losses.sparse_softmax_cross_entropy(logits=logits,labels=labels)\n",
    "    \n",
    "    # 估计 In this case, the model function must return a tf.estimator.EstimatorSpec containing the model's loss and optionally one or more metrics.\n",
    "    if mode == tf.estimator.ModeKeys.EVAL:\n",
    "        accuracy = tf.metrics.accuracy(labels=labels,predictions=predicted_classes,name=\"eval_op\")\n",
    "        metric={'accuracy':accuracy}\n",
    "        # 生成标量\n",
    "        tf.summary.scalar('accuracy',accuracy[1])\n",
    "        return tf.estimator.EstimatorSpec(mode,loss=loss,eval_metric_ops=metric)\n",
    "    \n",
    "    # 训练In this case, the model function must return an EstimatorSpec that contains the loss and a training operation.\n",
    "    if mode == tf.estimator.ModeKeys.TRAIN:\n",
    "        optimizer = tf.train.AdagradOptimizer(learning_rate=0.001)\n",
    "        train_op = optimizer.minimize(loss,global_step = tf.train.get_global_step())\n",
    "        return tf.estimator.EstimatorSpec(mode,loss = loss,train_op = train_op)"
   ]
  },
  {
   "cell_type": "markdown",
   "metadata": {},
   "source": [
    "#### 定义Estimator"
   ]
  },
  {
   "cell_type": "code",
   "execution_count": 37,
   "metadata": {},
   "outputs": [
    {
     "name": "stdout",
     "output_type": "stream",
     "text": [
      "INFO:tensorflow:Using config: {'_model_dir': './model_custom', '_tf_random_seed': None, '_save_summary_steps': 100, '_save_checkpoints_steps': None, '_save_checkpoints_secs': 600, '_session_config': None, '_keep_checkpoint_max': 5, '_keep_checkpoint_every_n_hours': 10000, '_log_step_count_steps': 100, '_train_distribute': None, '_device_fn': None, '_service': None, '_cluster_spec': <tensorflow.python.training.server_lib.ClusterSpec object at 0x00000153AB2A2710>, '_task_type': 'worker', '_task_id': 0, '_global_id_in_cluster': 0, '_master': '', '_evaluation_master': '', '_is_chief': True, '_num_ps_replicas': 0, '_num_worker_replicas': 1}\n"
     ]
    }
   ],
   "source": [
    "config = tf.estimator.RunConfig(model_dir=\"./model_custom\")\n",
    "risi_classes = tf.estimator.Estimator(model_fn=model_fn,params={'feature_columns':my_features_columns,'hidden_units':[10,10],'n_classes':3},config=config)"
   ]
  },
  {
   "cell_type": "code",
   "execution_count": 43,
   "metadata": {},
   "outputs": [
    {
     "name": "stdout",
     "output_type": "stream",
     "text": [
      "INFO:tensorflow:Calling model_fn.\n",
      "INFO:tensorflow:Done calling model_fn.\n",
      "INFO:tensorflow:Create CheckpointSaverHook.\n",
      "INFO:tensorflow:Graph was finalized.\n",
      "INFO:tensorflow:Restoring parameters from ./model_custom\\model.ckpt-1000\n",
      "INFO:tensorflow:Running local_init_op.\n",
      "INFO:tensorflow:Done running local_init_op.\n",
      "INFO:tensorflow:Saving checkpoints for 1000 into ./model_custom\\model.ckpt.\n",
      "INFO:tensorflow:loss = 0.81500155, step = 1000\n",
      "INFO:tensorflow:global_step/sec: 435.521\n",
      "INFO:tensorflow:loss = 0.8084918, step = 1100 (0.231 sec)\n",
      "INFO:tensorflow:global_step/sec: 600.808\n",
      "INFO:tensorflow:loss = 0.78091955, step = 1200 (0.166 sec)\n",
      "INFO:tensorflow:global_step/sec: 608.136\n",
      "INFO:tensorflow:loss = 0.75943506, step = 1300 (0.164 sec)\n",
      "INFO:tensorflow:global_step/sec: 615.644\n",
      "INFO:tensorflow:loss = 0.7807152, step = 1400 (0.161 sec)\n",
      "INFO:tensorflow:global_step/sec: 615.643\n",
      "INFO:tensorflow:loss = 0.72056764, step = 1500 (0.163 sec)\n",
      "INFO:tensorflow:global_step/sec: 611.865\n",
      "INFO:tensorflow:loss = 0.73203707, step = 1600 (0.163 sec)\n",
      "INFO:tensorflow:global_step/sec: 608.136\n",
      "INFO:tensorflow:loss = 0.7208828, step = 1700 (0.164 sec)\n",
      "INFO:tensorflow:global_step/sec: 611.864\n",
      "INFO:tensorflow:loss = 0.709637, step = 1800 (0.163 sec)\n",
      "INFO:tensorflow:global_step/sec: 611.869\n",
      "INFO:tensorflow:loss = 0.68611807, step = 1900 (0.163 sec)\n",
      "INFO:tensorflow:global_step/sec: 611.866\n",
      "INFO:tensorflow:loss = 0.6858104, step = 2000 (0.163 sec)\n",
      "INFO:tensorflow:global_step/sec: 597.21\n",
      "INFO:tensorflow:loss = 0.6621789, step = 2100 (0.167 sec)\n",
      "INFO:tensorflow:global_step/sec: 604.45\n",
      "INFO:tensorflow:loss = 0.67006487, step = 2200 (0.165 sec)\n",
      "INFO:tensorflow:global_step/sec: 593.657\n",
      "INFO:tensorflow:loss = 0.6391032, step = 2300 (0.167 sec)\n",
      "INFO:tensorflow:global_step/sec: 608.135\n",
      "INFO:tensorflow:loss = 0.68975276, step = 2400 (0.164 sec)\n",
      "INFO:tensorflow:global_step/sec: 608.135\n",
      "INFO:tensorflow:loss = 0.64082855, step = 2500 (0.165 sec)\n",
      "INFO:tensorflow:global_step/sec: 604.448\n",
      "INFO:tensorflow:loss = 0.6310861, step = 2600 (0.165 sec)\n",
      "INFO:tensorflow:global_step/sec: 597.211\n",
      "INFO:tensorflow:loss = 0.5882001, step = 2700 (0.167 sec)\n",
      "INFO:tensorflow:global_step/sec: 583.243\n",
      "INFO:tensorflow:loss = 0.61463255, step = 2800 (0.171 sec)\n",
      "INFO:tensorflow:global_step/sec: 551.016\n",
      "INFO:tensorflow:loss = 0.6067278, step = 2900 (0.182 sec)\n",
      "INFO:tensorflow:global_step/sec: 530.5\n",
      "INFO:tensorflow:loss = 0.57826585, step = 3000 (0.187 sec)\n",
      "INFO:tensorflow:global_step/sec: 600.81\n",
      "INFO:tensorflow:loss = 0.59709495, step = 3100 (0.166 sec)\n",
      "INFO:tensorflow:global_step/sec: 547.991\n",
      "INFO:tensorflow:loss = 0.5958359, step = 3200 (0.182 sec)\n",
      "INFO:tensorflow:global_step/sec: 560.303\n",
      "INFO:tensorflow:loss = 0.5822428, step = 3300 (0.178 sec)\n",
      "INFO:tensorflow:global_step/sec: 611.868\n",
      "INFO:tensorflow:loss = 0.5917738, step = 3400 (0.163 sec)\n",
      "INFO:tensorflow:global_step/sec: 597.21\n",
      "INFO:tensorflow:loss = 0.59718627, step = 3500 (0.167 sec)\n",
      "INFO:tensorflow:global_step/sec: 600.81\n",
      "INFO:tensorflow:loss = 0.51466405, step = 3600 (0.165 sec)\n",
      "INFO:tensorflow:global_step/sec: 615.641\n",
      "INFO:tensorflow:loss = 0.5483537, step = 3700 (0.162 sec)\n",
      "INFO:tensorflow:global_step/sec: 619.469\n",
      "INFO:tensorflow:loss = 0.54899156, step = 3800 (0.162 sec)\n",
      "INFO:tensorflow:global_step/sec: 611.868\n",
      "INFO:tensorflow:loss = 0.5489711, step = 3900 (0.163 sec)\n",
      "INFO:tensorflow:global_step/sec: 608.135\n",
      "INFO:tensorflow:loss = 0.56967187, step = 4000 (0.163 sec)\n",
      "INFO:tensorflow:global_step/sec: 590.142\n",
      "INFO:tensorflow:loss = 0.5284185, step = 4100 (0.170 sec)\n",
      "INFO:tensorflow:global_step/sec: 542.034\n",
      "INFO:tensorflow:loss = 0.52495176, step = 4200 (0.184 sec)\n",
      "INFO:tensorflow:global_step/sec: 611.866\n",
      "INFO:tensorflow:loss = 0.506742, step = 4300 (0.163 sec)\n",
      "INFO:tensorflow:global_step/sec: 615.644\n",
      "INFO:tensorflow:loss = 0.5129175, step = 4400 (0.162 sec)\n",
      "INFO:tensorflow:global_step/sec: 608.135\n",
      "INFO:tensorflow:loss = 0.501765, step = 4500 (0.163 sec)\n",
      "INFO:tensorflow:global_step/sec: 612.137\n",
      "INFO:tensorflow:loss = 0.50547004, step = 4600 (0.164 sec)\n",
      "INFO:tensorflow:global_step/sec: 608.137\n",
      "INFO:tensorflow:loss = 0.5164312, step = 4700 (0.163 sec)\n",
      "INFO:tensorflow:global_step/sec: 611.866\n",
      "INFO:tensorflow:loss = 0.5359269, step = 4800 (0.164 sec)\n",
      "INFO:tensorflow:global_step/sec: 611.865\n",
      "INFO:tensorflow:loss = 0.49832606, step = 4900 (0.163 sec)\n",
      "INFO:tensorflow:global_step/sec: 611.868\n",
      "INFO:tensorflow:loss = 0.46823028, step = 5000 (0.163 sec)\n",
      "INFO:tensorflow:global_step/sec: 608.136\n",
      "INFO:tensorflow:loss = 0.4582962, step = 5100 (0.164 sec)\n",
      "INFO:tensorflow:global_step/sec: 608.134\n",
      "INFO:tensorflow:loss = 0.47611237, step = 5200 (0.163 sec)\n",
      "INFO:tensorflow:global_step/sec: 608.134\n",
      "INFO:tensorflow:loss = 0.4540724, step = 5300 (0.165 sec)\n",
      "INFO:tensorflow:global_step/sec: 542.035\n",
      "INFO:tensorflow:loss = 0.4444468, step = 5400 (0.184 sec)\n",
      "INFO:tensorflow:global_step/sec: 600.808\n",
      "INFO:tensorflow:loss = 0.48178047, step = 5500 (0.166 sec)\n",
      "INFO:tensorflow:global_step/sec: 608.135\n",
      "INFO:tensorflow:loss = 0.4158524, step = 5600 (0.164 sec)\n",
      "INFO:tensorflow:global_step/sec: 608.136\n",
      "INFO:tensorflow:loss = 0.43012303, step = 5700 (0.164 sec)\n",
      "INFO:tensorflow:global_step/sec: 593.656\n",
      "INFO:tensorflow:loss = 0.4456878, step = 5800 (0.168 sec)\n",
      "INFO:tensorflow:global_step/sec: 611.866\n",
      "INFO:tensorflow:loss = 0.45791236, step = 5900 (0.163 sec)\n",
      "INFO:tensorflow:global_step/sec: 566.672\n",
      "INFO:tensorflow:loss = 0.4399773, step = 6000 (0.176 sec)\n",
      "INFO:tensorflow:global_step/sec: 635.25\n",
      "INFO:tensorflow:loss = 0.44612134, step = 6100 (0.157 sec)\n",
      "INFO:tensorflow:global_step/sec: 619.465\n",
      "INFO:tensorflow:loss = 0.42407167, step = 6200 (0.161 sec)\n",
      "INFO:tensorflow:global_step/sec: 631.23\n",
      "INFO:tensorflow:loss = 0.4463451, step = 6300 (0.158 sec)\n",
      "INFO:tensorflow:global_step/sec: 635.251\n",
      "INFO:tensorflow:loss = 0.42198813, step = 6400 (0.158 sec)\n",
      "INFO:tensorflow:global_step/sec: 608.134\n",
      "INFO:tensorflow:loss = 0.41197908, step = 6500 (0.162 sec)\n",
      "INFO:tensorflow:global_step/sec: 608.135\n",
      "INFO:tensorflow:loss = 0.41494817, step = 6600 (0.165 sec)\n",
      "INFO:tensorflow:global_step/sec: 604.45\n",
      "INFO:tensorflow:loss = 0.41133836, step = 6700 (0.164 sec)\n",
      "INFO:tensorflow:global_step/sec: 451.287\n",
      "INFO:tensorflow:loss = 0.4089964, step = 6800 (0.223 sec)\n",
      "INFO:tensorflow:global_step/sec: 554.079\n",
      "INFO:tensorflow:loss = 0.400378, step = 6900 (0.180 sec)\n",
      "INFO:tensorflow:global_step/sec: 600.809\n",
      "INFO:tensorflow:loss = 0.42108825, step = 7000 (0.167 sec)\n",
      "INFO:tensorflow:global_step/sec: 560.304\n",
      "INFO:tensorflow:loss = 0.38479617, step = 7100 (0.177 sec)\n",
      "INFO:tensorflow:global_step/sec: 586.671\n",
      "INFO:tensorflow:loss = 0.36227417, step = 7200 (0.170 sec)\n",
      "INFO:tensorflow:global_step/sec: 579.851\n",
      "INFO:tensorflow:loss = 0.38633254, step = 7300 (0.172 sec)\n",
      "INFO:tensorflow:global_step/sec: 563.47\n",
      "INFO:tensorflow:loss = 0.39454067, step = 7400 (0.177 sec)\n",
      "INFO:tensorflow:global_step/sec: 611.867\n",
      "INFO:tensorflow:loss = 0.42156756, step = 7500 (0.163 sec)\n",
      "INFO:tensorflow:global_step/sec: 569.91\n",
      "INFO:tensorflow:loss = 0.37304428, step = 7600 (0.175 sec)\n",
      "INFO:tensorflow:global_step/sec: 590.141\n",
      "INFO:tensorflow:loss = 0.38618675, step = 7700 (0.169 sec)\n",
      "INFO:tensorflow:global_step/sec: 583.242\n",
      "INFO:tensorflow:loss = 0.37021932, step = 7800 (0.171 sec)\n",
      "INFO:tensorflow:global_step/sec: 576.5\n",
      "INFO:tensorflow:loss = 0.3778176, step = 7900 (0.173 sec)\n",
      "INFO:tensorflow:global_step/sec: 586.668\n",
      "INFO:tensorflow:loss = 0.36669075, step = 8000 (0.172 sec)\n",
      "INFO:tensorflow:global_step/sec: 563.473\n",
      "INFO:tensorflow:loss = 0.3263068, step = 8100 (0.174 sec)\n",
      "INFO:tensorflow:global_step/sec: 593.655\n",
      "INFO:tensorflow:loss = 0.37125203, step = 8200 (0.169 sec)\n",
      "INFO:tensorflow:global_step/sec: 573.184\n",
      "INFO:tensorflow:loss = 0.38650975, step = 8300 (0.174 sec)\n",
      "INFO:tensorflow:global_step/sec: 583.242\n",
      "INFO:tensorflow:loss = 0.3613086, step = 8400 (0.171 sec)\n",
      "INFO:tensorflow:global_step/sec: 586.673\n",
      "INFO:tensorflow:loss = 0.35468352, step = 8500 (0.169 sec)\n",
      "INFO:tensorflow:global_step/sec: 635.248\n",
      "INFO:tensorflow:loss = 0.36556503, step = 8600 (0.158 sec)\n",
      "INFO:tensorflow:global_step/sec: 619.467\n",
      "INFO:tensorflow:loss = 0.35756207, step = 8700 (0.162 sec)\n",
      "INFO:tensorflow:global_step/sec: 611.868\n",
      "INFO:tensorflow:loss = 0.3462783, step = 8800 (0.164 sec)\n",
      "INFO:tensorflow:global_step/sec: 566.672\n"
     ]
    },
    {
     "name": "stdout",
     "output_type": "stream",
     "text": [
      "INFO:tensorflow:loss = 0.36364818, step = 8900 (0.174 sec)\n",
      "INFO:tensorflow:global_step/sec: 453.337\n",
      "INFO:tensorflow:loss = 0.36634204, step = 9000 (0.220 sec)\n",
      "INFO:tensorflow:global_step/sec: 403.782\n",
      "INFO:tensorflow:loss = 0.34842965, step = 9100 (0.249 sec)\n",
      "INFO:tensorflow:global_step/sec: 457.496\n",
      "INFO:tensorflow:loss = 0.36036336, step = 9200 (0.219 sec)\n",
      "INFO:tensorflow:global_step/sec: 530.501\n",
      "INFO:tensorflow:loss = 0.3360127, step = 9300 (0.189 sec)\n",
      "INFO:tensorflow:global_step/sec: 443.262\n",
      "INFO:tensorflow:loss = 0.32671094, step = 9400 (0.226 sec)\n",
      "INFO:tensorflow:global_step/sec: 519.45\n",
      "INFO:tensorflow:loss = 0.34393716, step = 9500 (0.192 sec)\n",
      "INFO:tensorflow:global_step/sec: 566.671\n",
      "INFO:tensorflow:loss = 0.34505722, step = 9600 (0.177 sec)\n",
      "INFO:tensorflow:global_step/sec: 586.673\n",
      "INFO:tensorflow:loss = 0.3315487, step = 9700 (0.170 sec)\n",
      "INFO:tensorflow:global_step/sec: 566.671\n",
      "INFO:tensorflow:loss = 0.34463927, step = 9800 (0.176 sec)\n",
      "INFO:tensorflow:global_step/sec: 551.016\n",
      "INFO:tensorflow:loss = 0.29834682, step = 9900 (0.181 sec)\n",
      "INFO:tensorflow:global_step/sec: 583.243\n",
      "INFO:tensorflow:loss = 0.3365919, step = 10000 (0.170 sec)\n",
      "INFO:tensorflow:global_step/sec: 551.018\n",
      "INFO:tensorflow:loss = 0.33477548, step = 10100 (0.182 sec)\n",
      "INFO:tensorflow:global_step/sec: 563.469\n",
      "INFO:tensorflow:loss = 0.32415906, step = 10200 (0.178 sec)\n",
      "INFO:tensorflow:global_step/sec: 583.241\n",
      "INFO:tensorflow:loss = 0.33824256, step = 10300 (0.170 sec)\n",
      "INFO:tensorflow:global_step/sec: 566.673\n",
      "INFO:tensorflow:loss = 0.3057184, step = 10400 (0.177 sec)\n",
      "INFO:tensorflow:global_step/sec: 586.671\n",
      "INFO:tensorflow:loss = 0.32231462, step = 10500 (0.169 sec)\n",
      "INFO:tensorflow:global_step/sec: 557.176\n",
      "INFO:tensorflow:loss = 0.32087716, step = 10600 (0.180 sec)\n",
      "INFO:tensorflow:global_step/sec: 563.468\n",
      "INFO:tensorflow:loss = 0.3328339, step = 10700 (0.176 sec)\n",
      "INFO:tensorflow:global_step/sec: 579.85\n",
      "INFO:tensorflow:loss = 0.30917317, step = 10800 (0.172 sec)\n",
      "INFO:tensorflow:global_step/sec: 566.671\n",
      "INFO:tensorflow:loss = 0.2892636, step = 10900 (0.176 sec)\n",
      "INFO:tensorflow:Saving checkpoints for 11000 into ./model_custom\\model.ckpt.\n",
      "INFO:tensorflow:Loss for final step: 0.2939062.\n"
     ]
    },
    {
     "data": {
      "text/plain": [
       "<tensorflow.python.estimator.estimator.Estimator at 0x153ab2a2828>"
      ]
     },
     "execution_count": 43,
     "metadata": {},
     "output_type": "execute_result"
    }
   ],
   "source": [
    "risi_classes.train(input_fn=lambda:train_input_fn(train_x,train_y,100),steps=10000)"
   ]
  },
  {
   "cell_type": "code",
   "execution_count": 44,
   "metadata": {},
   "outputs": [
    {
     "name": "stdout",
     "output_type": "stream",
     "text": [
      "INFO:tensorflow:Calling model_fn.\n",
      "INFO:tensorflow:Done calling model_fn.\n",
      "INFO:tensorflow:Starting evaluation at 2018-08-07-07:54:34\n",
      "INFO:tensorflow:Graph was finalized.\n",
      "INFO:tensorflow:Restoring parameters from ./model_custom\\model.ckpt-11000\n",
      "INFO:tensorflow:Running local_init_op.\n",
      "INFO:tensorflow:Done running local_init_op.\n",
      "INFO:tensorflow:Finished evaluation at 2018-08-07-07:54:35\n",
      "INFO:tensorflow:Saving dict for global step 11000: accuracy = 0.93333334, global_step = 11000, loss = 0.3808279\n",
      "INFO:tensorflow:Saving 'checkpoint_path' summary for global step 11000: ./model_custom\\model.ckpt-11000\n",
      "{'accuracy': 0.93333334, 'loss': 0.3808279, 'global_step': 11000}\n"
     ]
    }
   ],
   "source": [
    "eval_result = risi_classes.evaluate(input_fn=lambda:eval_input_fn(test_x,test_y,100))\n",
    "print(eval_result)"
   ]
  },
  {
   "cell_type": "code",
   "execution_count": 45,
   "metadata": {
    "collapsed": true
   },
   "outputs": [],
   "source": [
    "# Generate predictions from the model\n",
    "expected = ['Setosa', 'Versicolor', 'Virginica']\n",
    "predict_x = {\n",
    "    'SepalLength': [5.1, 5.9, 6.9],\n",
    "    'SepalWidth': [3.3, 3.0, 3.1],\n",
    "    'PetalLength': [1.7, 4.2, 5.4],\n",
    "    'PetalWidth': [0.5, 1.5, 2.1],\n",
    "}"
   ]
  },
  {
   "cell_type": "code",
   "execution_count": 51,
   "metadata": {},
   "outputs": [
    {
     "name": "stdout",
     "output_type": "stream",
     "text": [
      "INFO:tensorflow:Calling model_fn.\n",
      "INFO:tensorflow:Done calling model_fn.\n",
      "INFO:tensorflow:Graph was finalized.\n",
      "INFO:tensorflow:Restoring parameters from ./model_custom\\model.ckpt-11000\n",
      "INFO:tensorflow:Running local_init_op.\n",
      "INFO:tensorflow:Done running local_init_op.\n",
      "\n",
      "Prediction is \"Setosa\" (85.8%), expected \"Setosa\"\n",
      "\n",
      "Prediction is \"Versicolor\" (53.3%), expected \"Versicolor\"\n",
      "\n",
      "Prediction is \"Virginica\" (69.4%), expected \"Virginica\"\n"
     ]
    }
   ],
   "source": [
    "predictions = risi_classes.predict(input_fn=lambda:eval_input_fn(features=predict_x,labels=None,batch_size=100))\n",
    "\n",
    "for pred_dict,expec in zip(predictions,expected):\n",
    "    template = ('\\nPrediction is \"{}\" ({:.1f}%), expected \"{}\"')\n",
    "    class_id = pred_dict['class_ids'][0]\n",
    "    probability = pred_dict['probabilities'][class_id]\n",
    "    \n",
    "    print(template.format(iris_data.SPECIES[class_id],\n",
    "                              100 * probability, expec))\n",
    "    "
   ]
  },
  {
   "cell_type": "code",
   "execution_count": null,
   "metadata": {
    "collapsed": true
   },
   "outputs": [],
   "source": []
  }
 ],
 "metadata": {
  "kernelspec": {
   "display_name": "Python 3",
   "language": "python",
   "name": "python3"
  },
  "language_info": {
   "codemirror_mode": {
    "name": "ipython",
    "version": 3
   },
   "file_extension": ".py",
   "mimetype": "text/x-python",
   "name": "python",
   "nbconvert_exporter": "python",
   "pygments_lexer": "ipython3",
   "version": "3.6.2"
  }
 },
 "nbformat": 4,
 "nbformat_minor": 2
}
