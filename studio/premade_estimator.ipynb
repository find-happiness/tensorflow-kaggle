{
 "cells": [
  {
   "cell_type": "code",
   "execution_count": 1,
   "metadata": {},
   "outputs": [
    {
     "name": "stderr",
     "output_type": "stream",
     "text": [
      "E:\\Anaconda3_5_0_0\\lib\\site-packages\\h5py\\__init__.py:34: FutureWarning: Conversion of the second argument of issubdtype from `float` to `np.floating` is deprecated. In future, it will be treated as `np.float64 == np.dtype(float).type`.\n",
      "  from ._conv import register_converters as _register_converters\n"
     ]
    }
   ],
   "source": [
    "import tensorflow as tf\n",
    "\n",
    "from tensorflow.python.framework import ops\n",
    "\n",
    "ops.reset_default_graph()"
   ]
  },
  {
   "cell_type": "code",
   "execution_count": 2,
   "metadata": {
    "collapsed": true
   },
   "outputs": [],
   "source": [
    "feature_clum = []\n",
    "for i in range(28*28):\n",
    "    feature_clum.append(tf.feature_column.numeric_column(key=( \"pixel%d\" % i )))"
   ]
  },
  {
   "cell_type": "code",
   "execution_count": 3,
   "metadata": {},
   "outputs": [
    {
     "name": "stdout",
     "output_type": "stream",
     "text": [
      "INFO:tensorflow:Using config: {'_model_dir': './model', '_tf_random_seed': None, '_save_summary_steps': 100, '_save_checkpoints_steps': None, '_save_checkpoints_secs': 600, '_session_config': None, '_keep_checkpoint_max': 5, '_keep_checkpoint_every_n_hours': 10000, '_log_step_count_steps': 100, '_train_distribute': None, '_device_fn': None, '_service': None, '_cluster_spec': <tensorflow.python.training.server_lib.ClusterSpec object at 0x000002ECDCE6D240>, '_task_type': 'worker', '_task_id': 0, '_global_id_in_cluster': 0, '_master': '', '_evaluation_master': '', '_is_chief': True, '_num_ps_replicas': 0, '_num_worker_replicas': 1}\n"
     ]
    }
   ],
   "source": [
    "runConfig = tf.estimator.RunConfig(model_dir=\"./model\")\n",
    "\n",
    "digit_class = tf.estimator.DNNClassifier(feature_columns=feature_clum,\n",
    "                                         hidden_units=[10,10],n_classes = 10,config=runConfig)"
   ]
  },
  {
   "cell_type": "code",
   "execution_count": 4,
   "metadata": {
    "collapsed": true
   },
   "outputs": [],
   "source": [
    "DATA_TYPE = [[0]] * (28*28 +1)\n",
    "CSV_COLUMN_NAMES = [\"pixel%d\" % i for i in range(28 * 28)]\n",
    "CSV_COLUMN_NAMES.insert(0,\"label\")"
   ]
  },
  {
   "cell_type": "code",
   "execution_count": 5,
   "metadata": {
    "collapsed": true
   },
   "outputs": [],
   "source": [
    "def _parse_train_line(line):\n",
    "    field = tf.decode_csv(line,record_defaults=DATA_TYPE)\n",
    "    \n",
    "    features = dict(zip(CSV_COLUMN_NAMES,field))\n",
    "    \n",
    "    label = features.pop(\"label\")\n",
    "    \n",
    "    return features,label"
   ]
  },
  {
   "cell_type": "code",
   "execution_count": 6,
   "metadata": {
    "collapsed": true
   },
   "outputs": [],
   "source": [
    "def csv_load(csv_path,skip,batch_size,parse_fn):\n",
    "    dataset_digit = tf.data.TextLineDataset(csv_path).skip(skip)\n",
    "    tf.logging.info(\"run csv load\")\n",
    "    dataset_digit = dataset_digit.map(parse_fn)\n",
    "    dataset_digit = dataset_digit.shuffle(1000).batch(batch_size)\n",
    "    return dataset_digit.make_one_shot_iterator().get_next()\n",
    "    "
   ]
  },
  {
   "cell_type": "code",
   "execution_count": 7,
   "metadata": {
    "collapsed": true
   },
   "outputs": [],
   "source": [
    "def input_fn_train(batch_size):\n",
    "    return csv_load(\"../digit-recognizer/train.csv\",10001,batch_size,_parse_train_line)"
   ]
  },
  {
   "cell_type": "code",
   "execution_count": 8,
   "metadata": {},
   "outputs": [
    {
     "name": "stdout",
     "output_type": "stream",
     "text": [
      "INFO:tensorflow:run csv load\n",
      "INFO:tensorflow:Calling model_fn.\n",
      "INFO:tensorflow:Done calling model_fn.\n",
      "INFO:tensorflow:Create CheckpointSaverHook.\n",
      "INFO:tensorflow:Graph was finalized.\n",
      "INFO:tensorflow:Running local_init_op.\n",
      "INFO:tensorflow:Done running local_init_op.\n",
      "INFO:tensorflow:Saving checkpoints for 0 into ./model\\model.ckpt.\n",
      "INFO:tensorflow:loss = 7870.9526, step = 0\n",
      "INFO:tensorflow:global_step/sec: 6.19121\n",
      "INFO:tensorflow:loss = 227.85715, step = 100 (16.153 sec)\n",
      "INFO:tensorflow:global_step/sec: 7.63954\n",
      "INFO:tensorflow:loss = 232.88184, step = 200 (13.090 sec)\n",
      "INFO:tensorflow:global_step/sec: 7.57054\n",
      "INFO:tensorflow:loss = 223.49979, step = 300 (13.209 sec)\n",
      "INFO:tensorflow:Saving checkpoints for 320 into ./model\\model.ckpt.\n",
      "INFO:tensorflow:Loss for final step: 229.04874.\n"
     ]
    },
    {
     "data": {
      "text/plain": [
       "<tensorflow.python.estimator.canned.dnn.DNNClassifier at 0x2ecdce6d208>"
      ]
     },
     "execution_count": 8,
     "metadata": {},
     "output_type": "execute_result"
    }
   ],
   "source": [
    "digit_class.train(input_fn=lambda:input_fn_train(100),steps=10000)"
   ]
  },
  {
   "cell_type": "code",
   "execution_count": 9,
   "metadata": {},
   "outputs": [
    {
     "name": "stdout",
     "output_type": "stream",
     "text": [
      "INFO:tensorflow:Calling model_fn.\n",
      "INFO:tensorflow:Done calling model_fn.\n",
      "INFO:tensorflow:Starting evaluation at 2018-08-07-02:30:59\n",
      "INFO:tensorflow:Graph was finalized.\n",
      "INFO:tensorflow:Restoring parameters from ./model\\model.ckpt-320\n",
      "INFO:tensorflow:Running local_init_op.\n",
      "INFO:tensorflow:Done running local_init_op.\n",
      "INFO:tensorflow:Finished evaluation at 2018-08-07-02:31:15\n",
      "INFO:tensorflow:Saving dict for global step 320: accuracy = 0.1509, average_loss = 2.2365792, global_step = 320, loss = 223.65793\n",
      "INFO:tensorflow:Saving 'checkpoint_path' summary for global step 320: ./model\\model.ckpt-320\n",
      "{'accuracy': 0.1509, 'average_loss': 2.2365792, 'loss': 223.65793, 'global_step': 320}\n"
     ]
    }
   ],
   "source": [
    "def input_fn_eval(batch_size):\n",
    "    test_digit_dataset = tf.data.TextLineDataset(\"../digit-recognizer/train.csv\").skip(1).take(10000).map(_parse_train_line).shuffle(1000).batch(batch_size)\n",
    "    return test_digit_dataset.make_one_shot_iterator().get_next()\n",
    "\n",
    "eval_result = digit_class.evaluate(input_fn=lambda:input_fn_eval(100))\n",
    "print(eval_result)"
   ]
  },
  {
   "cell_type": "code",
   "execution_count": null,
   "metadata": {
    "collapsed": true
   },
   "outputs": [],
   "source": []
  }
 ],
 "metadata": {
  "kernelspec": {
   "display_name": "Python 3",
   "language": "python",
   "name": "python3"
  },
  "language_info": {
   "codemirror_mode": {
    "name": "ipython",
    "version": 3
   },
   "file_extension": ".py",
   "mimetype": "text/x-python",
   "name": "python",
   "nbconvert_exporter": "python",
   "pygments_lexer": "ipython3",
   "version": "3.6.2"
  }
 },
 "nbformat": 4,
 "nbformat_minor": 2
}
