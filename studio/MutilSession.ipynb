{
 "cells": [
  {
   "cell_type": "code",
   "execution_count": 2,
   "metadata": {},
   "outputs": [],
   "source": [
    "import tensorflow as tf\n",
    "from tensorflow.python.framework import ops"
   ]
  },
  {
   "cell_type": "code",
   "execution_count": 11,
   "metadata": {},
   "outputs": [
    {
     "name": "stdout",
     "output_type": "stream",
     "text": [
      "4\n",
      "10\n"
     ]
    }
   ],
   "source": [
    "# with ops.Graph().as_default() as g:\n",
    "#     c = tf.constant(1)\n",
    "#     b = tf.constant(3)\n",
    "    \n",
    "#     a = tf.add(c,b)\n",
    "    \n",
    "#     with tf.Session(graph=g) as sess:\n",
    "#         print(sess.run(a))\n",
    "\n",
    "# with ops.Graph().as_default() as g2:\n",
    "#     e = tf.constant(6)\n",
    "#     f = tf.constant(4)\n",
    "    \n",
    "#     x = tf.add(e,f)\n",
    "    \n",
    "#     with tf.Session(graph=g2) as sess2:\n",
    "#         print(sess2.run(x))\n",
    "\n",
    "g1 = ops.Graph()\n",
    "with g1.as_default():\n",
    "    c = tf.constant(1)\n",
    "    b = tf.constant(3)\n",
    "    a = tf.add(c,b)\n",
    "    \n",
    "sess1 = tf.Session(graph=g1)\n",
    "print(sess1.run(a))\n",
    "\n",
    "g2 = ops.Graph()\n",
    "with g2.as_default():\n",
    "    e = tf.constant(6)\n",
    "    f = tf.constant(4)\n",
    "    x = tf.add(e,f)\n",
    "\n",
    "sess2 = tf.Session(graph=g2)\n",
    "print(sess2.run(x))\n",
    "\n"
   ]
  },
  {
   "cell_type": "code",
   "execution_count": null,
   "metadata": {
    "collapsed": true
   },
   "outputs": [],
   "source": []
  }
 ],
 "metadata": {
  "kernelspec": {
   "display_name": "Python 3",
   "language": "python",
   "name": "python3"
  },
  "language_info": {
   "codemirror_mode": {
    "name": "ipython",
    "version": 3
   },
   "file_extension": ".py",
   "mimetype": "text/x-python",
   "name": "python",
   "nbconvert_exporter": "python",
   "pygments_lexer": "ipython3",
   "version": "3.6.2"
  }
 },
 "nbformat": 4,
 "nbformat_minor": 2
}
