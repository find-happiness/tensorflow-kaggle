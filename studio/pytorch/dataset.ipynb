{
 "cells": [
  {
   "cell_type": "code",
   "execution_count": 4,
   "metadata": {},
   "outputs": [],
   "source": [
    "import torch as T\n",
    "from torchvision.datasets import ImageFolder\n",
    "from torchvision.transforms import Resize,ToTensor,ToPILImage,CenterCrop,Compose\n",
    "from torch.utils import data"
   ]
  },
  {
   "cell_type": "code",
   "execution_count": 5,
   "metadata": {},
   "outputs": [],
   "source": [
    "?? data.dataset"
   ]
  },
  {
   "cell_type": "code",
   "execution_count": 11,
   "metadata": {},
   "outputs": [],
   "source": [
    "import os\n",
    "from PIL import Image\n",
    "import numpy as np"
   ]
  },
  {
   "cell_type": "code",
   "execution_count": 9,
   "metadata": {},
   "outputs": [
    {
     "data": {
      "text/plain": [
       "['./data/dogcat/cat.12484.jpg',\n",
       " './data/dogcat/cat.12485.jpg',\n",
       " './data/dogcat/cat.12486.jpg',\n",
       " './data/dogcat/cat.12487.jpg',\n",
       " './data/dogcat/dog.12496.jpg',\n",
       " './data/dogcat/dog.12497.jpg',\n",
       " './data/dogcat/dog.12498.jpg',\n",
       " './data/dogcat/dog.12499.jpg']"
      ]
     },
     "execution_count": 9,
     "metadata": {},
     "output_type": "execute_result"
    }
   ],
   "source": [
    "dirs = os.listdir(\"./data/dogcat/\")\n",
    "imgs = [os.path.join(\"./data/dogcat/\",item) for item in dirs]\n",
    "imgs"
   ]
  },
  {
   "cell_type": "code",
   "execution_count": 15,
   "metadata": {},
   "outputs": [],
   "source": [
    "class MyDataSets(data.Dataset):\n",
    "    def __init__(self):\n",
    "        dirs = os.listdir(\"./data/dogcat/\")\n",
    "        self.imgs = [os.path.join(\"./data/dogcat/\",item) for item in dirs]\n",
    "    def __getitem__(self, index):\n",
    "        name = self.imgs[index]\n",
    "        label = 1 if 'dog' in name.split('/')[-1] else 0\n",
    "        pil_img = Image.open(self.imgs[index])\n",
    "        img_array = np.asarray(pil_img)\n",
    "        data = T.from_numpy(img_array)\n",
    "        return data,label\n",
    "\n",
    "    def __len__(self):\n",
    "        return len(self.imgs)\n"
   ]
  },
  {
   "cell_type": "code",
   "execution_count": 16,
   "metadata": {},
   "outputs": [],
   "source": [
    "dog_cat_datasets = MyDataSets()"
   ]
  },
  {
   "cell_type": "code",
   "execution_count": 20,
   "metadata": {},
   "outputs": [
    {
     "data": {
      "text/plain": [
       "torch.Size([500, 497, 3])"
      ]
     },
     "execution_count": 20,
     "metadata": {},
     "output_type": "execute_result"
    }
   ],
   "source": [
    "data,label = dog_cat_datasets[0]\n",
    "data.size()"
   ]
  },
  {
   "cell_type": "code",
   "execution_count": null,
   "metadata": {},
   "outputs": [],
   "source": []
  }
 ],
 "metadata": {
  "kernelspec": {
   "display_name": "Python 3",
   "language": "python",
   "name": "python3"
  },
  "language_info": {
   "codemirror_mode": {
    "name": "ipython",
    "version": 3
   },
   "file_extension": ".py",
   "mimetype": "text/x-python",
   "name": "python",
   "nbconvert_exporter": "python",
   "pygments_lexer": "ipython3",
   "version": "3.6.2"
  }
 },
 "nbformat": 4,
 "nbformat_minor": 2
}
