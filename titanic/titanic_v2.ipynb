{
 "cells": [
  {
   "cell_type": "code",
   "execution_count": null,
   "metadata": {},
   "outputs": [],
   "source": [
    "import os\n",
    "\n",
    "import numpy as np\n",
    "import pandas as pd\n",
    "import tensorflow.keras as keras\n",
    "from sklearn.model_selection import train_test_split\n",
    "import matplotlib.pyplot as plt\n",
    "\n",
    "DIR_TRAIN = os.getcwd() + \"\\\\data\\\\train.csv\"\n",
    "DIR_TEST = os.getcwd() + \"\\\\data\\\\test.csv\"\n",
    "\n",
    "test_names = ['PassengerId', 'Pclass', 'Name', 'Sex', 'Age', 'SibSp', 'Parch', 'Ticket', 'Fare', 'Cabin', 'Embarked']\n",
    "train_names = ['PassengerId', 'Survived', 'Pclass', 'Name', 'Sex', 'Age', 'SibSp', 'Parch', 'Ticket', 'Fare', 'Cabin',\n",
    "               'Embarked']"
   ]
  },
  {
   "cell_type": "code",
   "execution_count": null,
   "metadata": {
    "collapsed": true
   },
   "outputs": [],
   "source": [
    "def loadData(is_train, dir):\n",
    "    if is_train:\n",
    "        names = train_names\n",
    "    else:\n",
    "        names = test_names\n",
    "    data = pd.read_csv(dir, header=0, names=names)\n",
    "    return data"
   ]
  },
  {
   "cell_type": "code",
   "execution_count": 3,
   "metadata": {
    "collapsed": true
   },
   "outputs": [],
   "source": [
    "def splitData(datas, labels, splite):\n",
    "    return train_test_split(datas, labels, test_size=splite, random_state=42)"
   ]
  },
  {
   "cell_type": "code",
   "execution_count": 4,
   "metadata": {
    "collapsed": true
   },
   "outputs": [],
   "source": [
    "data_train = loadData(is_train=True, dir=DIR_TRAIN)"
   ]
  },
  {
   "cell_type": "code",
   "execution_count": 5,
   "metadata": {
    "collapsed": true
   },
   "outputs": [],
   "source": [
    "data_test = loadData(is_train=False,dir=DIR_TEST)"
   ]
  },
  {
   "cell_type": "code",
   "execution_count": 6,
   "metadata": {
    "collapsed": true
   },
   "outputs": [],
   "source": [
    "x_train = data_train.drop(['PassengerId','Ticket','Survived','Cabin'],axis = 1)\n",
    "y_train = data_train['Survived']"
   ]
  },
  {
   "cell_type": "code",
   "execution_count": 7,
   "metadata": {},
   "outputs": [
    {
     "name": "stdout",
     "output_type": "stream",
     "text": [
      "   Pclass                                               Name     Sex   Age  \\\n",
      "0       3                            Braund, Mr. Owen Harris    male  22.0   \n",
      "1       1  Cumings, Mrs. John Bradley (Florence Briggs Th...  female  38.0   \n",
      "2       3                             Heikkinen, Miss. Laina  female  26.0   \n",
      "3       1       Futrelle, Mrs. Jacques Heath (Lily May Peel)  female  35.0   \n",
      "4       3                           Allen, Mr. William Henry    male  35.0   \n",
      "\n",
      "   SibSp  Parch     Fare Embarked  \n",
      "0      1      0   7.2500        S  \n",
      "1      1      0  71.2833        C  \n",
      "2      0      0   7.9250        S  \n",
      "3      1      0  53.1000        S  \n",
      "4      0      0   8.0500        S  \n",
      "0    0\n",
      "1    1\n",
      "2    1\n",
      "3    1\n",
      "4    0\n",
      "Name: Survived, dtype: int64\n"
     ]
    }
   ],
   "source": [
    "print(x_train.head())\n",
    "print(y_train.head())"
   ]
  },
  {
   "cell_type": "code",
   "execution_count": 8,
   "metadata": {
    "collapsed": true
   },
   "outputs": [],
   "source": [
    "x_val = data_test.drop(['PassengerId','Ticket','Cabin'],axis=1)"
   ]
  },
  {
   "cell_type": "code",
   "execution_count": 9,
   "metadata": {},
   "outputs": [
    {
     "name": "stdout",
     "output_type": "stream",
     "text": [
      "(891, 8)\n",
      "(418, 8)\n",
      "(1309, 8)\n"
     ]
    }
   ],
   "source": [
    "print(x_train.shape)\n",
    "print(x_val.shape)\n",
    "data = x_train.append(x_val)\n",
    "print(data.shape)"
   ]
  },
  {
   "cell_type": "code",
   "execution_count": 10,
   "metadata": {},
   "outputs": [
    {
     "data": {
      "text/html": [
       "<div>\n",
       "<style>\n",
       "    .dataframe thead tr:only-child th {\n",
       "        text-align: right;\n",
       "    }\n",
       "\n",
       "    .dataframe thead th {\n",
       "        text-align: left;\n",
       "    }\n",
       "\n",
       "    .dataframe tbody tr th {\n",
       "        vertical-align: top;\n",
       "    }\n",
       "</style>\n",
       "<table border=\"1\" class=\"dataframe\">\n",
       "  <thead>\n",
       "    <tr style=\"text-align: right;\">\n",
       "      <th></th>\n",
       "      <th>Pclass</th>\n",
       "      <th>Name</th>\n",
       "      <th>Sex</th>\n",
       "      <th>Age</th>\n",
       "      <th>SibSp</th>\n",
       "      <th>Parch</th>\n",
       "      <th>Fare</th>\n",
       "      <th>Embarked</th>\n",
       "    </tr>\n",
       "  </thead>\n",
       "  <tbody>\n",
       "    <tr>\n",
       "      <th>0</th>\n",
       "      <td>3</td>\n",
       "      <td>Braund, Mr. Owen Harris</td>\n",
       "      <td>male</td>\n",
       "      <td>22.0</td>\n",
       "      <td>1</td>\n",
       "      <td>0</td>\n",
       "      <td>7.2500</td>\n",
       "      <td>S</td>\n",
       "    </tr>\n",
       "    <tr>\n",
       "      <th>1</th>\n",
       "      <td>1</td>\n",
       "      <td>Cumings, Mrs. John Bradley (Florence Briggs Th...</td>\n",
       "      <td>female</td>\n",
       "      <td>38.0</td>\n",
       "      <td>1</td>\n",
       "      <td>0</td>\n",
       "      <td>71.2833</td>\n",
       "      <td>C</td>\n",
       "    </tr>\n",
       "    <tr>\n",
       "      <th>2</th>\n",
       "      <td>3</td>\n",
       "      <td>Heikkinen, Miss. Laina</td>\n",
       "      <td>female</td>\n",
       "      <td>26.0</td>\n",
       "      <td>0</td>\n",
       "      <td>0</td>\n",
       "      <td>7.9250</td>\n",
       "      <td>S</td>\n",
       "    </tr>\n",
       "    <tr>\n",
       "      <th>3</th>\n",
       "      <td>1</td>\n",
       "      <td>Futrelle, Mrs. Jacques Heath (Lily May Peel)</td>\n",
       "      <td>female</td>\n",
       "      <td>35.0</td>\n",
       "      <td>1</td>\n",
       "      <td>0</td>\n",
       "      <td>53.1000</td>\n",
       "      <td>S</td>\n",
       "    </tr>\n",
       "    <tr>\n",
       "      <th>4</th>\n",
       "      <td>3</td>\n",
       "      <td>Allen, Mr. William Henry</td>\n",
       "      <td>male</td>\n",
       "      <td>35.0</td>\n",
       "      <td>0</td>\n",
       "      <td>0</td>\n",
       "      <td>8.0500</td>\n",
       "      <td>S</td>\n",
       "    </tr>\n",
       "  </tbody>\n",
       "</table>\n",
       "</div>"
      ],
      "text/plain": [
       "   Pclass                                               Name     Sex   Age  \\\n",
       "0       3                            Braund, Mr. Owen Harris    male  22.0   \n",
       "1       1  Cumings, Mrs. John Bradley (Florence Briggs Th...  female  38.0   \n",
       "2       3                             Heikkinen, Miss. Laina  female  26.0   \n",
       "3       1       Futrelle, Mrs. Jacques Heath (Lily May Peel)  female  35.0   \n",
       "4       3                           Allen, Mr. William Henry    male  35.0   \n",
       "\n",
       "   SibSp  Parch     Fare Embarked  \n",
       "0      1      0   7.2500        S  \n",
       "1      1      0  71.2833        C  \n",
       "2      0      0   7.9250        S  \n",
       "3      1      0  53.1000        S  \n",
       "4      0      0   8.0500        S  "
      ]
     },
     "execution_count": 10,
     "metadata": {},
     "output_type": "execute_result"
    }
   ],
   "source": [
    "data.head()"
   ]
  },
  {
   "cell_type": "code",
   "execution_count": 11,
   "metadata": {},
   "outputs": [
    {
     "data": {
      "text/html": [
       "<div>\n",
       "<style>\n",
       "    .dataframe thead tr:only-child th {\n",
       "        text-align: right;\n",
       "    }\n",
       "\n",
       "    .dataframe thead th {\n",
       "        text-align: left;\n",
       "    }\n",
       "\n",
       "    .dataframe tbody tr th {\n",
       "        vertical-align: top;\n",
       "    }\n",
       "</style>\n",
       "<table border=\"1\" class=\"dataframe\">\n",
       "  <thead>\n",
       "    <tr style=\"text-align: right;\">\n",
       "      <th></th>\n",
       "      <th>Pclass</th>\n",
       "      <th>Name</th>\n",
       "      <th>Sex</th>\n",
       "      <th>Age</th>\n",
       "      <th>SibSp</th>\n",
       "      <th>Parch</th>\n",
       "      <th>Fare</th>\n",
       "      <th>Embarked</th>\n",
       "      <th>Title</th>\n",
       "    </tr>\n",
       "  </thead>\n",
       "  <tbody>\n",
       "    <tr>\n",
       "      <th>105</th>\n",
       "      <td>3</td>\n",
       "      <td>Holthen, Mr. Johan Martin</td>\n",
       "      <td>male</td>\n",
       "      <td>28.00</td>\n",
       "      <td>0</td>\n",
       "      <td>0</td>\n",
       "      <td>22.5250</td>\n",
       "      <td>S</td>\n",
       "      <td>Mr</td>\n",
       "    </tr>\n",
       "    <tr>\n",
       "      <th>241</th>\n",
       "      <td>3</td>\n",
       "      <td>Murphy, Miss. Katherine \"Kate\"</td>\n",
       "      <td>female</td>\n",
       "      <td>NaN</td>\n",
       "      <td>1</td>\n",
       "      <td>0</td>\n",
       "      <td>15.5000</td>\n",
       "      <td>Q</td>\n",
       "      <td>Miss</td>\n",
       "    </tr>\n",
       "    <tr>\n",
       "      <th>880</th>\n",
       "      <td>2</td>\n",
       "      <td>Shelley, Mrs. William (Imanita Parrish Hall)</td>\n",
       "      <td>female</td>\n",
       "      <td>25.00</td>\n",
       "      <td>0</td>\n",
       "      <td>1</td>\n",
       "      <td>26.0000</td>\n",
       "      <td>S</td>\n",
       "      <td>Mrs</td>\n",
       "    </tr>\n",
       "    <tr>\n",
       "      <th>644</th>\n",
       "      <td>3</td>\n",
       "      <td>Baclini, Miss. Eugenie</td>\n",
       "      <td>female</td>\n",
       "      <td>0.75</td>\n",
       "      <td>2</td>\n",
       "      <td>1</td>\n",
       "      <td>19.2583</td>\n",
       "      <td>C</td>\n",
       "      <td>Miss</td>\n",
       "    </tr>\n",
       "    <tr>\n",
       "      <th>156</th>\n",
       "      <td>1</td>\n",
       "      <td>Bird, Miss. Ellen</td>\n",
       "      <td>female</td>\n",
       "      <td>29.00</td>\n",
       "      <td>0</td>\n",
       "      <td>0</td>\n",
       "      <td>221.7792</td>\n",
       "      <td>S</td>\n",
       "      <td>Miss</td>\n",
       "    </tr>\n",
       "    <tr>\n",
       "      <th>322</th>\n",
       "      <td>2</td>\n",
       "      <td>Slayter, Miss. Hilda Mary</td>\n",
       "      <td>female</td>\n",
       "      <td>30.00</td>\n",
       "      <td>0</td>\n",
       "      <td>0</td>\n",
       "      <td>12.3500</td>\n",
       "      <td>Q</td>\n",
       "      <td>Miss</td>\n",
       "    </tr>\n",
       "    <tr>\n",
       "      <th>792</th>\n",
       "      <td>3</td>\n",
       "      <td>Sage, Miss. Stella Anna</td>\n",
       "      <td>female</td>\n",
       "      <td>NaN</td>\n",
       "      <td>8</td>\n",
       "      <td>2</td>\n",
       "      <td>69.5500</td>\n",
       "      <td>S</td>\n",
       "      <td>Miss</td>\n",
       "    </tr>\n",
       "    <tr>\n",
       "      <th>291</th>\n",
       "      <td>1</td>\n",
       "      <td>Bishop, Mrs. Dickinson H (Helen Walton)</td>\n",
       "      <td>female</td>\n",
       "      <td>19.00</td>\n",
       "      <td>1</td>\n",
       "      <td>0</td>\n",
       "      <td>91.0792</td>\n",
       "      <td>C</td>\n",
       "      <td>Mrs</td>\n",
       "    </tr>\n",
       "    <tr>\n",
       "      <th>149</th>\n",
       "      <td>2</td>\n",
       "      <td>Byles, Rev. Thomas Roussel Davids</td>\n",
       "      <td>male</td>\n",
       "      <td>42.00</td>\n",
       "      <td>0</td>\n",
       "      <td>0</td>\n",
       "      <td>13.0000</td>\n",
       "      <td>S</td>\n",
       "      <td>Rev</td>\n",
       "    </tr>\n",
       "    <tr>\n",
       "      <th>242</th>\n",
       "      <td>1</td>\n",
       "      <td>Spedden, Mr. Frederic Oakley</td>\n",
       "      <td>male</td>\n",
       "      <td>45.00</td>\n",
       "      <td>1</td>\n",
       "      <td>1</td>\n",
       "      <td>134.5000</td>\n",
       "      <td>C</td>\n",
       "      <td>Mr</td>\n",
       "    </tr>\n",
       "    <tr>\n",
       "      <th>853</th>\n",
       "      <td>1</td>\n",
       "      <td>Lines, Miss. Mary Conover</td>\n",
       "      <td>female</td>\n",
       "      <td>16.00</td>\n",
       "      <td>0</td>\n",
       "      <td>1</td>\n",
       "      <td>39.4000</td>\n",
       "      <td>S</td>\n",
       "      <td>Miss</td>\n",
       "    </tr>\n",
       "    <tr>\n",
       "      <th>596</th>\n",
       "      <td>2</td>\n",
       "      <td>Leitch, Miss. Jessie Wills</td>\n",
       "      <td>female</td>\n",
       "      <td>NaN</td>\n",
       "      <td>0</td>\n",
       "      <td>0</td>\n",
       "      <td>33.0000</td>\n",
       "      <td>S</td>\n",
       "      <td>Miss</td>\n",
       "    </tr>\n",
       "    <tr>\n",
       "      <th>316</th>\n",
       "      <td>1</td>\n",
       "      <td>Spencer, Mr. William Augustus</td>\n",
       "      <td>male</td>\n",
       "      <td>57.00</td>\n",
       "      <td>1</td>\n",
       "      <td>0</td>\n",
       "      <td>146.5208</td>\n",
       "      <td>C</td>\n",
       "      <td>Mr</td>\n",
       "    </tr>\n",
       "    <tr>\n",
       "      <th>78</th>\n",
       "      <td>2</td>\n",
       "      <td>Aldworth, Mr. Charles Augustus</td>\n",
       "      <td>male</td>\n",
       "      <td>30.00</td>\n",
       "      <td>0</td>\n",
       "      <td>0</td>\n",
       "      <td>13.0000</td>\n",
       "      <td>S</td>\n",
       "      <td>Mr</td>\n",
       "    </tr>\n",
       "    <tr>\n",
       "      <th>5</th>\n",
       "      <td>3</td>\n",
       "      <td>Moran, Mr. James</td>\n",
       "      <td>male</td>\n",
       "      <td>NaN</td>\n",
       "      <td>0</td>\n",
       "      <td>0</td>\n",
       "      <td>8.4583</td>\n",
       "      <td>Q</td>\n",
       "      <td>Mr</td>\n",
       "    </tr>\n",
       "    <tr>\n",
       "      <th>172</th>\n",
       "      <td>3</td>\n",
       "      <td>Johnson, Miss. Eleanor Ileen</td>\n",
       "      <td>female</td>\n",
       "      <td>1.00</td>\n",
       "      <td>1</td>\n",
       "      <td>1</td>\n",
       "      <td>11.1333</td>\n",
       "      <td>S</td>\n",
       "      <td>Miss</td>\n",
       "    </tr>\n",
       "    <tr>\n",
       "      <th>191</th>\n",
       "      <td>2</td>\n",
       "      <td>Carbines, Mr. William</td>\n",
       "      <td>male</td>\n",
       "      <td>19.00</td>\n",
       "      <td>0</td>\n",
       "      <td>0</td>\n",
       "      <td>13.0000</td>\n",
       "      <td>S</td>\n",
       "      <td>Mr</td>\n",
       "    </tr>\n",
       "    <tr>\n",
       "      <th>241</th>\n",
       "      <td>2</td>\n",
       "      <td>Christy, Mrs. (Alice Frances)</td>\n",
       "      <td>female</td>\n",
       "      <td>45.00</td>\n",
       "      <td>0</td>\n",
       "      <td>2</td>\n",
       "      <td>30.0000</td>\n",
       "      <td>S</td>\n",
       "      <td>Mrs</td>\n",
       "    </tr>\n",
       "    <tr>\n",
       "      <th>155</th>\n",
       "      <td>3</td>\n",
       "      <td>Duquemin, Mr. Joseph</td>\n",
       "      <td>male</td>\n",
       "      <td>24.00</td>\n",
       "      <td>0</td>\n",
       "      <td>0</td>\n",
       "      <td>7.5500</td>\n",
       "      <td>S</td>\n",
       "      <td>Mr</td>\n",
       "    </tr>\n",
       "    <tr>\n",
       "      <th>334</th>\n",
       "      <td>3</td>\n",
       "      <td>Cor, Mr. Ivan</td>\n",
       "      <td>male</td>\n",
       "      <td>27.00</td>\n",
       "      <td>0</td>\n",
       "      <td>0</td>\n",
       "      <td>7.8958</td>\n",
       "      <td>S</td>\n",
       "      <td>Mr</td>\n",
       "    </tr>\n",
       "  </tbody>\n",
       "</table>\n",
       "</div>"
      ],
      "text/plain": [
       "     Pclass                                          Name     Sex    Age  \\\n",
       "105       3                     Holthen, Mr. Johan Martin    male  28.00   \n",
       "241       3                Murphy, Miss. Katherine \"Kate\"  female    NaN   \n",
       "880       2  Shelley, Mrs. William (Imanita Parrish Hall)  female  25.00   \n",
       "644       3                        Baclini, Miss. Eugenie  female   0.75   \n",
       "156       1                             Bird, Miss. Ellen  female  29.00   \n",
       "322       2                     Slayter, Miss. Hilda Mary  female  30.00   \n",
       "792       3                       Sage, Miss. Stella Anna  female    NaN   \n",
       "291       1       Bishop, Mrs. Dickinson H (Helen Walton)  female  19.00   \n",
       "149       2             Byles, Rev. Thomas Roussel Davids    male  42.00   \n",
       "242       1                  Spedden, Mr. Frederic Oakley    male  45.00   \n",
       "853       1                     Lines, Miss. Mary Conover  female  16.00   \n",
       "596       2                    Leitch, Miss. Jessie Wills  female    NaN   \n",
       "316       1                 Spencer, Mr. William Augustus    male  57.00   \n",
       "78        2                Aldworth, Mr. Charles Augustus    male  30.00   \n",
       "5         3                              Moran, Mr. James    male    NaN   \n",
       "172       3                  Johnson, Miss. Eleanor Ileen  female   1.00   \n",
       "191       2                         Carbines, Mr. William    male  19.00   \n",
       "241       2                 Christy, Mrs. (Alice Frances)  female  45.00   \n",
       "155       3                          Duquemin, Mr. Joseph    male  24.00   \n",
       "334       3                                 Cor, Mr. Ivan    male  27.00   \n",
       "\n",
       "     SibSp  Parch      Fare Embarked Title  \n",
       "105      0      0   22.5250        S    Mr  \n",
       "241      1      0   15.5000        Q  Miss  \n",
       "880      0      1   26.0000        S   Mrs  \n",
       "644      2      1   19.2583        C  Miss  \n",
       "156      0      0  221.7792        S  Miss  \n",
       "322      0      0   12.3500        Q  Miss  \n",
       "792      8      2   69.5500        S  Miss  \n",
       "291      1      0   91.0792        C   Mrs  \n",
       "149      0      0   13.0000        S   Rev  \n",
       "242      1      1  134.5000        C    Mr  \n",
       "853      0      1   39.4000        S  Miss  \n",
       "596      0      0   33.0000        S  Miss  \n",
       "316      1      0  146.5208        C    Mr  \n",
       "78       0      0   13.0000        S    Mr  \n",
       "5        0      0    8.4583        Q    Mr  \n",
       "172      1      1   11.1333        S  Miss  \n",
       "191      0      0   13.0000        S    Mr  \n",
       "241      0      2   30.0000        S   Mrs  \n",
       "155      0      0    7.5500        S    Mr  \n",
       "334      0      0    7.8958        S    Mr  "
      ]
     },
     "execution_count": 11,
     "metadata": {},
     "output_type": "execute_result"
    }
   ],
   "source": [
    "data['Title'] = data['Name'].map(lambda x: x.split(', ')[1].split('.')[0])\n",
    "data.sample(20)"
   ]
  },
  {
   "cell_type": "code",
   "execution_count": 12,
   "metadata": {},
   "outputs": [
    {
     "data": {
      "text/html": [
       "<div>\n",
       "<style>\n",
       "    .dataframe thead tr:only-child th {\n",
       "        text-align: right;\n",
       "    }\n",
       "\n",
       "    .dataframe thead th {\n",
       "        text-align: left;\n",
       "    }\n",
       "\n",
       "    .dataframe tbody tr th {\n",
       "        vertical-align: top;\n",
       "    }\n",
       "</style>\n",
       "<table border=\"1\" class=\"dataframe\">\n",
       "  <thead>\n",
       "    <tr style=\"text-align: right;\">\n",
       "      <th></th>\n",
       "      <th>Pclass</th>\n",
       "      <th>Sex</th>\n",
       "      <th>Age</th>\n",
       "      <th>SibSp</th>\n",
       "      <th>Parch</th>\n",
       "      <th>Fare</th>\n",
       "      <th>Embarked</th>\n",
       "      <th>Title</th>\n",
       "    </tr>\n",
       "  </thead>\n",
       "  <tbody>\n",
       "    <tr>\n",
       "      <th>0</th>\n",
       "      <td>3</td>\n",
       "      <td>male</td>\n",
       "      <td>22.0</td>\n",
       "      <td>1</td>\n",
       "      <td>0</td>\n",
       "      <td>7.2500</td>\n",
       "      <td>S</td>\n",
       "      <td>Mr</td>\n",
       "    </tr>\n",
       "    <tr>\n",
       "      <th>1</th>\n",
       "      <td>1</td>\n",
       "      <td>female</td>\n",
       "      <td>38.0</td>\n",
       "      <td>1</td>\n",
       "      <td>0</td>\n",
       "      <td>71.2833</td>\n",
       "      <td>C</td>\n",
       "      <td>Mrs</td>\n",
       "    </tr>\n",
       "    <tr>\n",
       "      <th>2</th>\n",
       "      <td>3</td>\n",
       "      <td>female</td>\n",
       "      <td>26.0</td>\n",
       "      <td>0</td>\n",
       "      <td>0</td>\n",
       "      <td>7.9250</td>\n",
       "      <td>S</td>\n",
       "      <td>Miss</td>\n",
       "    </tr>\n",
       "    <tr>\n",
       "      <th>3</th>\n",
       "      <td>1</td>\n",
       "      <td>female</td>\n",
       "      <td>35.0</td>\n",
       "      <td>1</td>\n",
       "      <td>0</td>\n",
       "      <td>53.1000</td>\n",
       "      <td>S</td>\n",
       "      <td>Mrs</td>\n",
       "    </tr>\n",
       "    <tr>\n",
       "      <th>4</th>\n",
       "      <td>3</td>\n",
       "      <td>male</td>\n",
       "      <td>35.0</td>\n",
       "      <td>0</td>\n",
       "      <td>0</td>\n",
       "      <td>8.0500</td>\n",
       "      <td>S</td>\n",
       "      <td>Mr</td>\n",
       "    </tr>\n",
       "  </tbody>\n",
       "</table>\n",
       "</div>"
      ],
      "text/plain": [
       "   Pclass     Sex   Age  SibSp  Parch     Fare Embarked Title\n",
       "0       3    male  22.0      1      0   7.2500        S    Mr\n",
       "1       1  female  38.0      1      0  71.2833        C   Mrs\n",
       "2       3  female  26.0      0      0   7.9250        S  Miss\n",
       "3       1  female  35.0      1      0  53.1000        S   Mrs\n",
       "4       3    male  35.0      0      0   8.0500        S    Mr"
      ]
     },
     "execution_count": 12,
     "metadata": {},
     "output_type": "execute_result"
    }
   ],
   "source": [
    "data = data.drop('Name',axis=1)\n",
    "data.head()"
   ]
  },
  {
   "cell_type": "code",
   "execution_count": 13,
   "metadata": {},
   "outputs": [
    {
     "data": {
      "text/html": [
       "<div>\n",
       "<style>\n",
       "    .dataframe thead tr:only-child th {\n",
       "        text-align: right;\n",
       "    }\n",
       "\n",
       "    .dataframe thead th {\n",
       "        text-align: left;\n",
       "    }\n",
       "\n",
       "    .dataframe tbody tr th {\n",
       "        vertical-align: top;\n",
       "    }\n",
       "</style>\n",
       "<table border=\"1\" class=\"dataframe\">\n",
       "  <thead>\n",
       "    <tr style=\"text-align: right;\">\n",
       "      <th></th>\n",
       "      <th>Pclass</th>\n",
       "      <th>Sex</th>\n",
       "      <th>Age</th>\n",
       "      <th>SibSp</th>\n",
       "      <th>Parch</th>\n",
       "      <th>Fare</th>\n",
       "      <th>Embarked</th>\n",
       "      <th>Title</th>\n",
       "      <th>FamilySize</th>\n",
       "    </tr>\n",
       "  </thead>\n",
       "  <tbody>\n",
       "    <tr>\n",
       "      <th>374</th>\n",
       "      <td>3</td>\n",
       "      <td>female</td>\n",
       "      <td>3.0</td>\n",
       "      <td>3</td>\n",
       "      <td>1</td>\n",
       "      <td>21.0750</td>\n",
       "      <td>S</td>\n",
       "      <td>Miss</td>\n",
       "      <td>5</td>\n",
       "    </tr>\n",
       "    <tr>\n",
       "      <th>217</th>\n",
       "      <td>1</td>\n",
       "      <td>male</td>\n",
       "      <td>57.0</td>\n",
       "      <td>1</td>\n",
       "      <td>1</td>\n",
       "      <td>164.8667</td>\n",
       "      <td>S</td>\n",
       "      <td>Mr</td>\n",
       "      <td>3</td>\n",
       "    </tr>\n",
       "    <tr>\n",
       "      <th>62</th>\n",
       "      <td>3</td>\n",
       "      <td>male</td>\n",
       "      <td>18.0</td>\n",
       "      <td>0</td>\n",
       "      <td>0</td>\n",
       "      <td>7.7500</td>\n",
       "      <td>S</td>\n",
       "      <td>Mr</td>\n",
       "      <td>1</td>\n",
       "    </tr>\n",
       "    <tr>\n",
       "      <th>42</th>\n",
       "      <td>3</td>\n",
       "      <td>male</td>\n",
       "      <td>NaN</td>\n",
       "      <td>0</td>\n",
       "      <td>0</td>\n",
       "      <td>7.8958</td>\n",
       "      <td>C</td>\n",
       "      <td>Mr</td>\n",
       "      <td>1</td>\n",
       "    </tr>\n",
       "    <tr>\n",
       "      <th>173</th>\n",
       "      <td>3</td>\n",
       "      <td>male</td>\n",
       "      <td>21.0</td>\n",
       "      <td>0</td>\n",
       "      <td>0</td>\n",
       "      <td>7.9250</td>\n",
       "      <td>S</td>\n",
       "      <td>Mr</td>\n",
       "      <td>1</td>\n",
       "    </tr>\n",
       "    <tr>\n",
       "      <th>80</th>\n",
       "      <td>3</td>\n",
       "      <td>male</td>\n",
       "      <td>6.0</td>\n",
       "      <td>1</td>\n",
       "      <td>1</td>\n",
       "      <td>15.2458</td>\n",
       "      <td>C</td>\n",
       "      <td>Master</td>\n",
       "      <td>3</td>\n",
       "    </tr>\n",
       "    <tr>\n",
       "      <th>733</th>\n",
       "      <td>2</td>\n",
       "      <td>male</td>\n",
       "      <td>23.0</td>\n",
       "      <td>0</td>\n",
       "      <td>0</td>\n",
       "      <td>13.0000</td>\n",
       "      <td>S</td>\n",
       "      <td>Mr</td>\n",
       "      <td>1</td>\n",
       "    </tr>\n",
       "    <tr>\n",
       "      <th>153</th>\n",
       "      <td>3</td>\n",
       "      <td>female</td>\n",
       "      <td>36.0</td>\n",
       "      <td>0</td>\n",
       "      <td>2</td>\n",
       "      <td>12.1833</td>\n",
       "      <td>S</td>\n",
       "      <td>Mrs</td>\n",
       "      <td>3</td>\n",
       "    </tr>\n",
       "    <tr>\n",
       "      <th>137</th>\n",
       "      <td>2</td>\n",
       "      <td>male</td>\n",
       "      <td>26.0</td>\n",
       "      <td>0</td>\n",
       "      <td>0</td>\n",
       "      <td>13.0000</td>\n",
       "      <td>S</td>\n",
       "      <td>Mr</td>\n",
       "      <td>1</td>\n",
       "    </tr>\n",
       "    <tr>\n",
       "      <th>377</th>\n",
       "      <td>1</td>\n",
       "      <td>male</td>\n",
       "      <td>27.0</td>\n",
       "      <td>0</td>\n",
       "      <td>2</td>\n",
       "      <td>211.5000</td>\n",
       "      <td>C</td>\n",
       "      <td>Mr</td>\n",
       "      <td>3</td>\n",
       "    </tr>\n",
       "  </tbody>\n",
       "</table>\n",
       "</div>"
      ],
      "text/plain": [
       "     Pclass     Sex   Age  SibSp  Parch      Fare Embarked   Title  FamilySize\n",
       "374       3  female   3.0      3      1   21.0750        S    Miss           5\n",
       "217       1    male  57.0      1      1  164.8667        S      Mr           3\n",
       "62        3    male  18.0      0      0    7.7500        S      Mr           1\n",
       "42        3    male   NaN      0      0    7.8958        C      Mr           1\n",
       "173       3    male  21.0      0      0    7.9250        S      Mr           1\n",
       "80        3    male   6.0      1      1   15.2458        C  Master           3\n",
       "733       2    male  23.0      0      0   13.0000        S      Mr           1\n",
       "153       3  female  36.0      0      2   12.1833        S     Mrs           3\n",
       "137       2    male  26.0      0      0   13.0000        S      Mr           1\n",
       "377       1    male  27.0      0      2  211.5000        C      Mr           3"
      ]
     },
     "execution_count": 13,
     "metadata": {},
     "output_type": "execute_result"
    }
   ],
   "source": [
    "data['FamilySize'] = data['SibSp']+data['Parch']+1\n",
    "data.sample(10)"
   ]
  },
  {
   "cell_type": "code",
   "execution_count": 14,
   "metadata": {},
   "outputs": [
    {
     "name": "stderr",
     "output_type": "stream",
     "text": [
      "E:\\Anaconda3_5_0_0\\lib\\site-packages\\pandas\\core\\indexing.py:179: SettingWithCopyWarning: \n",
      "A value is trying to be set on a copy of a slice from a DataFrame\n",
      "\n",
      "See the caveats in the documentation: http://pandas.pydata.org/pandas-docs/stable/indexing.html#indexing-view-versus-copy\n",
      "  self._setitem_with_indexer(indexer, value)\n"
     ]
    },
    {
     "data": {
      "text/html": [
       "<div>\n",
       "<style>\n",
       "    .dataframe thead tr:only-child th {\n",
       "        text-align: right;\n",
       "    }\n",
       "\n",
       "    .dataframe thead th {\n",
       "        text-align: left;\n",
       "    }\n",
       "\n",
       "    .dataframe tbody tr th {\n",
       "        vertical-align: top;\n",
       "    }\n",
       "</style>\n",
       "<table border=\"1\" class=\"dataframe\">\n",
       "  <thead>\n",
       "    <tr style=\"text-align: right;\">\n",
       "      <th></th>\n",
       "      <th>Pclass</th>\n",
       "      <th>Sex</th>\n",
       "      <th>Age</th>\n",
       "      <th>SibSp</th>\n",
       "      <th>Parch</th>\n",
       "      <th>Fare</th>\n",
       "      <th>Embarked</th>\n",
       "      <th>Title</th>\n",
       "      <th>FamilySize</th>\n",
       "      <th>IsAlone</th>\n",
       "    </tr>\n",
       "  </thead>\n",
       "  <tbody>\n",
       "    <tr>\n",
       "      <th>24</th>\n",
       "      <td>3</td>\n",
       "      <td>female</td>\n",
       "      <td>8.0</td>\n",
       "      <td>3</td>\n",
       "      <td>1</td>\n",
       "      <td>21.0750</td>\n",
       "      <td>S</td>\n",
       "      <td>Miss</td>\n",
       "      <td>5</td>\n",
       "      <td>0</td>\n",
       "    </tr>\n",
       "    <tr>\n",
       "      <th>32</th>\n",
       "      <td>3</td>\n",
       "      <td>female</td>\n",
       "      <td>NaN</td>\n",
       "      <td>0</td>\n",
       "      <td>0</td>\n",
       "      <td>7.7500</td>\n",
       "      <td>Q</td>\n",
       "      <td>Miss</td>\n",
       "      <td>1</td>\n",
       "      <td>1</td>\n",
       "    </tr>\n",
       "    <tr>\n",
       "      <th>543</th>\n",
       "      <td>2</td>\n",
       "      <td>male</td>\n",
       "      <td>32.0</td>\n",
       "      <td>1</td>\n",
       "      <td>0</td>\n",
       "      <td>26.0000</td>\n",
       "      <td>S</td>\n",
       "      <td>Mr</td>\n",
       "      <td>2</td>\n",
       "      <td>0</td>\n",
       "    </tr>\n",
       "    <tr>\n",
       "      <th>767</th>\n",
       "      <td>3</td>\n",
       "      <td>female</td>\n",
       "      <td>30.5</td>\n",
       "      <td>0</td>\n",
       "      <td>0</td>\n",
       "      <td>7.7500</td>\n",
       "      <td>Q</td>\n",
       "      <td>Miss</td>\n",
       "      <td>1</td>\n",
       "      <td>1</td>\n",
       "    </tr>\n",
       "    <tr>\n",
       "      <th>760</th>\n",
       "      <td>3</td>\n",
       "      <td>male</td>\n",
       "      <td>NaN</td>\n",
       "      <td>0</td>\n",
       "      <td>0</td>\n",
       "      <td>14.5000</td>\n",
       "      <td>S</td>\n",
       "      <td>Mr</td>\n",
       "      <td>1</td>\n",
       "      <td>1</td>\n",
       "    </tr>\n",
       "    <tr>\n",
       "      <th>429</th>\n",
       "      <td>3</td>\n",
       "      <td>male</td>\n",
       "      <td>32.0</td>\n",
       "      <td>0</td>\n",
       "      <td>0</td>\n",
       "      <td>8.0500</td>\n",
       "      <td>S</td>\n",
       "      <td>Mr</td>\n",
       "      <td>1</td>\n",
       "      <td>1</td>\n",
       "    </tr>\n",
       "    <tr>\n",
       "      <th>121</th>\n",
       "      <td>3</td>\n",
       "      <td>male</td>\n",
       "      <td>NaN</td>\n",
       "      <td>1</td>\n",
       "      <td>0</td>\n",
       "      <td>7.7500</td>\n",
       "      <td>Q</td>\n",
       "      <td>Mr</td>\n",
       "      <td>2</td>\n",
       "      <td>0</td>\n",
       "    </tr>\n",
       "    <tr>\n",
       "      <th>472</th>\n",
       "      <td>2</td>\n",
       "      <td>female</td>\n",
       "      <td>33.0</td>\n",
       "      <td>1</td>\n",
       "      <td>2</td>\n",
       "      <td>27.7500</td>\n",
       "      <td>S</td>\n",
       "      <td>Mrs</td>\n",
       "      <td>4</td>\n",
       "      <td>0</td>\n",
       "    </tr>\n",
       "    <tr>\n",
       "      <th>275</th>\n",
       "      <td>1</td>\n",
       "      <td>female</td>\n",
       "      <td>63.0</td>\n",
       "      <td>1</td>\n",
       "      <td>0</td>\n",
       "      <td>77.9583</td>\n",
       "      <td>S</td>\n",
       "      <td>Miss</td>\n",
       "      <td>2</td>\n",
       "      <td>0</td>\n",
       "    </tr>\n",
       "    <tr>\n",
       "      <th>192</th>\n",
       "      <td>3</td>\n",
       "      <td>female</td>\n",
       "      <td>19.0</td>\n",
       "      <td>1</td>\n",
       "      <td>0</td>\n",
       "      <td>7.8542</td>\n",
       "      <td>S</td>\n",
       "      <td>Miss</td>\n",
       "      <td>2</td>\n",
       "      <td>0</td>\n",
       "    </tr>\n",
       "  </tbody>\n",
       "</table>\n",
       "</div>"
      ],
      "text/plain": [
       "     Pclass     Sex   Age  SibSp  Parch     Fare Embarked Title  FamilySize  \\\n",
       "24        3  female   8.0      3      1  21.0750        S  Miss           5   \n",
       "32        3  female   NaN      0      0   7.7500        Q  Miss           1   \n",
       "543       2    male  32.0      1      0  26.0000        S    Mr           2   \n",
       "767       3  female  30.5      0      0   7.7500        Q  Miss           1   \n",
       "760       3    male   NaN      0      0  14.5000        S    Mr           1   \n",
       "429       3    male  32.0      0      0   8.0500        S    Mr           1   \n",
       "121       3    male   NaN      1      0   7.7500        Q    Mr           2   \n",
       "472       2  female  33.0      1      2  27.7500        S   Mrs           4   \n",
       "275       1  female  63.0      1      0  77.9583        S  Miss           2   \n",
       "192       3  female  19.0      1      0   7.8542        S  Miss           2   \n",
       "\n",
       "     IsAlone  \n",
       "24         0  \n",
       "32         1  \n",
       "543        0  \n",
       "767        1  \n",
       "760        1  \n",
       "429        1  \n",
       "121        0  \n",
       "472        0  \n",
       "275        0  \n",
       "192        0  "
      ]
     },
     "execution_count": 14,
     "metadata": {},
     "output_type": "execute_result"
    }
   ],
   "source": [
    "data['IsAlone'] = 1\n",
    "data['IsAlone'].loc[data['FamilySize'] > 1] = 0\n",
    "data.sample(10)"
   ]
  },
  {
   "cell_type": "code",
   "execution_count": 15,
   "metadata": {},
   "outputs": [
    {
     "name": "stdout",
     "output_type": "stream",
     "text": [
      "----------\n",
      "Pclass        0\n",
      "Name          0\n",
      "Sex           0\n",
      "Age         177\n",
      "SibSp         0\n",
      "Parch         0\n",
      "Fare          0\n",
      "Embarked      2\n",
      "dtype: int64\n",
      "----------\n",
      "Pclass       0\n",
      "Name         0\n",
      "Sex          0\n",
      "Age         86\n",
      "SibSp        0\n",
      "Parch        0\n",
      "Fare         1\n",
      "Embarked     0\n",
      "dtype: int64\n"
     ]
    }
   ],
   "source": [
    "print('-' *10)\n",
    "print(x_train.isnull().sum())\n",
    "print('-' *10)\n",
    "print(x_val.isnull().sum())"
   ]
  },
  {
   "cell_type": "code",
   "execution_count": 16,
   "metadata": {},
   "outputs": [
    {
     "name": "stdout",
     "output_type": "stream",
     "text": [
      "Mr              757\n",
      "Miss            260\n",
      "Mrs             197\n",
      "Master           61\n",
      "Rev               8\n",
      "Dr                8\n",
      "Col               4\n",
      "Mlle              2\n",
      "Major             2\n",
      "Ms                2\n",
      "the Countess      1\n",
      "Mme               1\n",
      "Don               1\n",
      "Sir               1\n",
      "Dona              1\n",
      "Lady              1\n",
      "Jonkheer          1\n",
      "Capt              1\n",
      "Name: Title, dtype: int64\n"
     ]
    },
    {
     "data": {
      "text/html": [
       "<div>\n",
       "<style>\n",
       "    .dataframe thead tr:only-child th {\n",
       "        text-align: right;\n",
       "    }\n",
       "\n",
       "    .dataframe thead th {\n",
       "        text-align: left;\n",
       "    }\n",
       "\n",
       "    .dataframe tbody tr th {\n",
       "        vertical-align: top;\n",
       "    }\n",
       "</style>\n",
       "<table border=\"1\" class=\"dataframe\">\n",
       "  <thead>\n",
       "    <tr style=\"text-align: right;\">\n",
       "      <th></th>\n",
       "      <th>Pclass</th>\n",
       "      <th>Sex</th>\n",
       "      <th>Age</th>\n",
       "      <th>SibSp</th>\n",
       "      <th>Parch</th>\n",
       "      <th>Fare</th>\n",
       "      <th>Embarked</th>\n",
       "      <th>Title</th>\n",
       "      <th>FamilySize</th>\n",
       "      <th>IsAlone</th>\n",
       "    </tr>\n",
       "  </thead>\n",
       "  <tbody>\n",
       "    <tr>\n",
       "      <th>108</th>\n",
       "      <td>3</td>\n",
       "      <td>male</td>\n",
       "      <td>38.0</td>\n",
       "      <td>0</td>\n",
       "      <td>0</td>\n",
       "      <td>7.8958</td>\n",
       "      <td>S</td>\n",
       "      <td>Mr</td>\n",
       "      <td>1</td>\n",
       "      <td>1</td>\n",
       "    </tr>\n",
       "    <tr>\n",
       "      <th>449</th>\n",
       "      <td>1</td>\n",
       "      <td>male</td>\n",
       "      <td>52.0</td>\n",
       "      <td>0</td>\n",
       "      <td>0</td>\n",
       "      <td>30.5000</td>\n",
       "      <td>S</td>\n",
       "      <td>Msic</td>\n",
       "      <td>1</td>\n",
       "      <td>1</td>\n",
       "    </tr>\n",
       "    <tr>\n",
       "      <th>376</th>\n",
       "      <td>3</td>\n",
       "      <td>female</td>\n",
       "      <td>22.0</td>\n",
       "      <td>2</td>\n",
       "      <td>0</td>\n",
       "      <td>8.6625</td>\n",
       "      <td>S</td>\n",
       "      <td>Miss</td>\n",
       "      <td>3</td>\n",
       "      <td>0</td>\n",
       "    </tr>\n",
       "    <tr>\n",
       "      <th>225</th>\n",
       "      <td>3</td>\n",
       "      <td>male</td>\n",
       "      <td>22.0</td>\n",
       "      <td>0</td>\n",
       "      <td>0</td>\n",
       "      <td>9.3500</td>\n",
       "      <td>S</td>\n",
       "      <td>Mr</td>\n",
       "      <td>1</td>\n",
       "      <td>1</td>\n",
       "    </tr>\n",
       "    <tr>\n",
       "      <th>191</th>\n",
       "      <td>2</td>\n",
       "      <td>male</td>\n",
       "      <td>19.0</td>\n",
       "      <td>0</td>\n",
       "      <td>0</td>\n",
       "      <td>13.0000</td>\n",
       "      <td>S</td>\n",
       "      <td>Mr</td>\n",
       "      <td>1</td>\n",
       "      <td>1</td>\n",
       "    </tr>\n",
       "    <tr>\n",
       "      <th>38</th>\n",
       "      <td>3</td>\n",
       "      <td>male</td>\n",
       "      <td>25.0</td>\n",
       "      <td>0</td>\n",
       "      <td>0</td>\n",
       "      <td>9.5000</td>\n",
       "      <td>S</td>\n",
       "      <td>Mr</td>\n",
       "      <td>1</td>\n",
       "      <td>1</td>\n",
       "    </tr>\n",
       "    <tr>\n",
       "      <th>821</th>\n",
       "      <td>3</td>\n",
       "      <td>male</td>\n",
       "      <td>27.0</td>\n",
       "      <td>0</td>\n",
       "      <td>0</td>\n",
       "      <td>8.6625</td>\n",
       "      <td>S</td>\n",
       "      <td>Mr</td>\n",
       "      <td>1</td>\n",
       "      <td>1</td>\n",
       "    </tr>\n",
       "    <tr>\n",
       "      <th>392</th>\n",
       "      <td>3</td>\n",
       "      <td>male</td>\n",
       "      <td>28.0</td>\n",
       "      <td>2</td>\n",
       "      <td>0</td>\n",
       "      <td>7.9250</td>\n",
       "      <td>S</td>\n",
       "      <td>Mr</td>\n",
       "      <td>3</td>\n",
       "      <td>0</td>\n",
       "    </tr>\n",
       "    <tr>\n",
       "      <th>340</th>\n",
       "      <td>2</td>\n",
       "      <td>male</td>\n",
       "      <td>18.0</td>\n",
       "      <td>0</td>\n",
       "      <td>0</td>\n",
       "      <td>10.5000</td>\n",
       "      <td>S</td>\n",
       "      <td>Mr</td>\n",
       "      <td>1</td>\n",
       "      <td>1</td>\n",
       "    </tr>\n",
       "    <tr>\n",
       "      <th>28</th>\n",
       "      <td>1</td>\n",
       "      <td>male</td>\n",
       "      <td>41.0</td>\n",
       "      <td>0</td>\n",
       "      <td>0</td>\n",
       "      <td>30.5000</td>\n",
       "      <td>S</td>\n",
       "      <td>Mr</td>\n",
       "      <td>1</td>\n",
       "      <td>1</td>\n",
       "    </tr>\n",
       "    <tr>\n",
       "      <th>260</th>\n",
       "      <td>3</td>\n",
       "      <td>male</td>\n",
       "      <td>36.5</td>\n",
       "      <td>1</td>\n",
       "      <td>0</td>\n",
       "      <td>17.4000</td>\n",
       "      <td>S</td>\n",
       "      <td>Mr</td>\n",
       "      <td>2</td>\n",
       "      <td>0</td>\n",
       "    </tr>\n",
       "    <tr>\n",
       "      <th>101</th>\n",
       "      <td>2</td>\n",
       "      <td>male</td>\n",
       "      <td>27.0</td>\n",
       "      <td>1</td>\n",
       "      <td>0</td>\n",
       "      <td>26.0000</td>\n",
       "      <td>S</td>\n",
       "      <td>Mr</td>\n",
       "      <td>2</td>\n",
       "      <td>0</td>\n",
       "    </tr>\n",
       "    <tr>\n",
       "      <th>318</th>\n",
       "      <td>1</td>\n",
       "      <td>female</td>\n",
       "      <td>31.0</td>\n",
       "      <td>0</td>\n",
       "      <td>2</td>\n",
       "      <td>164.8667</td>\n",
       "      <td>S</td>\n",
       "      <td>Miss</td>\n",
       "      <td>3</td>\n",
       "      <td>0</td>\n",
       "    </tr>\n",
       "    <tr>\n",
       "      <th>258</th>\n",
       "      <td>2</td>\n",
       "      <td>female</td>\n",
       "      <td>19.0</td>\n",
       "      <td>0</td>\n",
       "      <td>0</td>\n",
       "      <td>13.0000</td>\n",
       "      <td>S</td>\n",
       "      <td>Miss</td>\n",
       "      <td>1</td>\n",
       "      <td>1</td>\n",
       "    </tr>\n",
       "    <tr>\n",
       "      <th>64</th>\n",
       "      <td>1</td>\n",
       "      <td>male</td>\n",
       "      <td>13.0</td>\n",
       "      <td>2</td>\n",
       "      <td>2</td>\n",
       "      <td>262.3750</td>\n",
       "      <td>C</td>\n",
       "      <td>Master</td>\n",
       "      <td>5</td>\n",
       "      <td>0</td>\n",
       "    </tr>\n",
       "    <tr>\n",
       "      <th>413</th>\n",
       "      <td>2</td>\n",
       "      <td>male</td>\n",
       "      <td>NaN</td>\n",
       "      <td>0</td>\n",
       "      <td>0</td>\n",
       "      <td>0.0000</td>\n",
       "      <td>S</td>\n",
       "      <td>Mr</td>\n",
       "      <td>1</td>\n",
       "      <td>1</td>\n",
       "    </tr>\n",
       "    <tr>\n",
       "      <th>25</th>\n",
       "      <td>3</td>\n",
       "      <td>female</td>\n",
       "      <td>38.0</td>\n",
       "      <td>1</td>\n",
       "      <td>5</td>\n",
       "      <td>31.3875</td>\n",
       "      <td>S</td>\n",
       "      <td>Mrs</td>\n",
       "      <td>7</td>\n",
       "      <td>0</td>\n",
       "    </tr>\n",
       "    <tr>\n",
       "      <th>114</th>\n",
       "      <td>1</td>\n",
       "      <td>female</td>\n",
       "      <td>63.0</td>\n",
       "      <td>1</td>\n",
       "      <td>0</td>\n",
       "      <td>221.7792</td>\n",
       "      <td>S</td>\n",
       "      <td>Mrs</td>\n",
       "      <td>2</td>\n",
       "      <td>0</td>\n",
       "    </tr>\n",
       "    <tr>\n",
       "      <th>106</th>\n",
       "      <td>3</td>\n",
       "      <td>female</td>\n",
       "      <td>21.0</td>\n",
       "      <td>0</td>\n",
       "      <td>0</td>\n",
       "      <td>7.6500</td>\n",
       "      <td>S</td>\n",
       "      <td>Miss</td>\n",
       "      <td>1</td>\n",
       "      <td>1</td>\n",
       "    </tr>\n",
       "    <tr>\n",
       "      <th>869</th>\n",
       "      <td>3</td>\n",
       "      <td>male</td>\n",
       "      <td>4.0</td>\n",
       "      <td>1</td>\n",
       "      <td>1</td>\n",
       "      <td>11.1333</td>\n",
       "      <td>S</td>\n",
       "      <td>Master</td>\n",
       "      <td>3</td>\n",
       "      <td>0</td>\n",
       "    </tr>\n",
       "  </tbody>\n",
       "</table>\n",
       "</div>"
      ],
      "text/plain": [
       "     Pclass     Sex   Age  SibSp  Parch      Fare Embarked   Title  \\\n",
       "108       3    male  38.0      0      0    7.8958        S      Mr   \n",
       "449       1    male  52.0      0      0   30.5000        S    Msic   \n",
       "376       3  female  22.0      2      0    8.6625        S    Miss   \n",
       "225       3    male  22.0      0      0    9.3500        S      Mr   \n",
       "191       2    male  19.0      0      0   13.0000        S      Mr   \n",
       "38        3    male  25.0      0      0    9.5000        S      Mr   \n",
       "821       3    male  27.0      0      0    8.6625        S      Mr   \n",
       "392       3    male  28.0      2      0    7.9250        S      Mr   \n",
       "340       2    male  18.0      0      0   10.5000        S      Mr   \n",
       "28        1    male  41.0      0      0   30.5000        S      Mr   \n",
       "260       3    male  36.5      1      0   17.4000        S      Mr   \n",
       "101       2    male  27.0      1      0   26.0000        S      Mr   \n",
       "318       1  female  31.0      0      2  164.8667        S    Miss   \n",
       "258       2  female  19.0      0      0   13.0000        S    Miss   \n",
       "64        1    male  13.0      2      2  262.3750        C  Master   \n",
       "413       2    male   NaN      0      0    0.0000        S      Mr   \n",
       "25        3  female  38.0      1      5   31.3875        S     Mrs   \n",
       "114       1  female  63.0      1      0  221.7792        S     Mrs   \n",
       "106       3  female  21.0      0      0    7.6500        S    Miss   \n",
       "869       3    male   4.0      1      1   11.1333        S  Master   \n",
       "\n",
       "     FamilySize  IsAlone  \n",
       "108           1        1  \n",
       "449           1        1  \n",
       "376           3        0  \n",
       "225           1        1  \n",
       "191           1        1  \n",
       "38            1        1  \n",
       "821           1        1  \n",
       "392           3        0  \n",
       "340           1        1  \n",
       "28            1        1  \n",
       "260           2        0  \n",
       "101           2        0  \n",
       "318           3        0  \n",
       "258           1        1  \n",
       "64            5        0  \n",
       "413           1        1  \n",
       "25            7        0  \n",
       "114           2        0  \n",
       "106           1        1  \n",
       "869           3        0  "
      ]
     },
     "execution_count": 16,
     "metadata": {},
     "output_type": "execute_result"
    }
   ],
   "source": [
    "print(data['Title'].value_counts())\n",
    "#将Title小于10的变为Msic\n",
    "\n",
    "title_names = (data['Title'].value_counts()<10)\n",
    "\n",
    "data['Title'] = data['Title'].map(lambda x: 'Msic' if title_names.loc[x] == True else x)\n",
    "data.sample(20)"
   ]
  },
  {
   "cell_type": "code",
   "execution_count": 17,
   "metadata": {},
   "outputs": [
    {
     "name": "stdout",
     "output_type": "stream",
     "text": [
      "age mean : 29.881137667304014    fare mean : 33.2954792813456\n"
     ]
    }
   ],
   "source": [
    "age_mean = data['Age'].mean()\n",
    "fare_mean = data['Fare'].mean()\n",
    "print('age mean : {}    fare mean : {}'.format(age_mean,fare_mean))"
   ]
  },
  {
   "cell_type": "code",
   "execution_count": 18,
   "metadata": {},
   "outputs": [
    {
     "data": {
      "text/plain": [
       "0    S\n",
       "dtype: object"
      ]
     },
     "execution_count": 18,
     "metadata": {},
     "output_type": "execute_result"
    }
   ],
   "source": [
    "#mode 泛数\n",
    "data['Embarked'].mode()"
   ]
  },
  {
   "cell_type": "code",
   "execution_count": 19,
   "metadata": {
    "collapsed": true
   },
   "outputs": [],
   "source": [
    "data['Embarked'].fillna(data['Embarked'].mode()[0],inplace=True)\n",
    "data = data.fillna({'Age':age_mean,'Fare':fare_mean})"
   ]
  },
  {
   "cell_type": "code",
   "execution_count": 20,
   "metadata": {},
   "outputs": [
    {
     "name": "stdout",
     "output_type": "stream",
     "text": [
      "Pclass        0\n",
      "Sex           0\n",
      "Age           0\n",
      "SibSp         0\n",
      "Parch         0\n",
      "Fare          0\n",
      "Embarked      0\n",
      "Title         0\n",
      "FamilySize    0\n",
      "IsAlone       0\n",
      "dtype: int64\n"
     ]
    }
   ],
   "source": [
    "print(data.isnull().sum())"
   ]
  },
  {
   "cell_type": "code",
   "execution_count": 21,
   "metadata": {
    "collapsed": true
   },
   "outputs": [],
   "source": [
    "data['Embarked'] = pd.Categorical(data['Embarked'])\n",
    "data['Embarked'] = data['Embarked'].cat.codes+1\n",
    "\n",
    "data['Sex'] = pd.Categorical(data['Sex'])\n",
    "data['Sex'] = data['Sex'].cat.codes+1\n",
    "\n",
    "data['Title'] = pd.Categorical(data['Title'])\n",
    "data['Title'] = data['Title'].cat.codes+1"
   ]
  },
  {
   "cell_type": "code",
   "execution_count": 22,
   "metadata": {},
   "outputs": [
    {
     "data": {
      "text/html": [
       "<div>\n",
       "<style>\n",
       "    .dataframe thead tr:only-child th {\n",
       "        text-align: right;\n",
       "    }\n",
       "\n",
       "    .dataframe thead th {\n",
       "        text-align: left;\n",
       "    }\n",
       "\n",
       "    .dataframe tbody tr th {\n",
       "        vertical-align: top;\n",
       "    }\n",
       "</style>\n",
       "<table border=\"1\" class=\"dataframe\">\n",
       "  <thead>\n",
       "    <tr style=\"text-align: right;\">\n",
       "      <th></th>\n",
       "      <th>Pclass</th>\n",
       "      <th>Sex</th>\n",
       "      <th>Age</th>\n",
       "      <th>SibSp</th>\n",
       "      <th>Parch</th>\n",
       "      <th>Fare</th>\n",
       "      <th>Embarked</th>\n",
       "      <th>Title</th>\n",
       "      <th>FamilySize</th>\n",
       "      <th>IsAlone</th>\n",
       "    </tr>\n",
       "  </thead>\n",
       "  <tbody>\n",
       "    <tr>\n",
       "      <th>0</th>\n",
       "      <td>3</td>\n",
       "      <td>2</td>\n",
       "      <td>22.0</td>\n",
       "      <td>1</td>\n",
       "      <td>0</td>\n",
       "      <td>7.2500</td>\n",
       "      <td>3</td>\n",
       "      <td>3</td>\n",
       "      <td>2</td>\n",
       "      <td>0</td>\n",
       "    </tr>\n",
       "    <tr>\n",
       "      <th>1</th>\n",
       "      <td>1</td>\n",
       "      <td>1</td>\n",
       "      <td>38.0</td>\n",
       "      <td>1</td>\n",
       "      <td>0</td>\n",
       "      <td>71.2833</td>\n",
       "      <td>1</td>\n",
       "      <td>4</td>\n",
       "      <td>2</td>\n",
       "      <td>0</td>\n",
       "    </tr>\n",
       "    <tr>\n",
       "      <th>2</th>\n",
       "      <td>3</td>\n",
       "      <td>1</td>\n",
       "      <td>26.0</td>\n",
       "      <td>0</td>\n",
       "      <td>0</td>\n",
       "      <td>7.9250</td>\n",
       "      <td>3</td>\n",
       "      <td>2</td>\n",
       "      <td>1</td>\n",
       "      <td>1</td>\n",
       "    </tr>\n",
       "    <tr>\n",
       "      <th>3</th>\n",
       "      <td>1</td>\n",
       "      <td>1</td>\n",
       "      <td>35.0</td>\n",
       "      <td>1</td>\n",
       "      <td>0</td>\n",
       "      <td>53.1000</td>\n",
       "      <td>3</td>\n",
       "      <td>4</td>\n",
       "      <td>2</td>\n",
       "      <td>0</td>\n",
       "    </tr>\n",
       "    <tr>\n",
       "      <th>4</th>\n",
       "      <td>3</td>\n",
       "      <td>2</td>\n",
       "      <td>35.0</td>\n",
       "      <td>0</td>\n",
       "      <td>0</td>\n",
       "      <td>8.0500</td>\n",
       "      <td>3</td>\n",
       "      <td>3</td>\n",
       "      <td>1</td>\n",
       "      <td>1</td>\n",
       "    </tr>\n",
       "  </tbody>\n",
       "</table>\n",
       "</div>"
      ],
      "text/plain": [
       "   Pclass  Sex   Age  SibSp  Parch     Fare  Embarked  Title  FamilySize  \\\n",
       "0       3    2  22.0      1      0   7.2500         3      3           2   \n",
       "1       1    1  38.0      1      0  71.2833         1      4           2   \n",
       "2       3    1  26.0      0      0   7.9250         3      2           1   \n",
       "3       1    1  35.0      1      0  53.1000         3      4           2   \n",
       "4       3    2  35.0      0      0   8.0500         3      3           1   \n",
       "\n",
       "   IsAlone  \n",
       "0        0  \n",
       "1        0  \n",
       "2        1  \n",
       "3        0  \n",
       "4        1  "
      ]
     },
     "execution_count": 22,
     "metadata": {},
     "output_type": "execute_result"
    }
   ],
   "source": [
    "data.head()"
   ]
  },
  {
   "cell_type": "code",
   "execution_count": 23,
   "metadata": {
    "collapsed": true
   },
   "outputs": [],
   "source": [
    "age_bin = [-1,0,5,12,18,25,35,60,120]\n",
    "group_names = ['Unknown', 'Baby', 'Child', 'Teenager', 'Student', 'Young Adult', 'Adult', 'Senior']\n",
    "age_cat = pd.cut(data['Age'],bins=age_bin,labels=group_names)\n",
    "data['Age'] = age_cat.cat.codes"
   ]
  },
  {
   "cell_type": "code",
   "execution_count": 24,
   "metadata": {},
   "outputs": [
    {
     "data": {
      "text/html": [
       "<div>\n",
       "<style>\n",
       "    .dataframe thead tr:only-child th {\n",
       "        text-align: right;\n",
       "    }\n",
       "\n",
       "    .dataframe thead th {\n",
       "        text-align: left;\n",
       "    }\n",
       "\n",
       "    .dataframe tbody tr th {\n",
       "        vertical-align: top;\n",
       "    }\n",
       "</style>\n",
       "<table border=\"1\" class=\"dataframe\">\n",
       "  <thead>\n",
       "    <tr style=\"text-align: right;\">\n",
       "      <th></th>\n",
       "      <th>Pclass</th>\n",
       "      <th>Sex</th>\n",
       "      <th>Age</th>\n",
       "      <th>SibSp</th>\n",
       "      <th>Parch</th>\n",
       "      <th>Fare</th>\n",
       "      <th>Embarked</th>\n",
       "      <th>Title</th>\n",
       "      <th>FamilySize</th>\n",
       "      <th>IsAlone</th>\n",
       "    </tr>\n",
       "  </thead>\n",
       "  <tbody>\n",
       "    <tr>\n",
       "      <th>0</th>\n",
       "      <td>3</td>\n",
       "      <td>2</td>\n",
       "      <td>4</td>\n",
       "      <td>1</td>\n",
       "      <td>0</td>\n",
       "      <td>7.2500</td>\n",
       "      <td>3</td>\n",
       "      <td>3</td>\n",
       "      <td>2</td>\n",
       "      <td>0</td>\n",
       "    </tr>\n",
       "    <tr>\n",
       "      <th>1</th>\n",
       "      <td>1</td>\n",
       "      <td>1</td>\n",
       "      <td>6</td>\n",
       "      <td>1</td>\n",
       "      <td>0</td>\n",
       "      <td>71.2833</td>\n",
       "      <td>1</td>\n",
       "      <td>4</td>\n",
       "      <td>2</td>\n",
       "      <td>0</td>\n",
       "    </tr>\n",
       "    <tr>\n",
       "      <th>2</th>\n",
       "      <td>3</td>\n",
       "      <td>1</td>\n",
       "      <td>5</td>\n",
       "      <td>0</td>\n",
       "      <td>0</td>\n",
       "      <td>7.9250</td>\n",
       "      <td>3</td>\n",
       "      <td>2</td>\n",
       "      <td>1</td>\n",
       "      <td>1</td>\n",
       "    </tr>\n",
       "    <tr>\n",
       "      <th>3</th>\n",
       "      <td>1</td>\n",
       "      <td>1</td>\n",
       "      <td>5</td>\n",
       "      <td>1</td>\n",
       "      <td>0</td>\n",
       "      <td>53.1000</td>\n",
       "      <td>3</td>\n",
       "      <td>4</td>\n",
       "      <td>2</td>\n",
       "      <td>0</td>\n",
       "    </tr>\n",
       "    <tr>\n",
       "      <th>4</th>\n",
       "      <td>3</td>\n",
       "      <td>2</td>\n",
       "      <td>5</td>\n",
       "      <td>0</td>\n",
       "      <td>0</td>\n",
       "      <td>8.0500</td>\n",
       "      <td>3</td>\n",
       "      <td>3</td>\n",
       "      <td>1</td>\n",
       "      <td>1</td>\n",
       "    </tr>\n",
       "  </tbody>\n",
       "</table>\n",
       "</div>"
      ],
      "text/plain": [
       "   Pclass  Sex  Age  SibSp  Parch     Fare  Embarked  Title  FamilySize  \\\n",
       "0       3    2    4      1      0   7.2500         3      3           2   \n",
       "1       1    1    6      1      0  71.2833         1      4           2   \n",
       "2       3    1    5      0      0   7.9250         3      2           1   \n",
       "3       1    1    5      1      0  53.1000         3      4           2   \n",
       "4       3    2    5      0      0   8.0500         3      3           1   \n",
       "\n",
       "   IsAlone  \n",
       "0        0  \n",
       "1        0  \n",
       "2        1  \n",
       "3        0  \n",
       "4        1  "
      ]
     },
     "execution_count": 24,
     "metadata": {},
     "output_type": "execute_result"
    }
   ],
   "source": [
    "data.head()"
   ]
  },
  {
   "cell_type": "code",
   "execution_count": 25,
   "metadata": {},
   "outputs": [
    {
     "data": {
      "text/html": [
       "<div>\n",
       "<style>\n",
       "    .dataframe thead tr:only-child th {\n",
       "        text-align: right;\n",
       "    }\n",
       "\n",
       "    .dataframe thead th {\n",
       "        text-align: left;\n",
       "    }\n",
       "\n",
       "    .dataframe tbody tr th {\n",
       "        vertical-align: top;\n",
       "    }\n",
       "</style>\n",
       "<table border=\"1\" class=\"dataframe\">\n",
       "  <thead>\n",
       "    <tr style=\"text-align: right;\">\n",
       "      <th></th>\n",
       "      <th>Pclass</th>\n",
       "      <th>Sex</th>\n",
       "      <th>Age</th>\n",
       "      <th>SibSp</th>\n",
       "      <th>Parch</th>\n",
       "      <th>Fare</th>\n",
       "      <th>Embarked</th>\n",
       "      <th>Title</th>\n",
       "      <th>FamilySize</th>\n",
       "      <th>IsAlone</th>\n",
       "    </tr>\n",
       "  </thead>\n",
       "  <tbody>\n",
       "    <tr>\n",
       "      <th>0</th>\n",
       "      <td>3</td>\n",
       "      <td>2</td>\n",
       "      <td>4</td>\n",
       "      <td>1</td>\n",
       "      <td>0</td>\n",
       "      <td>1</td>\n",
       "      <td>3</td>\n",
       "      <td>3</td>\n",
       "      <td>2</td>\n",
       "      <td>0</td>\n",
       "    </tr>\n",
       "    <tr>\n",
       "      <th>1</th>\n",
       "      <td>1</td>\n",
       "      <td>1</td>\n",
       "      <td>6</td>\n",
       "      <td>1</td>\n",
       "      <td>0</td>\n",
       "      <td>4</td>\n",
       "      <td>1</td>\n",
       "      <td>4</td>\n",
       "      <td>2</td>\n",
       "      <td>0</td>\n",
       "    </tr>\n",
       "    <tr>\n",
       "      <th>2</th>\n",
       "      <td>3</td>\n",
       "      <td>1</td>\n",
       "      <td>5</td>\n",
       "      <td>0</td>\n",
       "      <td>0</td>\n",
       "      <td>1</td>\n",
       "      <td>3</td>\n",
       "      <td>2</td>\n",
       "      <td>1</td>\n",
       "      <td>1</td>\n",
       "    </tr>\n",
       "    <tr>\n",
       "      <th>3</th>\n",
       "      <td>1</td>\n",
       "      <td>1</td>\n",
       "      <td>5</td>\n",
       "      <td>1</td>\n",
       "      <td>0</td>\n",
       "      <td>4</td>\n",
       "      <td>3</td>\n",
       "      <td>4</td>\n",
       "      <td>2</td>\n",
       "      <td>0</td>\n",
       "    </tr>\n",
       "    <tr>\n",
       "      <th>4</th>\n",
       "      <td>3</td>\n",
       "      <td>2</td>\n",
       "      <td>5</td>\n",
       "      <td>0</td>\n",
       "      <td>0</td>\n",
       "      <td>2</td>\n",
       "      <td>3</td>\n",
       "      <td>3</td>\n",
       "      <td>1</td>\n",
       "      <td>1</td>\n",
       "    </tr>\n",
       "  </tbody>\n",
       "</table>\n",
       "</div>"
      ],
      "text/plain": [
       "   Pclass  Sex  Age  SibSp  Parch  Fare  Embarked  Title  FamilySize  IsAlone\n",
       "0       3    2    4      1      0     1         3      3           2        0\n",
       "1       1    1    6      1      0     4         1      4           2        0\n",
       "2       3    1    5      0      0     1         3      2           1        1\n",
       "3       1    1    5      1      0     4         3      4           2        0\n",
       "4       3    2    5      0      0     2         3      3           1        1"
      ]
     },
     "execution_count": 25,
     "metadata": {},
     "output_type": "execute_result"
    }
   ],
   "source": [
    "fare_bin = (-1, 0, 8, 15, 31, 1000)\n",
    "group_names = ['Unknown', '1_quartile', '2_quartile', '3_quartile', '4_quartile']\n",
    "fare_cat = pd.cut(data['Fare'],bins=fare_bin,labels=group_names)\n",
    "data['Fare'] = fare_cat.cat.codes\n",
    "data.head()"
   ]
  },
  {
   "cell_type": "code",
   "execution_count": 26,
   "metadata": {
    "collapsed": true
   },
   "outputs": [],
   "source": [
    "if os.path.exists('./working/train.csv'):\n",
    "    os.remove('./working/train.csv')\n",
    "    \n",
    "save_train = data.iloc[0:891].copy()\n",
    "save_train['Survived'] = y_train\n",
    "save_train.to_csv('./working/train.csv',index=False)\n",
    "\n",
    "if os.path.exists('./working/test.csv'):\n",
    "    os.remove('./working/test.csv')\n",
    "    \n",
    "save_val = data.iloc[891:].copy()\n",
    "save_val.to_csv('./working/test.csv',index=False)"
   ]
  },
  {
   "cell_type": "code",
   "execution_count": 27,
   "metadata": {
    "collapsed": true
   },
   "outputs": [],
   "source": [
    "def generator_data():\n",
    "    x_train = pd.read_csv('./working/train.csv', header=0,)\n",
    "    y_train = x_train.pop('Survived') \n",
    "    x_train,x_test,y_train,y_test = train_test_split(x_train, y_train, test_size=0.2, random_state=33)\n",
    "    \n",
    "    y_train = np.asarray(y_train)\n",
    "    x_train = np.asarray(x_train)\n",
    "\n",
    "    y_test = np.asarray(y_test)\n",
    "    y_train = np.asarray(y_train)\n",
    "    \n",
    "    return x_train,y_train,x_test,y_test"
   ]
  },
  {
   "cell_type": "code",
   "execution_count": 28,
   "metadata": {},
   "outputs": [
    {
     "data": {
      "text/plain": [
       "array([[3, 2, 5, ..., 3, 1, 1],\n",
       "       [2, 1, 6, ..., 4, 3, 0],\n",
       "       [3, 2, 4, ..., 3, 1, 1],\n",
       "       ...,\n",
       "       [2, 2, 4, ..., 3, 2, 0],\n",
       "       [3, 2, 4, ..., 3, 1, 1],\n",
       "       [2, 2, 5, ..., 3, 1, 1]], dtype=int64)"
      ]
     },
     "execution_count": 28,
     "metadata": {},
     "output_type": "execute_result"
    }
   ],
   "source": [
    "x_train_,y_train_,x_test_,y_test_ = generator_data()\n",
    "x_train_"
   ]
  },
  {
   "cell_type": "code",
   "execution_count": 29,
   "metadata": {},
   "outputs": [
    {
     "name": "stderr",
     "output_type": "stream",
     "text": [
      "Using TensorFlow backend.\n"
     ]
    }
   ],
   "source": [
    "from hyperopt import Trials, STATUS_OK, tpe,hp\n",
    "from hyperopt.fmin import fmin\n",
    "from hyperas import optim\n",
    "from hyperas.distributions import choice, uniform\n",
    "\n",
    "\n",
    "def create_model(x_train,y_train,x_test,y_test):\n",
    "    '''\n",
    "    :return: keras model\n",
    "    '''\n",
    "    model = keras.models.Sequential()\n",
    "    model.add(keras.layers.Dense({{choice([16,32,64,128])}}, activation='relu',kernel_regularizer=keras.regularizers.l1_l2(l1=0.001,l2=0.001)))\n",
    "    model.add(keras.layers.Dropout({{uniform(0.1,0.8)}}))\n",
    "    model.add(keras.layers.Dense({{choice([16,32,64,128])}}, activation='relu',kernel_regularizer=keras.regularizers.l1_l2(l1=0.001,l2=0.001)))\n",
    "    model.add(keras.layers.Dropout({{uniform(0.1,0.8)}}))\n",
    "    model.add(keras.layers.Dense({{choice([16,32,64,128])}}, activation='relu',kernel_regularizer=keras.regularizers.l1_l2(l1=0.001,l2=0.001)))\n",
    "    model.add(keras.layers.Dropout({{uniform(0.1,0.8)}}))\n",
    "    model.add(keras.layers.Dense(1,activation='sigmoid'))\n",
    "#     model.add(keras.layers.Dense(8, activation='relu'))\n",
    "    model.compile(optimizer=keras.optimizers.RMSprop(), loss=keras.losses.binary_crossentropy, metrics=[keras.metrics.binary_accuracy])\n",
    "    \n",
    "    history = model.fit(x_train,y_train,batch_size=128,validation_data=[x_test,y_test],epochs=20)\n",
    "    \n",
    "    validation_acc = np.amax(history.history['val_binary_accuracy']) \n",
    "    \n",
    "    return {'loss': -validation_acc, 'status': STATUS_OK, 'model': model}"
   ]
  },
  {
   "cell_type": "code",
   "execution_count": 30,
   "metadata": {
    "scrolled": true
   },
   "outputs": [
    {
     "name": "stdout",
     "output_type": "stream",
     "text": [
      ">>> Imports:\n",
      "#coding=utf-8\n",
      "\n",
      "try:\n",
      "    import os\n",
      "except:\n",
      "    pass\n",
      "\n",
      "try:\n",
      "    import numpy as np\n",
      "except:\n",
      "    pass\n",
      "\n",
      "try:\n",
      "    import pandas as pd\n",
      "except:\n",
      "    pass\n",
      "\n",
      "try:\n",
      "    import keras\n",
      "except:\n",
      "    pass\n",
      "\n",
      "try:\n",
      "    from sklearn.model_selection import train_test_split\n",
      "except:\n",
      "    pass\n",
      "\n",
      "try:\n",
      "    import matplotlib.pyplot as plt\n",
      "except:\n",
      "    pass\n",
      "\n",
      "try:\n",
      "    from hyperopt import Trials, STATUS_OK, tpe, hp\n",
      "except:\n",
      "    pass\n",
      "\n",
      "try:\n",
      "    from hyperopt.fmin import fmin\n",
      "except:\n",
      "    pass\n",
      "\n",
      "try:\n",
      "    from hyperas import optim\n",
      "except:\n",
      "    pass\n",
      "\n",
      "try:\n",
      "    from hyperas.distributions import choice, uniform\n",
      "except:\n",
      "    pass\n",
      "\n",
      "try:\n",
      "    from keras.models import load_model\n",
      "except:\n",
      "    pass\n",
      "\n",
      "try:\n",
      "    import xgboost as xgb\n",
      "except:\n",
      "    pass\n",
      "\n",
      "try:\n",
      "    from sklearn.model_selection import StratifiedKFold\n",
      "except:\n",
      "    pass\n",
      "\n",
      "try:\n",
      "    import hyperopt.pyll.stochastic\n",
      "except:\n",
      "    pass\n",
      "\n",
      "try:\n",
      "    from sklearn.metrics import make_scorer\n",
      "except:\n",
      "    pass\n",
      "\n",
      "try:\n",
      "    from sklearn.model_selection import cross_val_score\n",
      "except:\n",
      "    pass\n",
      "\n",
      "try:\n",
      "    import lightgbm as lgbm\n",
      "except:\n",
      "    pass\n",
      "\n",
      "try:\n",
      "    from sklearn.ensemble import RandomForestClassifier\n",
      "except:\n",
      "    pass\n",
      "\n",
      "try:\n",
      "    from keras.wrappers.scikit_learn import KerasClassifier\n",
      "except:\n",
      "    pass\n",
      "\n",
      "try:\n",
      "    from sklearn.model_selection import ShuffleSplit\n",
      "except:\n",
      "    pass\n",
      "\n",
      "try:\n",
      "    from sklearn import ensemble\n",
      "except:\n",
      "    pass\n",
      "\n",
      "try:\n",
      "    from sklearn import model_selection\n",
      "except:\n",
      "    pass\n",
      "\n",
      "try:\n",
      "    import types\n",
      "except:\n",
      "    pass\n",
      "\n",
      ">>> Hyperas search space:\n",
      "\n",
      "def get_space():\n",
      "    return {\n",
      "        'Dense': hp.choice('Dense', [16,32,64,128]),\n",
      "        'Dropout': hp.uniform('Dropout', 0.1,0.8),\n",
      "        'Dense_1': hp.choice('Dense_1', [16,32,64,128]),\n",
      "        'Dropout_1': hp.uniform('Dropout_1', 0.1,0.8),\n",
      "        'Dense_2': hp.choice('Dense_2', [16,32,64,128]),\n",
      "        'Dropout_2': hp.uniform('Dropout_2', 0.1,0.8),\n",
      "    }\n",
      "\n",
      ">>> Data\n",
      "  1: \n",
      "  2: x_train = pd.read_csv('./working/train.csv', header=0,)\n",
      "  3: y_train = x_train.pop('Survived') \n",
      "  4: x_train,x_test,y_train,y_test = train_test_split(x_train, y_train, test_size=0.2, random_state=33)\n",
      "  5: \n",
      "  6: y_train = np.asarray(y_train)\n",
      "  7: x_train = np.asarray(x_train)\n",
      "  8: \n",
      "  9: y_test = np.asarray(y_test)\n",
      " 10: y_train = np.asarray(y_train)\n",
      " 11: \n",
      " 12: \n",
      " 13: \n",
      " 14: \n",
      ">>> Resulting replaced keras model:\n",
      "\n",
      "   1: def keras_fmin_fnct(space):\n",
      "   2: \n",
      "   3:     '''\n",
      "   4:     :return: keras model\n",
      "   5:     '''\n",
      "   6:     model = keras.models.Sequential()\n",
      "   7:     model.add(keras.layers.Dense(space['Dense'], activation='relu',kernel_regularizer=keras.regularizers.l1_l2(l1=0.001,l2=0.001)))\n",
      "   8:     model.add(keras.layers.Dropout(space['Dropout']))\n",
      "   9:     model.add(keras.layers.Dense(space['Dense_1'], activation='relu',kernel_regularizer=keras.regularizers.l1_l2(l1=0.001,l2=0.001)))\n",
      "  10:     model.add(keras.layers.Dropout(space['Dropout_1']))\n",
      "  11:     model.add(keras.layers.Dense(space['Dense_2'], activation='relu',kernel_regularizer=keras.regularizers.l1_l2(l1=0.001,l2=0.001)))\n",
      "  12:     model.add(keras.layers.Dropout(space['Dropout_2']))\n",
      "  13:     model.add(keras.layers.Dense(1,activation='sigmoid'))\n",
      "  14: #     model.add(keras.layers.Dense(8, activation='relu'))\n",
      "  15:     model.compile(optimizer=keras.optimizers.RMSprop(), loss=keras.losses.binary_crossentropy, metrics=[keras.metrics.binary_accuracy])\n",
      "  16:     \n",
      "  17:     history = model.fit(x_train,y_train,batch_size=128,validation_data=[x_test,y_test],epochs=20)\n",
      "  18:     \n",
      "  19:     validation_acc = np.amax(history.history['val_binary_accuracy']) \n",
      "  20:     \n",
      "  21:     return {'loss': -validation_acc, 'status': STATUS_OK, 'model': model}\n",
      "  22: \n",
      "Train on 712 samples, validate on 179 samples\n",
      "Epoch 1/20\n",
      "712/712 [==============================] - 0s 523us/step - loss: 1.5470 - binary_accuracy: 0.5815 - val_loss: 1.2506 - val_binary_accuracy: 0.5978\n",
      "Epoch 2/20\n",
      "712/712 [==============================] - 0s 17us/step - loss: 1.3913 - binary_accuracy: 0.5632 - val_loss: 1.2310 - val_binary_accuracy: 0.5978\n",
      "Epoch 3/20\n",
      "712/712 [==============================] - 0s 18us/step - loss: 1.3894 - binary_accuracy: 0.5520 - val_loss: 1.2187 - val_binary_accuracy: 0.5754\n",
      "Epoch 4/20\n",
      "712/712 [==============================] - 0s 18us/step - loss: 1.3176 - binary_accuracy: 0.5716 - val_loss: 1.2081 - val_binary_accuracy: 0.5642\n",
      "Epoch 5/20\n",
      "712/712 [==============================] - 0s 15us/step - loss: 1.2733 - binary_accuracy: 0.5730 - val_loss: 1.1951 - val_binary_accuracy: 0.5698\n",
      "Epoch 6/20\n",
      "712/712 [==============================] - 0s 18us/step - loss: 1.2339 - binary_accuracy: 0.6053 - val_loss: 1.1874 - val_binary_accuracy: 0.5754\n",
      "Epoch 7/20\n",
      "712/712 [==============================] - 0s 18us/step - loss: 1.2473 - binary_accuracy: 0.5730 - val_loss: 1.1782 - val_binary_accuracy: 0.6089\n",
      "Epoch 8/20\n",
      "712/712 [==============================] - 0s 15us/step - loss: 1.2280 - binary_accuracy: 0.5801 - val_loss: 1.1693 - val_binary_accuracy: 0.6257\n",
      "Epoch 9/20\n",
      "712/712 [==============================] - 0s 17us/step - loss: 1.2058 - binary_accuracy: 0.5829 - val_loss: 1.1626 - val_binary_accuracy: 0.6369\n",
      "Epoch 10/20\n",
      "712/712 [==============================] - 0s 15us/step - loss: 1.1944 - binary_accuracy: 0.5801 - val_loss: 1.1524 - val_binary_accuracy: 0.6369\n",
      "Epoch 11/20\n",
      "712/712 [==============================] - 0s 15us/step - loss: 1.1645 - binary_accuracy: 0.5997 - val_loss: 1.1418 - val_binary_accuracy: 0.6313\n",
      "Epoch 12/20\n",
      "712/712 [==============================] - 0s 17us/step - loss: 1.1619 - binary_accuracy: 0.5969 - val_loss: 1.1320 - val_binary_accuracy: 0.6425\n",
      "Epoch 13/20\n",
      "712/712 [==============================] - 0s 17us/step - loss: 1.1582 - binary_accuracy: 0.6025 - val_loss: 1.1231 - val_binary_accuracy: 0.6480\n",
      "Epoch 14/20\n",
      "712/712 [==============================] - 0s 15us/step - loss: 1.1593 - binary_accuracy: 0.6138 - val_loss: 1.1157 - val_binary_accuracy: 0.6592\n",
      "Epoch 15/20\n",
      "712/712 [==============================] - 0s 15us/step - loss: 1.1396 - binary_accuracy: 0.6025 - val_loss: 1.1073 - val_binary_accuracy: 0.6592\n",
      "Epoch 16/20\n",
      "712/712 [==============================] - 0s 15us/step - loss: 1.1363 - binary_accuracy: 0.5969 - val_loss: 1.1042 - val_binary_accuracy: 0.6704\n",
      "Epoch 17/20\n",
      "712/712 [==============================] - 0s 17us/step - loss: 1.1200 - binary_accuracy: 0.5674 - val_loss: 1.0954 - val_binary_accuracy: 0.6816\n",
      "Epoch 18/20\n",
      "712/712 [==============================] - 0s 14us/step - loss: 1.0994 - binary_accuracy: 0.5857 - val_loss: 1.0858 - val_binary_accuracy: 0.6480\n",
      "Epoch 19/20\n",
      "712/712 [==============================] - 0s 15us/step - loss: 1.0944 - binary_accuracy: 0.5829 - val_loss: 1.0758 - val_binary_accuracy: 0.6089\n",
      "Epoch 20/20\n",
      "712/712 [==============================] - 0s 14us/step - loss: 1.0810 - binary_accuracy: 0.6124 - val_loss: 1.0638 - val_binary_accuracy: 0.5978\n",
      "Train on 712 samples, validate on 179 samples\n",
      "Epoch 1/20\n",
      "712/712 [==============================] - 0s 533us/step - loss: 2.3191 - binary_accuracy: 0.5309 - val_loss: 2.0783 - val_binary_accuracy: 0.5978\n",
      "Epoch 2/20\n",
      "712/712 [==============================] - 0s 22us/step - loss: 2.1786 - binary_accuracy: 0.5562 - val_loss: 2.0269 - val_binary_accuracy: 0.5978\n",
      "Epoch 3/20\n",
      "712/712 [==============================] - 0s 21us/step - loss: 2.0966 - binary_accuracy: 0.5787 - val_loss: 1.9768 - val_binary_accuracy: 0.5978\n",
      "Epoch 4/20\n",
      "712/712 [==============================] - 0s 21us/step - loss: 2.0517 - binary_accuracy: 0.5815 - val_loss: 1.9347 - val_binary_accuracy: 0.5978\n",
      "Epoch 5/20\n",
      "712/712 [==============================] - 0s 22us/step - loss: 2.0428 - binary_accuracy: 0.5407 - val_loss: 1.8991 - val_binary_accuracy: 0.5978\n",
      "Epoch 6/20\n",
      "712/712 [==============================] - 0s 25us/step - loss: 1.9226 - binary_accuracy: 0.6011 - val_loss: 1.8636 - val_binary_accuracy: 0.5978\n",
      "Epoch 7/20\n",
      "712/712 [==============================] - 0s 22us/step - loss: 1.9024 - binary_accuracy: 0.5899 - val_loss: 1.8310 - val_binary_accuracy: 0.5978\n",
      "Epoch 8/20\n",
      "712/712 [==============================] - 0s 23us/step - loss: 1.8757 - binary_accuracy: 0.5801 - val_loss: 1.7931 - val_binary_accuracy: 0.5978\n",
      "Epoch 9/20\n",
      "712/712 [==============================] - 0s 21us/step - loss: 1.8132 - binary_accuracy: 0.5983 - val_loss: 1.7587 - val_binary_accuracy: 0.5978\n"
     ]
    },
    {
     "name": "stdout",
     "output_type": "stream",
     "text": [
      "Epoch 10/20\n",
      "712/712 [==============================] - 0s 20us/step - loss: 1.7842 - binary_accuracy: 0.5941 - val_loss: 1.7218 - val_binary_accuracy: 0.5978\n",
      "Epoch 11/20\n",
      "712/712 [==============================] - 0s 18us/step - loss: 1.7214 - binary_accuracy: 0.6236 - val_loss: 1.6884 - val_binary_accuracy: 0.5978\n",
      "Epoch 12/20\n",
      "712/712 [==============================] - 0s 21us/step - loss: 1.6649 - binary_accuracy: 0.6376 - val_loss: 1.6514 - val_binary_accuracy: 0.5978\n",
      "Epoch 13/20\n",
      "712/712 [==============================] - 0s 21us/step - loss: 1.6499 - binary_accuracy: 0.6292 - val_loss: 1.6164 - val_binary_accuracy: 0.5978\n",
      "Epoch 14/20\n",
      "712/712 [==============================] - 0s 24us/step - loss: 1.6188 - binary_accuracy: 0.6025 - val_loss: 1.5829 - val_binary_accuracy: 0.5978\n",
      "Epoch 15/20\n",
      "712/712 [==============================] - 0s 23us/step - loss: 1.5990 - binary_accuracy: 0.5871 - val_loss: 1.5521 - val_binary_accuracy: 0.5978\n",
      "Epoch 16/20\n",
      "712/712 [==============================] - 0s 23us/step - loss: 1.5630 - binary_accuracy: 0.5983 - val_loss: 1.5200 - val_binary_accuracy: 0.5978\n",
      "Epoch 17/20\n",
      "712/712 [==============================] - 0s 21us/step - loss: 1.5123 - binary_accuracy: 0.5969 - val_loss: 1.4879 - val_binary_accuracy: 0.5978\n",
      "Epoch 18/20\n",
      "712/712 [==============================] - 0s 21us/step - loss: 1.4815 - binary_accuracy: 0.6166 - val_loss: 1.4579 - val_binary_accuracy: 0.5978\n",
      "Epoch 19/20\n",
      "712/712 [==============================] - 0s 23us/step - loss: 1.4424 - binary_accuracy: 0.6180 - val_loss: 1.4259 - val_binary_accuracy: 0.5978\n",
      "Epoch 20/20\n",
      "712/712 [==============================] - 0s 24us/step - loss: 1.4133 - binary_accuracy: 0.6334 - val_loss: 1.3950 - val_binary_accuracy: 0.5978\n",
      "Train on 712 samples, validate on 179 samples\n",
      "Epoch 1/20\n",
      "712/712 [==============================] - 0s 606us/step - loss: 1.7661 - binary_accuracy: 0.5351 - val_loss: 1.6409 - val_binary_accuracy: 0.5978\n",
      "Epoch 2/20\n",
      "712/712 [==============================] - 0s 21us/step - loss: 1.6566 - binary_accuracy: 0.5997 - val_loss: 1.5878 - val_binary_accuracy: 0.5978\n",
      "Epoch 3/20\n",
      "712/712 [==============================] - 0s 21us/step - loss: 1.6290 - binary_accuracy: 0.5885 - val_loss: 1.5548 - val_binary_accuracy: 0.5978\n",
      "Epoch 4/20\n",
      "712/712 [==============================] - 0s 21us/step - loss: 1.5948 - binary_accuracy: 0.5660 - val_loss: 1.5286 - val_binary_accuracy: 0.5978\n",
      "Epoch 5/20\n",
      "712/712 [==============================] - 0s 21us/step - loss: 1.5580 - binary_accuracy: 0.5885 - val_loss: 1.4994 - val_binary_accuracy: 0.5978\n",
      "Epoch 6/20\n",
      "712/712 [==============================] - 0s 20us/step - loss: 1.4959 - binary_accuracy: 0.6011 - val_loss: 1.4648 - val_binary_accuracy: 0.5978\n",
      "Epoch 7/20\n",
      "712/712 [==============================] - 0s 18us/step - loss: 1.4745 - binary_accuracy: 0.6110 - val_loss: 1.4345 - val_binary_accuracy: 0.5978\n",
      "Epoch 8/20\n",
      "712/712 [==============================] - 0s 20us/step - loss: 1.4447 - binary_accuracy: 0.6081 - val_loss: 1.4019 - val_binary_accuracy: 0.5978\n",
      "Epoch 9/20\n",
      "712/712 [==============================] - 0s 18us/step - loss: 1.4216 - binary_accuracy: 0.6166 - val_loss: 1.3724 - val_binary_accuracy: 0.6034\n",
      "Epoch 10/20\n",
      "712/712 [==============================] - 0s 21us/step - loss: 1.3981 - binary_accuracy: 0.5885 - val_loss: 1.3467 - val_binary_accuracy: 0.6034\n",
      "Epoch 11/20\n",
      "712/712 [==============================] - 0s 20us/step - loss: 1.3451 - binary_accuracy: 0.6250 - val_loss: 1.3125 - val_binary_accuracy: 0.6480\n",
      "Epoch 12/20\n",
      "712/712 [==============================] - 0s 18us/step - loss: 1.3369 - binary_accuracy: 0.6067 - val_loss: 1.2874 - val_binary_accuracy: 0.6034\n",
      "Epoch 13/20\n",
      "712/712 [==============================] - 0s 18us/step - loss: 1.2850 - binary_accuracy: 0.6222 - val_loss: 1.2639 - val_binary_accuracy: 0.5978\n",
      "Epoch 14/20\n",
      "712/712 [==============================] - 0s 17us/step - loss: 1.2573 - binary_accuracy: 0.6264 - val_loss: 1.2344 - val_binary_accuracy: 0.6034\n",
      "Epoch 15/20\n",
      "712/712 [==============================] - 0s 24us/step - loss: 1.2382 - binary_accuracy: 0.6110 - val_loss: 1.2095 - val_binary_accuracy: 0.5978\n",
      "Epoch 16/20\n",
      "712/712 [==============================] - 0s 20us/step - loss: 1.2241 - binary_accuracy: 0.6264 - val_loss: 1.1860 - val_binary_accuracy: 0.6145\n",
      "Epoch 17/20\n",
      "712/712 [==============================] - 0s 21us/step - loss: 1.1877 - binary_accuracy: 0.6292 - val_loss: 1.1601 - val_binary_accuracy: 0.6034\n",
      "Epoch 18/20\n",
      "712/712 [==============================] - 0s 21us/step - loss: 1.1663 - binary_accuracy: 0.6236 - val_loss: 1.1389 - val_binary_accuracy: 0.5978\n",
      "Epoch 19/20\n",
      "712/712 [==============================] - 0s 18us/step - loss: 1.1386 - binary_accuracy: 0.6264 - val_loss: 1.1154 - val_binary_accuracy: 0.5978\n",
      "Epoch 20/20\n",
      "712/712 [==============================] - 0s 20us/step - loss: 1.1235 - binary_accuracy: 0.6320 - val_loss: 1.0948 - val_binary_accuracy: 0.6034\n",
      "Train on 712 samples, validate on 179 samples\n",
      "Epoch 1/20\n",
      "712/712 [==============================] - 1s 712us/step - loss: 1.2005 - binary_accuracy: 0.5478 - val_loss: 1.1556 - val_binary_accuracy: 0.5978\n",
      "Epoch 2/20\n",
      "712/712 [==============================] - 0s 18us/step - loss: 1.1547 - binary_accuracy: 0.5941 - val_loss: 1.1302 - val_binary_accuracy: 0.5978\n",
      "Epoch 3/20\n",
      "712/712 [==============================] - 0s 21us/step - loss: 1.1200 - binary_accuracy: 0.6039 - val_loss: 1.1097 - val_binary_accuracy: 0.5978\n",
      "Epoch 4/20\n",
      "712/712 [==============================] - 0s 20us/step - loss: 1.1176 - binary_accuracy: 0.6208 - val_loss: 1.0916 - val_binary_accuracy: 0.5978\n",
      "Epoch 5/20\n",
      "712/712 [==============================] - 0s 15us/step - loss: 1.0893 - binary_accuracy: 0.6180 - val_loss: 1.0742 - val_binary_accuracy: 0.5978\n",
      "Epoch 6/20\n",
      "712/712 [==============================] - 0s 18us/step - loss: 1.0785 - binary_accuracy: 0.6222 - val_loss: 1.0570 - val_binary_accuracy: 0.5978\n",
      "Epoch 7/20\n",
      "712/712 [==============================] - 0s 20us/step - loss: 1.0486 - binary_accuracy: 0.6306 - val_loss: 1.0345 - val_binary_accuracy: 0.5978\n",
      "Epoch 8/20\n",
      "712/712 [==============================] - 0s 15us/step - loss: 1.0389 - binary_accuracy: 0.6236 - val_loss: 1.0150 - val_binary_accuracy: 0.5978\n",
      "Epoch 9/20\n",
      "712/712 [==============================] - 0s 18us/step - loss: 1.0239 - binary_accuracy: 0.6376 - val_loss: 0.9967 - val_binary_accuracy: 0.6089\n",
      "Epoch 10/20\n",
      "712/712 [==============================] - 0s 15us/step - loss: 1.0043 - binary_accuracy: 0.6292 - val_loss: 0.9763 - val_binary_accuracy: 0.6425\n",
      "Epoch 11/20\n",
      "712/712 [==============================] - 0s 17us/step - loss: 0.9843 - binary_accuracy: 0.6461 - val_loss: 0.9611 - val_binary_accuracy: 0.6480\n",
      "Epoch 12/20\n",
      "712/712 [==============================] - 0s 20us/step - loss: 0.9682 - binary_accuracy: 0.6348 - val_loss: 0.9388 - val_binary_accuracy: 0.6480\n",
      "Epoch 13/20\n",
      "712/712 [==============================] - 0s 18us/step - loss: 0.9657 - binary_accuracy: 0.6503 - val_loss: 0.9240 - val_binary_accuracy: 0.6872\n",
      "Epoch 14/20\n",
      "712/712 [==============================] - 0s 18us/step - loss: 0.9497 - binary_accuracy: 0.6376 - val_loss: 0.9096 - val_binary_accuracy: 0.6760\n",
      "Epoch 15/20\n",
      "712/712 [==============================] - 0s 20us/step - loss: 0.9356 - binary_accuracy: 0.6404 - val_loss: 0.8940 - val_binary_accuracy: 0.6760\n",
      "Epoch 16/20\n",
      "712/712 [==============================] - 0s 18us/step - loss: 0.9168 - binary_accuracy: 0.6629 - val_loss: 0.8776 - val_binary_accuracy: 0.7263\n",
      "Epoch 17/20\n",
      "712/712 [==============================] - 0s 21us/step - loss: 0.8970 - binary_accuracy: 0.6517 - val_loss: 0.8623 - val_binary_accuracy: 0.7430\n",
      "Epoch 18/20\n",
      "712/712 [==============================] - 0s 21us/step - loss: 0.8926 - binary_accuracy: 0.6489 - val_loss: 0.8491 - val_binary_accuracy: 0.7542\n",
      "Epoch 19/20\n",
      "712/712 [==============================] - 0s 18us/step - loss: 0.8847 - binary_accuracy: 0.6362 - val_loss: 0.8358 - val_binary_accuracy: 0.7151\n",
      "Epoch 20/20\n",
      "712/712 [==============================] - 0s 17us/step - loss: 0.8728 - binary_accuracy: 0.6728 - val_loss: 0.8235 - val_binary_accuracy: 0.7486\n",
      "Train on 712 samples, validate on 179 samples\n",
      "Epoch 1/20\n",
      "712/712 [==============================] - 1s 735us/step - loss: 1.8011 - binary_accuracy: 0.5309 - val_loss: 1.5069 - val_binary_accuracy: 0.5922\n",
      "Epoch 2/20\n",
      "712/712 [==============================] - 0s 20us/step - loss: 1.5749 - binary_accuracy: 0.5758 - val_loss: 1.4658 - val_binary_accuracy: 0.5978\n",
      "Epoch 3/20\n",
      "712/712 [==============================] - 0s 20us/step - loss: 1.5633 - binary_accuracy: 0.5463 - val_loss: 1.4409 - val_binary_accuracy: 0.6536\n",
      "Epoch 4/20\n",
      "712/712 [==============================] - 0s 24us/step - loss: 1.4841 - binary_accuracy: 0.5744 - val_loss: 1.4164 - val_binary_accuracy: 0.6257\n",
      "Epoch 5/20\n",
      "712/712 [==============================] - 0s 20us/step - loss: 1.4595 - binary_accuracy: 0.5899 - val_loss: 1.4010 - val_binary_accuracy: 0.5978\n",
      "Epoch 6/20\n",
      "712/712 [==============================] - 0s 20us/step - loss: 1.4284 - binary_accuracy: 0.5997 - val_loss: 1.3768 - val_binary_accuracy: 0.6089\n",
      "Epoch 7/20\n",
      "712/712 [==============================] - 0s 18us/step - loss: 1.3899 - binary_accuracy: 0.6081 - val_loss: 1.3568 - val_binary_accuracy: 0.6034\n",
      "Epoch 8/20\n",
      "712/712 [==============================] - 0s 20us/step - loss: 1.3683 - binary_accuracy: 0.6067 - val_loss: 1.3347 - val_binary_accuracy: 0.6257\n",
      "Epoch 9/20\n",
      "712/712 [==============================] - 0s 20us/step - loss: 1.3499 - binary_accuracy: 0.6039 - val_loss: 1.3123 - val_binary_accuracy: 0.6145\n",
      "Epoch 10/20\n",
      "712/712 [==============================] - 0s 20us/step - loss: 1.3413 - binary_accuracy: 0.5927 - val_loss: 1.2823 - val_binary_accuracy: 0.6034\n",
      "Epoch 11/20\n",
      "712/712 [==============================] - 0s 20us/step - loss: 1.3128 - binary_accuracy: 0.5899 - val_loss: 1.2627 - val_binary_accuracy: 0.6034\n",
      "Epoch 12/20\n",
      "712/712 [==============================] - 0s 18us/step - loss: 1.2743 - binary_accuracy: 0.6138 - val_loss: 1.2373 - val_binary_accuracy: 0.6034\n",
      "Epoch 13/20\n",
      "712/712 [==============================] - 0s 20us/step - loss: 1.2580 - binary_accuracy: 0.6067 - val_loss: 1.2199 - val_binary_accuracy: 0.6034\n",
      "Epoch 14/20\n",
      "712/712 [==============================] - 0s 20us/step - loss: 1.2298 - binary_accuracy: 0.6278 - val_loss: 1.1985 - val_binary_accuracy: 0.6257\n",
      "Epoch 15/20\n",
      "712/712 [==============================] - 0s 18us/step - loss: 1.2187 - binary_accuracy: 0.6292 - val_loss: 1.1812 - val_binary_accuracy: 0.6257\n",
      "Epoch 16/20\n",
      "712/712 [==============================] - 0s 20us/step - loss: 1.1815 - binary_accuracy: 0.6166 - val_loss: 1.1471 - val_binary_accuracy: 0.6425\n",
      "Epoch 17/20\n",
      "712/712 [==============================] - 0s 21us/step - loss: 1.1581 - binary_accuracy: 0.6306 - val_loss: 1.1285 - val_binary_accuracy: 0.6983\n",
      "Epoch 18/20\n",
      "712/712 [==============================] - 0s 20us/step - loss: 1.1509 - binary_accuracy: 0.6348 - val_loss: 1.1062 - val_binary_accuracy: 0.7207\n",
      "Epoch 19/20\n",
      "712/712 [==============================] - 0s 20us/step - loss: 1.1215 - binary_accuracy: 0.6362 - val_loss: 1.0891 - val_binary_accuracy: 0.7151\n",
      "Epoch 20/20\n",
      "712/712 [==============================] - 0s 20us/step - loss: 1.1034 - binary_accuracy: 0.6503 - val_loss: 1.0643 - val_binary_accuracy: 0.7095\n"
     ]
    }
   ],
   "source": [
    "keras.backend.clear_session()\n",
    "\n",
    "best_run, best_model= optim.minimize(model=create_model,\n",
    "                                          data=generator_data,\n",
    "                                          algo=tpe.suggest,\n",
    "                                          max_evals=5,\n",
    "                                          trials=Trials(),notebook_name='titanic_v2')\n",
    "\n"
   ]
  },
  {
   "cell_type": "code",
   "execution_count": 31,
   "metadata": {},
   "outputs": [
    {
     "name": "stdout",
     "output_type": "stream",
     "text": [
      "Evalutation of best performing model:\n",
      "179/179 [==============================] - 0s 28us/step\n",
      "[0.8235466713345917, 0.7486033509563468]\n",
      "Best performing model chosen hyper-parameters:\n",
      "{'Dense': 2, 'Dense_1': 0, 'Dense_2': 3, 'Dropout': 0.38886345096749875, 'Dropout_1': 0.4391118666124083, 'Dropout_2': 0.11825586217831917}\n"
     ]
    }
   ],
   "source": [
    "print(\"Evalutation of best performing model:\")\n",
    "print(best_model.evaluate(x_test_,y_test_))\n",
    "print(\"Best performing model chosen hyper-parameters:\")\n",
    "print(best_run)"
   ]
  },
  {
   "cell_type": "code",
   "execution_count": 32,
   "metadata": {
    "collapsed": true
   },
   "outputs": [],
   "source": [
    "best_model.save('./working/best_model.h5')"
   ]
  },
  {
   "cell_type": "code",
   "execution_count": 35,
   "metadata": {
    "collapsed": true
   },
   "outputs": [],
   "source": [
    "from keras.models import load_model\n",
    "model = load_model('./working/best_model.h5')"
   ]
  },
  {
   "cell_type": "code",
   "execution_count": 36,
   "metadata": {},
   "outputs": [
    {
     "name": "stdout",
     "output_type": "stream",
     "text": [
      "179/179 [==============================] - 0s 874us/step\n"
     ]
    },
    {
     "data": {
      "text/plain": [
       "[0.823546687650947, 0.7486033556181625]"
      ]
     },
     "execution_count": 36,
     "metadata": {},
     "output_type": "execute_result"
    }
   ],
   "source": [
    "model.evaluate(x_test_,y_test_,batch_size=64)"
   ]
  },
  {
   "cell_type": "markdown",
   "metadata": {},
   "source": [
    "#### xgboost"
   ]
  },
  {
   "cell_type": "code",
   "execution_count": 65,
   "metadata": {
    "collapsed": true
   },
   "outputs": [],
   "source": [
    "import xgboost as xgb  \n",
    "from sklearn.model_selection import StratifiedKFold\n",
    "import hyperopt.pyll.stochastic\n",
    "from sklearn.metrics import make_scorer\n",
    "from sklearn.model_selection import cross_val_score"
   ]
  },
  {
   "cell_type": "code",
   "execution_count": 58,
   "metadata": {
    "collapsed": true
   },
   "outputs": [],
   "source": [
    "def gini(truth, predictions):\n",
    "    g = np.asarray(np.c_[truth, predictions, np.arange(len(truth)) ], dtype=np.float)\n",
    "    g = g[np.lexsort((g[:,2], -1*g[:,1]))]\n",
    "    gs = g[:,0].cumsum().sum() / g[:,0].sum()\n",
    "    gs -= (len(truth) + 1) / 2.\n",
    "    return gs / len(truth)\n",
    "\n",
    "def gini_xgb(predictions, truth):\n",
    "    truth = truth.get_label()\n",
    "    return 'gini', -1.0 * gini(truth, predictions) / gini(truth, truth)\n",
    "\n",
    "def gini_lgb(truth, predictions):\n",
    "    score = gini(truth, predictions) / gini(truth, truth)\n",
    "    return 'gini', score, True\n",
    "\n",
    "def gini_sklearn(truth, predictions):\n",
    "    return gini(truth, predictions) / gini(truth, truth)\n",
    "\n",
    "gini_scorer = make_scorer(gini_sklearn, greater_is_better=True, needs_proba=True)"
   ]
  },
  {
   "cell_type": "code",
   "execution_count": 112,
   "metadata": {
    "collapsed": true
   },
   "outputs": [],
   "source": [
    "xgb_space={\n",
    "  #XGBClassifier - http://xgboost.readthedocs.io/en/latest/parameter.html\n",
    "            'learning_rate': hp.choice('learning_rate',[.01, .03, .05, .1, .25]), #default: .3\n",
    "            'max_depth': hp.choice('max_depth',[1,2,4,6,8,10]), #default 2\n",
    "            'n_estimators':hp.choice('grid_n_estimator',[10, 50, 100, 300]) , \n",
    "            'colsample_bytree': hp.uniform('colsample_bytree', 0.3, 1.0),\n",
    "            'gamma': hp.uniform('gamma', 0.0, 0.5),\n",
    "}"
   ]
  },
  {
   "cell_type": "code",
   "execution_count": 113,
   "metadata": {},
   "outputs": [
    {
     "data": {
      "text/plain": [
       "{'colsample_bytree': 0.5059774069533536,\n",
       " 'gamma': 0.25090304858874624,\n",
       " 'learning_rate': 0.25,\n",
       " 'max_depth': 2,\n",
       " 'n_estimators': 50}"
      ]
     },
     "execution_count": 113,
     "metadata": {},
     "output_type": "execute_result"
    }
   ],
   "source": [
    "hyperopt.pyll.stochastic.sample(xgb_space)"
   ]
  },
  {
   "cell_type": "code",
   "execution_count": 114,
   "metadata": {
    "collapsed": true
   },
   "outputs": [],
   "source": [
    "def xgb_objective(params):\n",
    "    param = {\n",
    "        'gamma':\"{:.3f}\".format(params['gamma']),\n",
    "        'colsample_bytree':\"{:.3f}\".format(params['colsample_bytree']),\n",
    "        'learning_rate':params['learning_rate'],\n",
    "        'n_estimators':params['n_estimators'],\n",
    "        'max_depth':params['max_depth']\n",
    "    }\n",
    "    \n",
    "    clf = xgb.XGBClassifier(seed=0,** param)\n",
    "    \n",
    "    score = cross_val_score(clf, x_train_, y_train_, scoring=gini_scorer, cv=StratifiedKFold()).mean()\n",
    "    print(\"Gini {:.3f} params {}\".format(score, params))\n",
    "    return score"
   ]
  },
  {
   "cell_type": "code",
   "execution_count": 115,
   "metadata": {
    "scrolled": true
   },
   "outputs": [
    {
     "name": "stderr",
     "output_type": "stream",
     "text": [
      "e:\\anaconda3_5_0_0\\envs\\deeplearning\\lib\\site-packages\\sklearn\\model_selection\\_split.py:598: FutureWarning: You should specify a value for 'n_splits' instead of relying on the default value. The default value will change from 3 to 5 in version 0.22.\n",
      "  warnings.warn(NSPLIT_WARNING, FutureWarning)\n",
      "e:\\anaconda3_5_0_0\\envs\\deeplearning\\lib\\site-packages\\sklearn\\model_selection\\_split.py:598: FutureWarning: You should specify a value for 'n_splits' instead of relying on the default value. The default value will change from 3 to 5 in version 0.22.\n",
      "  warnings.warn(NSPLIT_WARNING, FutureWarning)\n",
      "e:\\anaconda3_5_0_0\\envs\\deeplearning\\lib\\site-packages\\sklearn\\model_selection\\_split.py:598: FutureWarning: You should specify a value for 'n_splits' instead of relying on the default value. The default value will change from 3 to 5 in version 0.22.\n",
      "  warnings.warn(NSPLIT_WARNING, FutureWarning)\n",
      "e:\\anaconda3_5_0_0\\envs\\deeplearning\\lib\\site-packages\\sklearn\\model_selection\\_split.py:598: FutureWarning: You should specify a value for 'n_splits' instead of relying on the default value. The default value will change from 3 to 5 in version 0.22.\n",
      "  warnings.warn(NSPLIT_WARNING, FutureWarning)\n",
      "e:\\anaconda3_5_0_0\\envs\\deeplearning\\lib\\site-packages\\sklearn\\model_selection\\_split.py:598: FutureWarning: You should specify a value for 'n_splits' instead of relying on the default value. The default value will change from 3 to 5 in version 0.22.\n",
      "  warnings.warn(NSPLIT_WARNING, FutureWarning)\n"
     ]
    },
    {
     "name": "stdout",
     "output_type": "stream",
     "text": [
      "Gini 0.699 params {'colsample_bytree': 0.4591725362551607, 'gamma': 0.17689873629271607, 'learning_rate': 0.03, 'max_depth': 2, 'n_estimators': 10}\n",
      "Gini 0.719 params {'colsample_bytree': 0.9259237692643127, 'gamma': 0.2954896374846197, 'learning_rate': 0.01, 'max_depth': 6, 'n_estimators': 10}\n",
      "Gini 0.677 params {'colsample_bytree': 0.7347267819815047, 'gamma': 0.009514868292543444, 'learning_rate': 0.1, 'max_depth': 10, 'n_estimators': 100}\n",
      "Gini 0.693 params {'colsample_bytree': 0.5379487706695507, 'gamma': 0.44549637243973556, 'learning_rate': 0.05, 'max_depth': 1, 'n_estimators': 100}\n",
      "Gini 0.710 params {'colsample_bytree': 0.9571077216993986, 'gamma': 0.28291546661859346, 'learning_rate': 0.03, 'max_depth': 4, 'n_estimators': 50}\n",
      "Gini 0.713 params {'colsample_bytree': 0.6467897677195162, 'gamma': 0.2968993646304432, 'learning_rate': 0.05, 'max_depth': 8, 'n_estimators': 10}\n",
      "Gini 0.695 params {'colsample_bytree': 0.3001702130077853, 'gamma': 0.2903123227531913, 'learning_rate': 0.1, 'max_depth': 8, 'n_estimators': 10}\n",
      "Gini 0.726 params {'colsample_bytree': 0.6995172041166915, 'gamma': 0.18990661462535813, 'learning_rate': 0.25, 'max_depth': 4, 'n_estimators': 10}\n",
      "Gini 0.675 params {'colsample_bytree': 0.5793219363822731, 'gamma': 0.030289511477984088, 'learning_rate': 0.01, 'max_depth': 1, 'n_estimators': 300}\n",
      "Gini 0.712 params {'colsample_bytree': 0.8511163512205626, 'gamma': 0.04483405182494915, 'learning_rate': 0.1, 'max_depth': 1, 'n_estimators': 100}\n",
      "Gini 0.694 params {'colsample_bytree': 0.34572671235992086, 'gamma': 0.209898495554472, 'learning_rate': 0.1, 'max_depth': 6, 'n_estimators': 10}\n",
      "Gini 0.705 params {'colsample_bytree': 0.3357231504681908, 'gamma': 0.38761981379779575, 'learning_rate': 0.25, 'max_depth': 2, 'n_estimators': 50}\n"
     ]
    },
    {
     "name": "stderr",
     "output_type": "stream",
     "text": [
      "e:\\anaconda3_5_0_0\\envs\\deeplearning\\lib\\site-packages\\sklearn\\model_selection\\_split.py:598: FutureWarning: You should specify a value for 'n_splits' instead of relying on the default value. The default value will change from 3 to 5 in version 0.22.\n",
      "  warnings.warn(NSPLIT_WARNING, FutureWarning)\n",
      "e:\\anaconda3_5_0_0\\envs\\deeplearning\\lib\\site-packages\\sklearn\\model_selection\\_split.py:598: FutureWarning: You should specify a value for 'n_splits' instead of relying on the default value. The default value will change from 3 to 5 in version 0.22.\n",
      "  warnings.warn(NSPLIT_WARNING, FutureWarning)\n",
      "e:\\anaconda3_5_0_0\\envs\\deeplearning\\lib\\site-packages\\sklearn\\model_selection\\_split.py:598: FutureWarning: You should specify a value for 'n_splits' instead of relying on the default value. The default value will change from 3 to 5 in version 0.22.\n",
      "  warnings.warn(NSPLIT_WARNING, FutureWarning)\n",
      "e:\\anaconda3_5_0_0\\envs\\deeplearning\\lib\\site-packages\\sklearn\\model_selection\\_split.py:598: FutureWarning: You should specify a value for 'n_splits' instead of relying on the default value. The default value will change from 3 to 5 in version 0.22.\n",
      "  warnings.warn(NSPLIT_WARNING, FutureWarning)\n",
      "e:\\anaconda3_5_0_0\\envs\\deeplearning\\lib\\site-packages\\sklearn\\model_selection\\_split.py:598: FutureWarning: You should specify a value for 'n_splits' instead of relying on the default value. The default value will change from 3 to 5 in version 0.22.\n",
      "  warnings.warn(NSPLIT_WARNING, FutureWarning)\n",
      "e:\\anaconda3_5_0_0\\envs\\deeplearning\\lib\\site-packages\\sklearn\\model_selection\\_split.py:598: FutureWarning: You should specify a value for 'n_splits' instead of relying on the default value. The default value will change from 3 to 5 in version 0.22.\n",
      "  warnings.warn(NSPLIT_WARNING, FutureWarning)\n",
      "e:\\anaconda3_5_0_0\\envs\\deeplearning\\lib\\site-packages\\sklearn\\model_selection\\_split.py:598: FutureWarning: You should specify a value for 'n_splits' instead of relying on the default value. The default value will change from 3 to 5 in version 0.22.\n",
      "  warnings.warn(NSPLIT_WARNING, FutureWarning)\n",
      "e:\\anaconda3_5_0_0\\envs\\deeplearning\\lib\\site-packages\\sklearn\\model_selection\\_split.py:598: FutureWarning: You should specify a value for 'n_splits' instead of relying on the default value. The default value will change from 3 to 5 in version 0.22.\n",
      "  warnings.warn(NSPLIT_WARNING, FutureWarning)\n"
     ]
    },
    {
     "name": "stdout",
     "output_type": "stream",
     "text": [
      "Gini 0.680 params {'colsample_bytree': 0.5808757120037438, 'gamma': 0.1672106626200895, 'learning_rate': 0.1, 'max_depth': 6, 'n_estimators': 300}\n"
     ]
    },
    {
     "name": "stderr",
     "output_type": "stream",
     "text": [
      "e:\\anaconda3_5_0_0\\envs\\deeplearning\\lib\\site-packages\\sklearn\\model_selection\\_split.py:598: FutureWarning: You should specify a value for 'n_splits' instead of relying on the default value. The default value will change from 3 to 5 in version 0.22.\n",
      "  warnings.warn(NSPLIT_WARNING, FutureWarning)\n"
     ]
    },
    {
     "name": "stdout",
     "output_type": "stream",
     "text": [
      "Gini 0.679 params {'colsample_bytree': 0.6073293646773715, 'gamma': 0.15376039065544467, 'learning_rate': 0.1, 'max_depth': 6, 'n_estimators': 300}\n",
      "Gini 0.719 params {'colsample_bytree': 0.9586320130168144, 'gamma': 0.05761775719369472, 'learning_rate': 0.05, 'max_depth': 8, 'n_estimators': 10}\n",
      "Gini 0.723 params {'colsample_bytree': 0.6269196811198354, 'gamma': 0.019427652487297553, 'learning_rate': 0.05, 'max_depth': 4, 'n_estimators': 10}\n",
      "Gini 0.675 params {'colsample_bytree': 0.5022863378480525, 'gamma': 0.37224895141323827, 'learning_rate': 0.01, 'max_depth': 1, 'n_estimators': 300}\n",
      "Gini 0.711 params {'colsample_bytree': 0.8294260744834123, 'gamma': 0.45786624291147, 'learning_rate': 0.03, 'max_depth': 4, 'n_estimators': 100}\n"
     ]
    },
    {
     "name": "stderr",
     "output_type": "stream",
     "text": [
      "e:\\anaconda3_5_0_0\\envs\\deeplearning\\lib\\site-packages\\sklearn\\model_selection\\_split.py:598: FutureWarning: You should specify a value for 'n_splits' instead of relying on the default value. The default value will change from 3 to 5 in version 0.22.\n",
      "  warnings.warn(NSPLIT_WARNING, FutureWarning)\n",
      "e:\\anaconda3_5_0_0\\envs\\deeplearning\\lib\\site-packages\\sklearn\\model_selection\\_split.py:598: FutureWarning: You should specify a value for 'n_splits' instead of relying on the default value. The default value will change from 3 to 5 in version 0.22.\n",
      "  warnings.warn(NSPLIT_WARNING, FutureWarning)\n",
      "e:\\anaconda3_5_0_0\\envs\\deeplearning\\lib\\site-packages\\sklearn\\model_selection\\_split.py:598: FutureWarning: You should specify a value for 'n_splits' instead of relying on the default value. The default value will change from 3 to 5 in version 0.22.\n",
      "  warnings.warn(NSPLIT_WARNING, FutureWarning)\n",
      "e:\\anaconda3_5_0_0\\envs\\deeplearning\\lib\\site-packages\\sklearn\\model_selection\\_split.py:598: FutureWarning: You should specify a value for 'n_splits' instead of relying on the default value. The default value will change from 3 to 5 in version 0.22.\n",
      "  warnings.warn(NSPLIT_WARNING, FutureWarning)\n",
      "e:\\anaconda3_5_0_0\\envs\\deeplearning\\lib\\site-packages\\sklearn\\model_selection\\_split.py:598: FutureWarning: You should specify a value for 'n_splits' instead of relying on the default value. The default value will change from 3 to 5 in version 0.22.\n",
      "  warnings.warn(NSPLIT_WARNING, FutureWarning)\n"
     ]
    },
    {
     "name": "stdout",
     "output_type": "stream",
     "text": [
      "Gini 0.717 params {'colsample_bytree': 0.907589958621102, 'gamma': 0.1648322450919782, 'learning_rate': 0.01, 'max_depth': 10, 'n_estimators': 100}\n",
      "Gini 0.719 params {'colsample_bytree': 0.6924411627332555, 'gamma': 0.4906142288743329, 'learning_rate': 0.01, 'max_depth': 8, 'n_estimators': 50}\n"
     ]
    },
    {
     "name": "stderr",
     "output_type": "stream",
     "text": [
      "e:\\anaconda3_5_0_0\\envs\\deeplearning\\lib\\site-packages\\sklearn\\model_selection\\_split.py:598: FutureWarning: You should specify a value for 'n_splits' instead of relying on the default value. The default value will change from 3 to 5 in version 0.22.\n",
      "  warnings.warn(NSPLIT_WARNING, FutureWarning)\n"
     ]
    }
   ],
   "source": [
    "xgb_best =fmin(fn=xgb_objective,\n",
    "            space=xgb_space,\n",
    "            algo=tpe.suggest,\n",
    "            max_evals=20)"
   ]
  },
  {
   "cell_type": "code",
   "execution_count": 116,
   "metadata": {},
   "outputs": [
    {
     "name": "stdout",
     "output_type": "stream",
     "text": [
      "{'colsample_bytree': 0.5793219363822731, 'gamma': 0.030289511477984088, 'grid_n_estimator': 3, 'learning_rate': 0, 'max_depth': 0}\n"
     ]
    }
   ],
   "source": [
    "print(xgb_best)"
   ]
  },
  {
   "cell_type": "code",
   "execution_count": 84,
   "metadata": {
    "collapsed": true
   },
   "outputs": [],
   "source": [
    "import lightgbm as lgbm"
   ]
  },
  {
   "cell_type": "code",
   "execution_count": 85,
   "metadata": {
    "collapsed": true
   },
   "outputs": [],
   "source": [
    "lgb_space = {\n",
    "    'num_leaves': hp.quniform('num_leaves', 8, 128, 2),\n",
    "    'colsample_bytree': hp.uniform('colsample_bytree', 0.3, 1.0),\n",
    "}"
   ]
  },
  {
   "cell_type": "code",
   "execution_count": 92,
   "metadata": {
    "collapsed": true
   },
   "outputs": [],
   "source": [
    "def lgbm_objective(params):\n",
    "    params = {\n",
    "        'num_leaves': int(params['num_leaves']),\n",
    "        'colsample_bytree': '{:.3f}'.format(params['colsample_bytree']),\n",
    "    }\n",
    "    \n",
    "    clf = lgbm.LGBMClassifier(\n",
    "        n_estimators=500,\n",
    "        learning_rate=0.01,\n",
    "        **params\n",
    "    )\n",
    "    \n",
    "    score = cross_val_score(clf, x_train_, y_train_, scoring=gini_scorer, cv=StratifiedKFold()).mean()\n",
    "    print(\"Gini {:.3f} params {}\".format(score, params))\n",
    "    return score"
   ]
  },
  {
   "cell_type": "code",
   "execution_count": 94,
   "metadata": {
    "collapsed": true
   },
   "outputs": [
    {
     "name": "stderr",
     "output_type": "stream",
     "text": [
      "e:\\anaconda3_5_0_0\\envs\\deeplearning\\lib\\site-packages\\sklearn\\model_selection\\_split.py:598: FutureWarning: You should specify a value for 'n_splits' instead of relying on the default value. The default value will change from 3 to 5 in version 0.22.\n",
      "  warnings.warn(NSPLIT_WARNING, FutureWarning)\n"
     ]
    },
    {
     "name": "stdout",
     "output_type": "stream",
     "text": [
      "Gini 0.706 params {'num_leaves': 106, 'colsample_bytree': '0.795'}\n"
     ]
    },
    {
     "name": "stderr",
     "output_type": "stream",
     "text": [
      "e:\\anaconda3_5_0_0\\envs\\deeplearning\\lib\\site-packages\\sklearn\\model_selection\\_split.py:598: FutureWarning: You should specify a value for 'n_splits' instead of relying on the default value. The default value will change from 3 to 5 in version 0.22.\n",
      "  warnings.warn(NSPLIT_WARNING, FutureWarning)\n"
     ]
    },
    {
     "name": "stdout",
     "output_type": "stream",
     "text": [
      "Gini 0.713 params {'num_leaves': 26, 'colsample_bytree': '0.542'}\n"
     ]
    },
    {
     "name": "stderr",
     "output_type": "stream",
     "text": [
      "e:\\anaconda3_5_0_0\\envs\\deeplearning\\lib\\site-packages\\sklearn\\model_selection\\_split.py:598: FutureWarning: You should specify a value for 'n_splits' instead of relying on the default value. The default value will change from 3 to 5 in version 0.22.\n",
      "  warnings.warn(NSPLIT_WARNING, FutureWarning)\n"
     ]
    },
    {
     "name": "stdout",
     "output_type": "stream",
     "text": [
      "Gini 0.706 params {'num_leaves': 94, 'colsample_bytree': '0.745'}\n"
     ]
    },
    {
     "name": "stderr",
     "output_type": "stream",
     "text": [
      "e:\\anaconda3_5_0_0\\envs\\deeplearning\\lib\\site-packages\\sklearn\\model_selection\\_split.py:598: FutureWarning: You should specify a value for 'n_splits' instead of relying on the default value. The default value will change from 3 to 5 in version 0.22.\n",
      "  warnings.warn(NSPLIT_WARNING, FutureWarning)\n"
     ]
    },
    {
     "name": "stdout",
     "output_type": "stream",
     "text": [
      "Gini 0.709 params {'num_leaves': 50, 'colsample_bytree': '0.680'}\n"
     ]
    },
    {
     "name": "stderr",
     "output_type": "stream",
     "text": [
      "e:\\anaconda3_5_0_0\\envs\\deeplearning\\lib\\site-packages\\sklearn\\model_selection\\_split.py:598: FutureWarning: You should specify a value for 'n_splits' instead of relying on the default value. The default value will change from 3 to 5 in version 0.22.\n",
      "  warnings.warn(NSPLIT_WARNING, FutureWarning)\n"
     ]
    },
    {
     "name": "stdout",
     "output_type": "stream",
     "text": [
      "Gini 0.715 params {'num_leaves': 124, 'colsample_bytree': '0.445'}\n"
     ]
    },
    {
     "name": "stderr",
     "output_type": "stream",
     "text": [
      "e:\\anaconda3_5_0_0\\envs\\deeplearning\\lib\\site-packages\\sklearn\\model_selection\\_split.py:598: FutureWarning: You should specify a value for 'n_splits' instead of relying on the default value. The default value will change from 3 to 5 in version 0.22.\n",
      "  warnings.warn(NSPLIT_WARNING, FutureWarning)\n"
     ]
    },
    {
     "name": "stdout",
     "output_type": "stream",
     "text": [
      "Gini 0.706 params {'num_leaves': 82, 'colsample_bytree': '0.780'}\n"
     ]
    },
    {
     "name": "stderr",
     "output_type": "stream",
     "text": [
      "e:\\anaconda3_5_0_0\\envs\\deeplearning\\lib\\site-packages\\sklearn\\model_selection\\_split.py:598: FutureWarning: You should specify a value for 'n_splits' instead of relying on the default value. The default value will change from 3 to 5 in version 0.22.\n",
      "  warnings.warn(NSPLIT_WARNING, FutureWarning)\n"
     ]
    },
    {
     "name": "stdout",
     "output_type": "stream",
     "text": [
      "Gini 0.709 params {'num_leaves': 42, 'colsample_bytree': '0.690'}\n"
     ]
    },
    {
     "name": "stderr",
     "output_type": "stream",
     "text": [
      "e:\\anaconda3_5_0_0\\envs\\deeplearning\\lib\\site-packages\\sklearn\\model_selection\\_split.py:598: FutureWarning: You should specify a value for 'n_splits' instead of relying on the default value. The default value will change from 3 to 5 in version 0.22.\n",
      "  warnings.warn(NSPLIT_WARNING, FutureWarning)\n"
     ]
    },
    {
     "name": "stdout",
     "output_type": "stream",
     "text": [
      "Gini 0.700 params {'num_leaves': 84, 'colsample_bytree': '0.878'}\n"
     ]
    },
    {
     "name": "stderr",
     "output_type": "stream",
     "text": [
      "e:\\anaconda3_5_0_0\\envs\\deeplearning\\lib\\site-packages\\sklearn\\model_selection\\_split.py:598: FutureWarning: You should specify a value for 'n_splits' instead of relying on the default value. The default value will change from 3 to 5 in version 0.22.\n",
      "  warnings.warn(NSPLIT_WARNING, FutureWarning)\n"
     ]
    },
    {
     "name": "stdout",
     "output_type": "stream",
     "text": [
      "Gini 0.706 params {'num_leaves': 70, 'colsample_bytree': '0.723'}\n"
     ]
    },
    {
     "name": "stderr",
     "output_type": "stream",
     "text": [
      "e:\\anaconda3_5_0_0\\envs\\deeplearning\\lib\\site-packages\\sklearn\\model_selection\\_split.py:598: FutureWarning: You should specify a value for 'n_splits' instead of relying on the default value. The default value will change from 3 to 5 in version 0.22.\n",
      "  warnings.warn(NSPLIT_WARNING, FutureWarning)\n"
     ]
    },
    {
     "name": "stdout",
     "output_type": "stream",
     "text": [
      "Gini 0.709 params {'num_leaves': 64, 'colsample_bytree': '0.660'}\n"
     ]
    },
    {
     "name": "stderr",
     "output_type": "stream",
     "text": [
      "e:\\anaconda3_5_0_0\\envs\\deeplearning\\lib\\site-packages\\sklearn\\model_selection\\_split.py:598: FutureWarning: You should specify a value for 'n_splits' instead of relying on the default value. The default value will change from 3 to 5 in version 0.22.\n",
      "  warnings.warn(NSPLIT_WARNING, FutureWarning)\n"
     ]
    },
    {
     "name": "stdout",
     "output_type": "stream",
     "text": [
      "Gini 0.712 params {'num_leaves': 58, 'colsample_bytree': '0.379'}\n"
     ]
    },
    {
     "name": "stderr",
     "output_type": "stream",
     "text": [
      "e:\\anaconda3_5_0_0\\envs\\deeplearning\\lib\\site-packages\\sklearn\\model_selection\\_split.py:598: FutureWarning: You should specify a value for 'n_splits' instead of relying on the default value. The default value will change from 3 to 5 in version 0.22.\n",
      "  warnings.warn(NSPLIT_WARNING, FutureWarning)\n"
     ]
    },
    {
     "name": "stdout",
     "output_type": "stream",
     "text": [
      "Gini 0.712 params {'num_leaves': 126, 'colsample_bytree': '0.397'}\n"
     ]
    },
    {
     "name": "stderr",
     "output_type": "stream",
     "text": [
      "e:\\anaconda3_5_0_0\\envs\\deeplearning\\lib\\site-packages\\sklearn\\model_selection\\_split.py:598: FutureWarning: You should specify a value for 'n_splits' instead of relying on the default value. The default value will change from 3 to 5 in version 0.22.\n",
      "  warnings.warn(NSPLIT_WARNING, FutureWarning)\n"
     ]
    },
    {
     "name": "stdout",
     "output_type": "stream",
     "text": [
      "Gini 0.709 params {'num_leaves': 16, 'colsample_bytree': '0.622'}\n"
     ]
    },
    {
     "name": "stderr",
     "output_type": "stream",
     "text": [
      "e:\\anaconda3_5_0_0\\envs\\deeplearning\\lib\\site-packages\\sklearn\\model_selection\\_split.py:598: FutureWarning: You should specify a value for 'n_splits' instead of relying on the default value. The default value will change from 3 to 5 in version 0.22.\n",
      "  warnings.warn(NSPLIT_WARNING, FutureWarning)\n"
     ]
    },
    {
     "name": "stdout",
     "output_type": "stream",
     "text": [
      "Gini 0.706 params {'num_leaves': 112, 'colsample_bytree': '0.776'}\n"
     ]
    },
    {
     "name": "stderr",
     "output_type": "stream",
     "text": [
      "e:\\anaconda3_5_0_0\\envs\\deeplearning\\lib\\site-packages\\sklearn\\model_selection\\_split.py:598: FutureWarning: You should specify a value for 'n_splits' instead of relying on the default value. The default value will change from 3 to 5 in version 0.22.\n",
      "  warnings.warn(NSPLIT_WARNING, FutureWarning)\n"
     ]
    },
    {
     "name": "stdout",
     "output_type": "stream",
     "text": [
      "Gini 0.713 params {'num_leaves': 116, 'colsample_bytree': '0.502'}\n"
     ]
    },
    {
     "name": "stderr",
     "output_type": "stream",
     "text": [
      "e:\\anaconda3_5_0_0\\envs\\deeplearning\\lib\\site-packages\\sklearn\\model_selection\\_split.py:598: FutureWarning: You should specify a value for 'n_splits' instead of relying on the default value. The default value will change from 3 to 5 in version 0.22.\n",
      "  warnings.warn(NSPLIT_WARNING, FutureWarning)\n"
     ]
    },
    {
     "name": "stdout",
     "output_type": "stream",
     "text": [
      "Gini 0.700 params {'num_leaves': 76, 'colsample_bytree': '0.868'}\n"
     ]
    },
    {
     "name": "stderr",
     "output_type": "stream",
     "text": [
      "e:\\anaconda3_5_0_0\\envs\\deeplearning\\lib\\site-packages\\sklearn\\model_selection\\_split.py:598: FutureWarning: You should specify a value for 'n_splits' instead of relying on the default value. The default value will change from 3 to 5 in version 0.22.\n",
      "  warnings.warn(NSPLIT_WARNING, FutureWarning)\n"
     ]
    },
    {
     "name": "stdout",
     "output_type": "stream",
     "text": [
      "Gini 0.709 params {'num_leaves': 20, 'colsample_bytree': '0.679'}\n"
     ]
    },
    {
     "name": "stderr",
     "output_type": "stream",
     "text": [
      "e:\\anaconda3_5_0_0\\envs\\deeplearning\\lib\\site-packages\\sklearn\\model_selection\\_split.py:598: FutureWarning: You should specify a value for 'n_splits' instead of relying on the default value. The default value will change from 3 to 5 in version 0.22.\n",
      "  warnings.warn(NSPLIT_WARNING, FutureWarning)\n"
     ]
    },
    {
     "name": "stdout",
     "output_type": "stream",
     "text": [
      "Gini 0.706 params {'num_leaves': 20, 'colsample_bytree': '0.701'}\n"
     ]
    },
    {
     "name": "stderr",
     "output_type": "stream",
     "text": [
      "e:\\anaconda3_5_0_0\\envs\\deeplearning\\lib\\site-packages\\sklearn\\model_selection\\_split.py:598: FutureWarning: You should specify a value for 'n_splits' instead of relying on the default value. The default value will change from 3 to 5 in version 0.22.\n",
      "  warnings.warn(NSPLIT_WARNING, FutureWarning)\n"
     ]
    },
    {
     "name": "stdout",
     "output_type": "stream",
     "text": [
      "Gini 0.715 params {'num_leaves': 14, 'colsample_bytree': '0.475'}\n"
     ]
    },
    {
     "name": "stderr",
     "output_type": "stream",
     "text": [
      "e:\\anaconda3_5_0_0\\envs\\deeplearning\\lib\\site-packages\\sklearn\\model_selection\\_split.py:598: FutureWarning: You should specify a value for 'n_splits' instead of relying on the default value. The default value will change from 3 to 5 in version 0.22.\n",
      "  warnings.warn(NSPLIT_WARNING, FutureWarning)\n"
     ]
    },
    {
     "name": "stdout",
     "output_type": "stream",
     "text": [
      "Gini 0.713 params {'num_leaves': 84, 'colsample_bytree': '0.520'}\n"
     ]
    }
   ],
   "source": [
    "lgbm_best = fmin(fn=lgbm_objective,space=lgb_space,max_evals=20,algo=tpe.suggest)"
   ]
  },
  {
   "cell_type": "code",
   "execution_count": 95,
   "metadata": {},
   "outputs": [
    {
     "name": "stdout",
     "output_type": "stream",
     "text": [
      "{'colsample_bytree': 0.8783036158249162, 'num_leaves': 84.0}\n"
     ]
    }
   ],
   "source": [
    "print(lgbm_best)"
   ]
  },
  {
   "cell_type": "code",
   "execution_count": 102,
   "metadata": {
    "collapsed": true
   },
   "outputs": [],
   "source": [
    "from sklearn.ensemble import RandomForestClassifier"
   ]
  },
  {
   "cell_type": "code",
   "execution_count": 106,
   "metadata": {
    "collapsed": true
   },
   "outputs": [],
   "source": [
    "def rf_objective(params):\n",
    "    params = {'n_estimators': int(params['n_estimators']), 'max_depth': int(params['max_depth'])}\n",
    "    clf = RandomForestClassifier(n_jobs=4, class_weight='balanced', **params)\n",
    "    score = cross_val_score(clf, x_train_,y_train_, scoring=gini_scorer, cv=StratifiedKFold()).mean()\n",
    "    print(\"Gini {:.3f} params {}\".format(score, params))\n",
    "    return score"
   ]
  },
  {
   "cell_type": "code",
   "execution_count": 107,
   "metadata": {
    "collapsed": true
   },
   "outputs": [],
   "source": [
    "rf_space = {\n",
    "    'n_estimators': hp.quniform('n_estimators', 25, 500, 25),\n",
    "    'max_depth': hp.quniform('max_depth', 1, 10, 1)\n",
    "}"
   ]
  },
  {
   "cell_type": "code",
   "execution_count": 108,
   "metadata": {
    "collapsed": true
   },
   "outputs": [
    {
     "name": "stderr",
     "output_type": "stream",
     "text": [
      "e:\\anaconda3_5_0_0\\envs\\deeplearning\\lib\\site-packages\\sklearn\\model_selection\\_split.py:598: FutureWarning: You should specify a value for 'n_splits' instead of relying on the default value. The default value will change from 3 to 5 in version 0.22.\n",
      "  warnings.warn(NSPLIT_WARNING, FutureWarning)\n"
     ]
    },
    {
     "name": "stdout",
     "output_type": "stream",
     "text": [
      "Gini 0.710 params {'n_estimators': 425, 'max_depth': 4}\n"
     ]
    },
    {
     "name": "stderr",
     "output_type": "stream",
     "text": [
      "e:\\anaconda3_5_0_0\\envs\\deeplearning\\lib\\site-packages\\sklearn\\model_selection\\_split.py:598: FutureWarning: You should specify a value for 'n_splits' instead of relying on the default value. The default value will change from 3 to 5 in version 0.22.\n",
      "  warnings.warn(NSPLIT_WARNING, FutureWarning)\n"
     ]
    },
    {
     "name": "stdout",
     "output_type": "stream",
     "text": [
      "Gini 0.652 params {'n_estimators': 250, 'max_depth': 1}\n"
     ]
    },
    {
     "name": "stderr",
     "output_type": "stream",
     "text": [
      "e:\\anaconda3_5_0_0\\envs\\deeplearning\\lib\\site-packages\\sklearn\\model_selection\\_split.py:598: FutureWarning: You should specify a value for 'n_splits' instead of relying on the default value. The default value will change from 3 to 5 in version 0.22.\n",
      "  warnings.warn(NSPLIT_WARNING, FutureWarning)\n"
     ]
    },
    {
     "name": "stdout",
     "output_type": "stream",
     "text": [
      "Gini 0.698 params {'n_estimators': 350, 'max_depth': 8}\n"
     ]
    },
    {
     "name": "stderr",
     "output_type": "stream",
     "text": [
      "e:\\anaconda3_5_0_0\\envs\\deeplearning\\lib\\site-packages\\sklearn\\model_selection\\_split.py:598: FutureWarning: You should specify a value for 'n_splits' instead of relying on the default value. The default value will change from 3 to 5 in version 0.22.\n",
      "  warnings.warn(NSPLIT_WARNING, FutureWarning)\n"
     ]
    },
    {
     "name": "stdout",
     "output_type": "stream",
     "text": [
      "Gini 0.719 params {'n_estimators': 175, 'max_depth': 5}\n"
     ]
    },
    {
     "name": "stderr",
     "output_type": "stream",
     "text": [
      "e:\\anaconda3_5_0_0\\envs\\deeplearning\\lib\\site-packages\\sklearn\\model_selection\\_split.py:598: FutureWarning: You should specify a value for 'n_splits' instead of relying on the default value. The default value will change from 3 to 5 in version 0.22.\n",
      "  warnings.warn(NSPLIT_WARNING, FutureWarning)\n"
     ]
    },
    {
     "name": "stdout",
     "output_type": "stream",
     "text": [
      "Gini 0.724 params {'n_estimators': 375, 'max_depth': 6}\n"
     ]
    },
    {
     "name": "stderr",
     "output_type": "stream",
     "text": [
      "e:\\anaconda3_5_0_0\\envs\\deeplearning\\lib\\site-packages\\sklearn\\model_selection\\_split.py:598: FutureWarning: You should specify a value for 'n_splits' instead of relying on the default value. The default value will change from 3 to 5 in version 0.22.\n",
      "  warnings.warn(NSPLIT_WARNING, FutureWarning)\n"
     ]
    },
    {
     "name": "stdout",
     "output_type": "stream",
     "text": [
      "Gini 0.695 params {'n_estimators': 425, 'max_depth': 2}\n"
     ]
    },
    {
     "name": "stderr",
     "output_type": "stream",
     "text": [
      "e:\\anaconda3_5_0_0\\envs\\deeplearning\\lib\\site-packages\\sklearn\\model_selection\\_split.py:598: FutureWarning: You should specify a value for 'n_splits' instead of relying on the default value. The default value will change from 3 to 5 in version 0.22.\n",
      "  warnings.warn(NSPLIT_WARNING, FutureWarning)\n"
     ]
    },
    {
     "name": "stdout",
     "output_type": "stream",
     "text": [
      "Gini 0.713 params {'n_estimators': 125, 'max_depth': 7}\n"
     ]
    },
    {
     "name": "stderr",
     "output_type": "stream",
     "text": [
      "e:\\anaconda3_5_0_0\\envs\\deeplearning\\lib\\site-packages\\sklearn\\model_selection\\_split.py:598: FutureWarning: You should specify a value for 'n_splits' instead of relying on the default value. The default value will change from 3 to 5 in version 0.22.\n",
      "  warnings.warn(NSPLIT_WARNING, FutureWarning)\n"
     ]
    },
    {
     "name": "stdout",
     "output_type": "stream",
     "text": [
      "Gini 0.693 params {'n_estimators': 275, 'max_depth': 2}\n"
     ]
    },
    {
     "name": "stderr",
     "output_type": "stream",
     "text": [
      "e:\\anaconda3_5_0_0\\envs\\deeplearning\\lib\\site-packages\\sklearn\\model_selection\\_split.py:598: FutureWarning: You should specify a value for 'n_splits' instead of relying on the default value. The default value will change from 3 to 5 in version 0.22.\n",
      "  warnings.warn(NSPLIT_WARNING, FutureWarning)\n"
     ]
    },
    {
     "name": "stdout",
     "output_type": "stream",
     "text": [
      "Gini 0.720 params {'n_estimators': 250, 'max_depth': 5}\n"
     ]
    },
    {
     "name": "stderr",
     "output_type": "stream",
     "text": [
      "e:\\anaconda3_5_0_0\\envs\\deeplearning\\lib\\site-packages\\sklearn\\model_selection\\_split.py:598: FutureWarning: You should specify a value for 'n_splits' instead of relying on the default value. The default value will change from 3 to 5 in version 0.22.\n",
      "  warnings.warn(NSPLIT_WARNING, FutureWarning)\n"
     ]
    },
    {
     "name": "stdout",
     "output_type": "stream",
     "text": [
      "Gini 0.711 params {'n_estimators': 275, 'max_depth': 4}\n",
      "Gini 0.697 params {'n_estimators': 25, 'max_depth': 3}\n"
     ]
    },
    {
     "name": "stderr",
     "output_type": "stream",
     "text": [
      "e:\\anaconda3_5_0_0\\envs\\deeplearning\\lib\\site-packages\\sklearn\\model_selection\\_split.py:598: FutureWarning: You should specify a value for 'n_splits' instead of relying on the default value. The default value will change from 3 to 5 in version 0.22.\n",
      "  warnings.warn(NSPLIT_WARNING, FutureWarning)\n",
      "e:\\anaconda3_5_0_0\\envs\\deeplearning\\lib\\site-packages\\sklearn\\model_selection\\_split.py:598: FutureWarning: You should specify a value for 'n_splits' instead of relying on the default value. The default value will change from 3 to 5 in version 0.22.\n",
      "  warnings.warn(NSPLIT_WARNING, FutureWarning)\n"
     ]
    },
    {
     "name": "stdout",
     "output_type": "stream",
     "text": [
      "Gini 0.719 params {'n_estimators': 475, 'max_depth': 6}\n"
     ]
    },
    {
     "name": "stderr",
     "output_type": "stream",
     "text": [
      "e:\\anaconda3_5_0_0\\envs\\deeplearning\\lib\\site-packages\\sklearn\\model_selection\\_split.py:598: FutureWarning: You should specify a value for 'n_splits' instead of relying on the default value. The default value will change from 3 to 5 in version 0.22.\n",
      "  warnings.warn(NSPLIT_WARNING, FutureWarning)\n"
     ]
    },
    {
     "name": "stdout",
     "output_type": "stream",
     "text": [
      "Gini 0.720 params {'n_estimators': 350, 'max_depth': 5}\n",
      "Gini 0.705 params {'n_estimators': 25, 'max_depth': 3}\n"
     ]
    },
    {
     "name": "stderr",
     "output_type": "stream",
     "text": [
      "e:\\anaconda3_5_0_0\\envs\\deeplearning\\lib\\site-packages\\sklearn\\model_selection\\_split.py:598: FutureWarning: You should specify a value for 'n_splits' instead of relying on the default value. The default value will change from 3 to 5 in version 0.22.\n",
      "  warnings.warn(NSPLIT_WARNING, FutureWarning)\n",
      "e:\\anaconda3_5_0_0\\envs\\deeplearning\\lib\\site-packages\\sklearn\\model_selection\\_split.py:598: FutureWarning: You should specify a value for 'n_splits' instead of relying on the default value. The default value will change from 3 to 5 in version 0.22.\n",
      "  warnings.warn(NSPLIT_WARNING, FutureWarning)\n"
     ]
    },
    {
     "name": "stdout",
     "output_type": "stream",
     "text": [
      "Gini 0.727 params {'n_estimators': 300, 'max_depth': 6}\n"
     ]
    },
    {
     "name": "stderr",
     "output_type": "stream",
     "text": [
      "e:\\anaconda3_5_0_0\\envs\\deeplearning\\lib\\site-packages\\sklearn\\model_selection\\_split.py:598: FutureWarning: You should specify a value for 'n_splits' instead of relying on the default value. The default value will change from 3 to 5 in version 0.22.\n",
      "  warnings.warn(NSPLIT_WARNING, FutureWarning)\n"
     ]
    },
    {
     "name": "stdout",
     "output_type": "stream",
     "text": [
      "Gini 0.717 params {'n_estimators': 475, 'max_depth': 7}\n"
     ]
    },
    {
     "name": "stderr",
     "output_type": "stream",
     "text": [
      "e:\\anaconda3_5_0_0\\envs\\deeplearning\\lib\\site-packages\\sklearn\\model_selection\\_split.py:598: FutureWarning: You should specify a value for 'n_splits' instead of relying on the default value. The default value will change from 3 to 5 in version 0.22.\n",
      "  warnings.warn(NSPLIT_WARNING, FutureWarning)\n"
     ]
    },
    {
     "name": "stdout",
     "output_type": "stream",
     "text": [
      "Gini 0.724 params {'n_estimators': 375, 'max_depth': 6}\n"
     ]
    },
    {
     "name": "stderr",
     "output_type": "stream",
     "text": [
      "e:\\anaconda3_5_0_0\\envs\\deeplearning\\lib\\site-packages\\sklearn\\model_selection\\_split.py:598: FutureWarning: You should specify a value for 'n_splits' instead of relying on the default value. The default value will change from 3 to 5 in version 0.22.\n",
      "  warnings.warn(NSPLIT_WARNING, FutureWarning)\n"
     ]
    },
    {
     "name": "stdout",
     "output_type": "stream",
     "text": [
      "Gini 0.695 params {'n_estimators': 175, 'max_depth': 2}\n"
     ]
    },
    {
     "name": "stderr",
     "output_type": "stream",
     "text": [
      "e:\\anaconda3_5_0_0\\envs\\deeplearning\\lib\\site-packages\\sklearn\\model_selection\\_split.py:598: FutureWarning: You should specify a value for 'n_splits' instead of relying on the default value. The default value will change from 3 to 5 in version 0.22.\n",
      "  warnings.warn(NSPLIT_WARNING, FutureWarning)\n"
     ]
    },
    {
     "name": "stdout",
     "output_type": "stream",
     "text": [
      "Gini 0.708 params {'n_estimators': 475, 'max_depth': 3}\n"
     ]
    },
    {
     "name": "stderr",
     "output_type": "stream",
     "text": [
      "e:\\anaconda3_5_0_0\\envs\\deeplearning\\lib\\site-packages\\sklearn\\model_selection\\_split.py:598: FutureWarning: You should specify a value for 'n_splits' instead of relying on the default value. The default value will change from 3 to 5 in version 0.22.\n",
      "  warnings.warn(NSPLIT_WARNING, FutureWarning)\n"
     ]
    },
    {
     "name": "stdout",
     "output_type": "stream",
     "text": [
      "Gini 0.721 params {'n_estimators': 225, 'max_depth': 6}\n"
     ]
    }
   ],
   "source": [
    "rf_best = fmin(fn=rf_objective,\n",
    "            space=rf_space,\n",
    "            algo=tpe.suggest,\n",
    "            max_evals=20)"
   ]
  },
  {
   "cell_type": "code",
   "execution_count": 109,
   "metadata": {},
   "outputs": [
    {
     "name": "stdout",
     "output_type": "stream",
     "text": [
      "{'max_depth': 1.0, 'n_estimators': 250.0}\n"
     ]
    }
   ],
   "source": [
    "print(rf_best)"
   ]
  },
  {
   "cell_type": "code",
   "execution_count": 110,
   "metadata": {
    "collapsed": true
   },
   "outputs": [],
   "source": [
    "rf_model = RandomForestClassifier(\n",
    "    class_weight='balanced',\n",
    "    n_estimators=250,\n",
    "    max_depth=1\n",
    ")"
   ]
  },
  {
   "cell_type": "code",
   "execution_count": 111,
   "metadata": {
    "collapsed": true
   },
   "outputs": [],
   "source": [
    "lgbm_model = lgbm.LGBMClassifier(\n",
    "    n_estimators=500,\n",
    "    learning_rate=0.01,\n",
    "    num_leaves=84,\n",
    "    colsample_bytree=0.88\n",
    ")"
   ]
  },
  {
   "cell_type": "code",
   "execution_count": 117,
   "metadata": {
    "collapsed": true
   },
   "outputs": [],
   "source": [
    "xgb_model = xgb.XGBClassifier(\n",
    "    n_estimators=300,\n",
    "    learning_rate=0.01,\n",
    "    max_depth=1,\n",
    "    colsample_bytree=0.58,\n",
    "    gamma=0.05\n",
    ")"
   ]
  },
  {
   "cell_type": "code",
   "execution_count": 118,
   "metadata": {
    "collapsed": true
   },
   "outputs": [],
   "source": [
    "from keras.wrappers.scikit_learn import KerasClassifier"
   ]
  },
  {
   "cell_type": "code",
   "execution_count": 194,
   "metadata": {
    "collapsed": true
   },
   "outputs": [],
   "source": [
    "def build_keras_fn():\n",
    "    model = load_model('./working/best_model.h5')\n",
    "    return model"
   ]
  },
  {
   "cell_type": "code",
   "execution_count": 182,
   "metadata": {
    "collapsed": true
   },
   "outputs": [],
   "source": [
    "class MyKerasClassifier(KerasClassifier):\n",
    "    def predict(self, x, **kwargs):\n",
    "        p = super(MyKerasClassifier, self).predict(x, **kwargs)\n",
    "#         print('predict')\n",
    "#         print(p.shape)\n",
    "        if p.shape[1] == 1:\n",
    "#             print(p[:,0].shape)\n",
    "            return p[:,0]\n",
    "        return p\n",
    "    def predict_proba(self, x, **kwargs):\n",
    "        probs = super(MyKerasClassifier, self).predict_proba(x, **kwargs)\n",
    "#         print('predict_proba')\n",
    "#         print(probs.shape)\n",
    "        return probs\n",
    "    "
   ]
  },
  {
   "cell_type": "code",
   "execution_count": 195,
   "metadata": {
    "collapsed": true
   },
   "outputs": [],
   "source": [
    "keras_clf = MyKerasClassifier(build_fn=build_keras_fn,epcho=20)"
   ]
  },
  {
   "cell_type": "code",
   "execution_count": 196,
   "metadata": {
    "collapsed": true
   },
   "outputs": [],
   "source": [
    "vote_est = [\n",
    "    #Ensemble Methods: http://scikit-learn.org/stable/modules/ensemble.html\n",
    "   \n",
    "    ('rfc', rf_model),\n",
    "    \n",
    "    ('lgbm', lgbm_model),\n",
    "    \n",
    "    #xgboost: http://xgboost.readthedocs.io/en/latest/model.html\n",
    "   ('xgb', xgb_model),\n",
    "    \n",
    "    ('keras',keras_clf)\n",
    "\n",
    "]"
   ]
  },
  {
   "cell_type": "code",
   "execution_count": 197,
   "metadata": {
    "collapsed": true
   },
   "outputs": [],
   "source": [
    "from sklearn.model_selection import ShuffleSplit\n",
    "cv_split = ShuffleSplit(n_splits = 10, test_size = .3, train_size = .6, random_state = 0 ) # run model 10x with 60/30 split intentionally leaving out 10%"
   ]
  },
  {
   "cell_type": "code",
   "execution_count": 198,
   "metadata": {
    "collapsed": true
   },
   "outputs": [],
   "source": [
    "from sklearn import ensemble\n",
    "from sklearn import model_selection"
   ]
  },
  {
   "cell_type": "code",
   "execution_count": 199,
   "metadata": {},
   "outputs": [
    {
     "name": "stdout",
     "output_type": "stream",
     "text": [
      "(712, 10)\n",
      "(712,)\n"
     ]
    }
   ],
   "source": [
    "print(x_train_.shape)\n",
    "print(y_train_.shape)"
   ]
  },
  {
   "cell_type": "code",
   "execution_count": 200,
   "metadata": {
    "collapsed": true
   },
   "outputs": [],
   "source": [
    "import types"
   ]
  },
  {
   "cell_type": "code",
   "execution_count": 201,
   "metadata": {},
   "outputs": [
    {
     "data": {
      "text/plain": [
       "True"
      ]
     },
     "execution_count": 201,
     "metadata": {},
     "output_type": "execute_result"
    }
   ],
   "source": [
    " isinstance(build_keras_fn, types.FunctionType)"
   ]
  },
  {
   "cell_type": "code",
   "execution_count": 202,
   "metadata": {},
   "outputs": [
    {
     "name": "stdout",
     "output_type": "stream",
     "text": [
      "Epoch 1/1\n",
      "427/427 [==============================] - 1s 1ms/step - loss: 0.8835 - binary_accuracy: 0.6581\n",
      "(214,)\n",
      "(427,)\n",
      "Epoch 1/1\n",
      "427/427 [==============================] - 1s 2ms/step - loss: 0.8566 - binary_accuracy: 0.6557\n",
      "(214,)\n",
      "(427,)\n",
      "Epoch 1/1\n",
      "427/427 [==============================] - 1s 1ms/step - loss: 0.8618 - binary_accuracy: 0.6721\n",
      "(214,)\n",
      "(427,)\n",
      "Epoch 1/1\n",
      "427/427 [==============================] - 1s 2ms/step - loss: 0.8432 - binary_accuracy: 0.6838\n",
      "(214,)\n",
      "(427,)\n",
      "Epoch 1/1\n",
      "427/427 [==============================] - 1s 2ms/step - loss: 0.8344 - binary_accuracy: 0.6862\n",
      "(214,)\n",
      "(427,)\n",
      "Epoch 1/1\n",
      "427/427 [==============================] - 1s 2ms/step - loss: 0.8517 - binary_accuracy: 0.6862\n",
      "(214,)\n",
      "(427,)\n",
      "Epoch 1/1\n",
      "427/427 [==============================] - 1s 2ms/step - loss: 0.8396 - binary_accuracy: 0.6979\n",
      "(214,)\n",
      "(427,)\n",
      "Epoch 1/1\n",
      "427/427 [==============================] - 1s 2ms/step - loss: 0.8696 - binary_accuracy: 0.6768\n",
      "(214,)\n",
      "(427,)\n",
      "Epoch 1/1\n",
      "427/427 [==============================] - 1s 2ms/step - loss: 0.8524 - binary_accuracy: 0.6768\n",
      "(214,)\n",
      "(427,)\n",
      "Epoch 1/1\n",
      "427/427 [==============================] - 1s 2ms/step - loss: 0.8673 - binary_accuracy: 0.6628\n",
      "(214,)\n",
      "(427,)\n",
      "Epoch 1/1\n",
      "712/712 [==============================] - 1s 1ms/step - loss: 0.8667 - binary_accuracy: 0.6756\n",
      "Hard Voting w/Tuned Hyperparameters Training w/bin score mean: 81.85\n",
      "Hard Voting w/Tuned Hyperparameters Test w/bin score mean: 82.34\n",
      "Hard Voting w/Tuned Hyperparameters Test w/bin score 3*std: +/- 3.70\n",
      "----------\n"
     ]
    },
    {
     "name": "stderr",
     "output_type": "stream",
     "text": [
      "e:\\anaconda3_5_0_0\\envs\\deeplearning\\lib\\site-packages\\sklearn\\utils\\deprecation.py:125: FutureWarning: You are accessing a training score ('train_score'), which will not be available by default any more in 0.21. If you need training scores, please set return_train_score=True\n",
      "  warnings.warn(*warn_args, **warn_kwargs)\n"
     ]
    },
    {
     "name": "stdout",
     "output_type": "stream",
     "text": [
      "Epoch 1/1\n",
      "427/427 [==============================] - 1s 2ms/step - loss: 0.8779 - binary_accuracy: 0.6628\n",
      "Epoch 1/1\n",
      "427/427 [==============================] - 1s 2ms/step - loss: 0.8602 - binary_accuracy: 0.6792\n",
      "Epoch 1/1\n",
      "427/427 [==============================] - 1s 2ms/step - loss: 0.8387 - binary_accuracy: 0.7026\n",
      "Epoch 1/1\n",
      "427/427 [==============================] - 1s 2ms/step - loss: 0.8605 - binary_accuracy: 0.6745\n",
      "Epoch 1/1\n",
      "427/427 [==============================] - 1s 2ms/step - loss: 0.8590 - binary_accuracy: 0.6651\n",
      "Epoch 1/1\n",
      "427/427 [==============================] - 1s 2ms/step - loss: 0.8595 - binary_accuracy: 0.6581\n",
      "Epoch 1/1\n",
      "427/427 [==============================] - 1s 2ms/step - loss: 0.8594 - binary_accuracy: 0.6792\n",
      "Epoch 1/1\n",
      "427/427 [==============================] - 1s 2ms/step - loss: 0.8527 - binary_accuracy: 0.6628\n",
      "Epoch 1/1\n",
      "427/427 [==============================] - 1s 2ms/step - loss: 0.8608 - binary_accuracy: 0.6768\n",
      "Epoch 1/1\n",
      "427/427 [==============================] - 1s 2ms/step - loss: 0.8496 - binary_accuracy: 0.6956\n",
      "Epoch 1/1\n",
      "712/712 [==============================] - 1s 1ms/step - loss: 0.8585 - binary_accuracy: 0.6629\n",
      "Soft Voting w/Tuned Hyperparameters Training w/bin score mean: 83.75\n",
      "Soft Voting w/Tuned Hyperparameters Test w/bin score mean: 82.38\n",
      "Soft Voting w/Tuned Hyperparameters Test w/bin score 3*std: +/- 4.86\n",
      "----------\n"
     ]
    },
    {
     "name": "stderr",
     "output_type": "stream",
     "text": [
      "e:\\anaconda3_5_0_0\\envs\\deeplearning\\lib\\site-packages\\sklearn\\utils\\deprecation.py:125: FutureWarning: You are accessing a training score ('train_score'), which will not be available by default any more in 0.21. If you need training scores, please set return_train_score=True\n",
      "  warnings.warn(*warn_args, **warn_kwargs)\n"
     ]
    }
   ],
   "source": [
    "#Hard Vote or majority rules w/Tuned Hyperparameters\n",
    "grid_hard = ensemble.VotingClassifier(estimators = vote_est , voting = 'hard')\n",
    "grid_hard_cv = model_selection.cross_validate(grid_hard,x_train_,y_train_, cv  = cv_split)\n",
    "grid_hard.fit(x_train_,y_train_)\n",
    "\n",
    "print(\"Hard Voting w/Tuned Hyperparameters Training w/bin score mean: {:.2f}\". format(grid_hard_cv['train_score'].mean()*100)) \n",
    "print(\"Hard Voting w/Tuned Hyperparameters Test w/bin score mean: {:.2f}\". format(grid_hard_cv['test_score'].mean()*100))\n",
    "print(\"Hard Voting w/Tuned Hyperparameters Test w/bin score 3*std: +/- {:.2f}\". format(grid_hard_cv['test_score'].std()*100*3))\n",
    "print('-'*10)\n",
    "\n",
    "#Soft Vote or weighted probabilities w/Tuned Hyperparameters\n",
    "grid_soft = ensemble.VotingClassifier(estimators = vote_est , voting = 'soft')\n",
    "grid_soft_cv = model_selection.cross_validate(grid_soft, x_train_,y_train_, cv  = cv_split)\n",
    "grid_soft.fit(x_train_,y_train_)\n",
    "\n",
    "print(\"Soft Voting w/Tuned Hyperparameters Training w/bin score mean: {:.2f}\". format(grid_soft_cv['train_score'].mean()*100)) \n",
    "print(\"Soft Voting w/Tuned Hyperparameters Test w/bin score mean: {:.2f}\". format(grid_soft_cv['test_score'].mean()*100))\n",
    "print(\"Soft Voting w/Tuned Hyperparameters Test w/bin score 3*std: +/- {:.2f}\". format(grid_soft_cv['test_score'].std()*100*3))\n",
    "print('-'*10)"
   ]
  },
  {
   "cell_type": "code",
   "execution_count": 229,
   "metadata": {},
   "outputs": [
    {
     "name": "stdout",
     "output_type": "stream",
     "text": [
      "(418,)\n"
     ]
    },
    {
     "data": {
      "text/plain": [
       "array([[0],\n",
       "       [0],\n",
       "       [0],\n",
       "       [0],\n",
       "       [0],\n",
       "       [0],\n",
       "       [1],\n",
       "       [0],\n",
       "       [1],\n",
       "       [0],\n",
       "       [0],\n",
       "       [0],\n",
       "       [1],\n",
       "       [0],\n",
       "       [1],\n",
       "       [1],\n",
       "       [0],\n",
       "       [0],\n",
       "       [0],\n",
       "       [1],\n",
       "       [0],\n",
       "       [0],\n",
       "       [1],\n",
       "       [0],\n",
       "       [1],\n",
       "       [0],\n",
       "       [1],\n",
       "       [0],\n",
       "       [0],\n",
       "       [0],\n",
       "       [0],\n",
       "       [0],\n",
       "       [1],\n",
       "       [1],\n",
       "       [0],\n",
       "       [0],\n",
       "       [0],\n",
       "       [0],\n",
       "       [0],\n",
       "       [0],\n",
       "       [0],\n",
       "       [0],\n",
       "       [0],\n",
       "       [1],\n",
       "       [1],\n",
       "       [0],\n",
       "       [0],\n",
       "       [0],\n",
       "       [1],\n",
       "       [0],\n",
       "       [0],\n",
       "       [0],\n",
       "       [1],\n",
       "       [1],\n",
       "       [0],\n",
       "       [0],\n",
       "       [0],\n",
       "       [0],\n",
       "       [0],\n",
       "       [1],\n",
       "       [0],\n",
       "       [0],\n",
       "       [0],\n",
       "       [1],\n",
       "       [0],\n",
       "       [1],\n",
       "       [1],\n",
       "       [0],\n",
       "       [0],\n",
       "       [1],\n",
       "       [1],\n",
       "       [0],\n",
       "       [1],\n",
       "       [0],\n",
       "       [1],\n",
       "       [0],\n",
       "       [0],\n",
       "       [1],\n",
       "       [0],\n",
       "       [1],\n",
       "       [0],\n",
       "       [0],\n",
       "       [0],\n",
       "       [0],\n",
       "       [0],\n",
       "       [0],\n",
       "       [1],\n",
       "       [0],\n",
       "       [1],\n",
       "       [0],\n",
       "       [0],\n",
       "       [0],\n",
       "       [1],\n",
       "       [0],\n",
       "       [0],\n",
       "       [0],\n",
       "       [1],\n",
       "       [0],\n",
       "       [1],\n",
       "       [0],\n",
       "       [1],\n",
       "       [0],\n",
       "       [0],\n",
       "       [0],\n",
       "       [1],\n",
       "       [0],\n",
       "       [0],\n",
       "       [0],\n",
       "       [0],\n",
       "       [0],\n",
       "       [0],\n",
       "       [1],\n",
       "       [1],\n",
       "       [1],\n",
       "       [1],\n",
       "       [0],\n",
       "       [0],\n",
       "       [1],\n",
       "       [0],\n",
       "       [1],\n",
       "       [1],\n",
       "       [0],\n",
       "       [1],\n",
       "       [0],\n",
       "       [0],\n",
       "       [1],\n",
       "       [0],\n",
       "       [1],\n",
       "       [0],\n",
       "       [0],\n",
       "       [0],\n",
       "       [0],\n",
       "       [1],\n",
       "       [0],\n",
       "       [0],\n",
       "       [0],\n",
       "       [0],\n",
       "       [0],\n",
       "       [0],\n",
       "       [0],\n",
       "       [0],\n",
       "       [1],\n",
       "       [0],\n",
       "       [0],\n",
       "       [0],\n",
       "       [0],\n",
       "       [0],\n",
       "       [0],\n",
       "       [0],\n",
       "       [0],\n",
       "       [1],\n",
       "       [0],\n",
       "       [0],\n",
       "       [0],\n",
       "       [0],\n",
       "       [0],\n",
       "       [1],\n",
       "       [1],\n",
       "       [0],\n",
       "       [0],\n",
       "       [1],\n",
       "       [0],\n",
       "       [1],\n",
       "       [0],\n",
       "       [0],\n",
       "       [0],\n",
       "       [0],\n",
       "       [0],\n",
       "       [1],\n",
       "       [0],\n",
       "       [0],\n",
       "       [0],\n",
       "       [0],\n",
       "       [0],\n",
       "       [0],\n",
       "       [1],\n",
       "       [1],\n",
       "       [0],\n",
       "       [1],\n",
       "       [1],\n",
       "       [0],\n",
       "       [0],\n",
       "       [1],\n",
       "       [0],\n",
       "       [1],\n",
       "       [0],\n",
       "       [1],\n",
       "       [0],\n",
       "       [0],\n",
       "       [0],\n",
       "       [0],\n",
       "       [0],\n",
       "       [0],\n",
       "       [0],\n",
       "       [1],\n",
       "       [0],\n",
       "       [1],\n",
       "       [1],\n",
       "       [0],\n",
       "       [1],\n",
       "       [1],\n",
       "       [0],\n",
       "       [0],\n",
       "       [1],\n",
       "       [0],\n",
       "       [0],\n",
       "       [1],\n",
       "       [0],\n",
       "       [1],\n",
       "       [0],\n",
       "       [0],\n",
       "       [0],\n",
       "       [0],\n",
       "       [1],\n",
       "       [0],\n",
       "       [0],\n",
       "       [1],\n",
       "       [0],\n",
       "       [1],\n",
       "       [0],\n",
       "       [1],\n",
       "       [0],\n",
       "       [1],\n",
       "       [0],\n",
       "       [1],\n",
       "       [1],\n",
       "       [0],\n",
       "       [1],\n",
       "       [0],\n",
       "       [0],\n",
       "       [0],\n",
       "       [1],\n",
       "       [0],\n",
       "       [0],\n",
       "       [0],\n",
       "       [0],\n",
       "       [0],\n",
       "       [0],\n",
       "       [1],\n",
       "       [1],\n",
       "       [1],\n",
       "       [1],\n",
       "       [0],\n",
       "       [0],\n",
       "       [0],\n",
       "       [0],\n",
       "       [1],\n",
       "       [0],\n",
       "       [1],\n",
       "       [0],\n",
       "       [1],\n",
       "       [0],\n",
       "       [0],\n",
       "       [0],\n",
       "       [0],\n",
       "       [0],\n",
       "       [0],\n",
       "       [0],\n",
       "       [1],\n",
       "       [0],\n",
       "       [0],\n",
       "       [0],\n",
       "       [1],\n",
       "       [1],\n",
       "       [0],\n",
       "       [0],\n",
       "       [0],\n",
       "       [0],\n",
       "       [0],\n",
       "       [0],\n",
       "       [0],\n",
       "       [0],\n",
       "       [1],\n",
       "       [1],\n",
       "       [0],\n",
       "       [1],\n",
       "       [0],\n",
       "       [0],\n",
       "       [0],\n",
       "       [0],\n",
       "       [0],\n",
       "       [0],\n",
       "       [1],\n",
       "       [1],\n",
       "       [1],\n",
       "       [0],\n",
       "       [0],\n",
       "       [0],\n",
       "       [0],\n",
       "       [0],\n",
       "       [0],\n",
       "       [1],\n",
       "       [0],\n",
       "       [0],\n",
       "       [0],\n",
       "       [0],\n",
       "       [1],\n",
       "       [0],\n",
       "       [0],\n",
       "       [0],\n",
       "       [0],\n",
       "       [0],\n",
       "       [0],\n",
       "       [0],\n",
       "       [1],\n",
       "       [1],\n",
       "       [0],\n",
       "       [0],\n",
       "       [0],\n",
       "       [0],\n",
       "       [0],\n",
       "       [0],\n",
       "       [0],\n",
       "       [1],\n",
       "       [1],\n",
       "       [1],\n",
       "       [0],\n",
       "       [0],\n",
       "       [0],\n",
       "       [0],\n",
       "       [0],\n",
       "       [0],\n",
       "       [0],\n",
       "       [0],\n",
       "       [1],\n",
       "       [0],\n",
       "       [1],\n",
       "       [0],\n",
       "       [0],\n",
       "       [0],\n",
       "       [1],\n",
       "       [0],\n",
       "       [0],\n",
       "       [1],\n",
       "       [0],\n",
       "       [0],\n",
       "       [0],\n",
       "       [0],\n",
       "       [0],\n",
       "       [0],\n",
       "       [0],\n",
       "       [0],\n",
       "       [0],\n",
       "       [1],\n",
       "       [0],\n",
       "       [1],\n",
       "       [0],\n",
       "       [1],\n",
       "       [0],\n",
       "       [1],\n",
       "       [1],\n",
       "       [0],\n",
       "       [0],\n",
       "       [0],\n",
       "       [1],\n",
       "       [0],\n",
       "       [1],\n",
       "       [0],\n",
       "       [0],\n",
       "       [1],\n",
       "       [0],\n",
       "       [1],\n",
       "       [1],\n",
       "       [0],\n",
       "       [1],\n",
       "       [1],\n",
       "       [0],\n",
       "       [1],\n",
       "       [1],\n",
       "       [0],\n",
       "       [0],\n",
       "       [1],\n",
       "       [0],\n",
       "       [0],\n",
       "       [1],\n",
       "       [1],\n",
       "       [0],\n",
       "       [0],\n",
       "       [0],\n",
       "       [0],\n",
       "       [0],\n",
       "       [0],\n",
       "       [1],\n",
       "       [1],\n",
       "       [0],\n",
       "       [1],\n",
       "       [0],\n",
       "       [0],\n",
       "       [0],\n",
       "       [0],\n",
       "       [0],\n",
       "       [1],\n",
       "       [0],\n",
       "       [0],\n",
       "       [0],\n",
       "       [1],\n",
       "       [0],\n",
       "       [1],\n",
       "       [0],\n",
       "       [0],\n",
       "       [1],\n",
       "       [0],\n",
       "       [1],\n",
       "       [0],\n",
       "       [0],\n",
       "       [0],\n",
       "       [0],\n",
       "       [0],\n",
       "       [1],\n",
       "       [1],\n",
       "       [1],\n",
       "       [1],\n",
       "       [1],\n",
       "       [0],\n",
       "       [1],\n",
       "       [0],\n",
       "       [0],\n",
       "       [0]], dtype=int64)"
      ]
     },
     "execution_count": 229,
     "metadata": {},
     "output_type": "execute_result"
    }
   ],
   "source": [
    "predictions = grid_hard.predict(np.asarray(data[891:]))\n",
    "predictions= predictions.reshape((418,1))\n",
    "predictions"
   ]
  },
  {
   "cell_type": "code",
   "execution_count": 230,
   "metadata": {},
   "outputs": [
    {
     "data": {
      "text/html": [
       "<div>\n",
       "<style scoped>\n",
       "    .dataframe tbody tr th:only-of-type {\n",
       "        vertical-align: middle;\n",
       "    }\n",
       "\n",
       "    .dataframe tbody tr th {\n",
       "        vertical-align: top;\n",
       "    }\n",
       "\n",
       "    .dataframe thead th {\n",
       "        text-align: right;\n",
       "    }\n",
       "</style>\n",
       "<table border=\"1\" class=\"dataframe\">\n",
       "  <thead>\n",
       "    <tr style=\"text-align: right;\">\n",
       "      <th></th>\n",
       "      <th>PassengerId</th>\n",
       "    </tr>\n",
       "  </thead>\n",
       "  <tbody>\n",
       "    <tr>\n",
       "      <th>0</th>\n",
       "      <td>892</td>\n",
       "    </tr>\n",
       "    <tr>\n",
       "      <th>1</th>\n",
       "      <td>893</td>\n",
       "    </tr>\n",
       "    <tr>\n",
       "      <th>2</th>\n",
       "      <td>894</td>\n",
       "    </tr>\n",
       "    <tr>\n",
       "      <th>3</th>\n",
       "      <td>895</td>\n",
       "    </tr>\n",
       "    <tr>\n",
       "      <th>4</th>\n",
       "      <td>896</td>\n",
       "    </tr>\n",
       "    <tr>\n",
       "      <th>5</th>\n",
       "      <td>897</td>\n",
       "    </tr>\n",
       "    <tr>\n",
       "      <th>6</th>\n",
       "      <td>898</td>\n",
       "    </tr>\n",
       "    <tr>\n",
       "      <th>7</th>\n",
       "      <td>899</td>\n",
       "    </tr>\n",
       "    <tr>\n",
       "      <th>8</th>\n",
       "      <td>900</td>\n",
       "    </tr>\n",
       "    <tr>\n",
       "      <th>9</th>\n",
       "      <td>901</td>\n",
       "    </tr>\n",
       "    <tr>\n",
       "      <th>10</th>\n",
       "      <td>902</td>\n",
       "    </tr>\n",
       "    <tr>\n",
       "      <th>11</th>\n",
       "      <td>903</td>\n",
       "    </tr>\n",
       "    <tr>\n",
       "      <th>12</th>\n",
       "      <td>904</td>\n",
       "    </tr>\n",
       "    <tr>\n",
       "      <th>13</th>\n",
       "      <td>905</td>\n",
       "    </tr>\n",
       "    <tr>\n",
       "      <th>14</th>\n",
       "      <td>906</td>\n",
       "    </tr>\n",
       "    <tr>\n",
       "      <th>15</th>\n",
       "      <td>907</td>\n",
       "    </tr>\n",
       "    <tr>\n",
       "      <th>16</th>\n",
       "      <td>908</td>\n",
       "    </tr>\n",
       "    <tr>\n",
       "      <th>17</th>\n",
       "      <td>909</td>\n",
       "    </tr>\n",
       "    <tr>\n",
       "      <th>18</th>\n",
       "      <td>910</td>\n",
       "    </tr>\n",
       "    <tr>\n",
       "      <th>19</th>\n",
       "      <td>911</td>\n",
       "    </tr>\n",
       "    <tr>\n",
       "      <th>20</th>\n",
       "      <td>912</td>\n",
       "    </tr>\n",
       "    <tr>\n",
       "      <th>21</th>\n",
       "      <td>913</td>\n",
       "    </tr>\n",
       "    <tr>\n",
       "      <th>22</th>\n",
       "      <td>914</td>\n",
       "    </tr>\n",
       "    <tr>\n",
       "      <th>23</th>\n",
       "      <td>915</td>\n",
       "    </tr>\n",
       "    <tr>\n",
       "      <th>24</th>\n",
       "      <td>916</td>\n",
       "    </tr>\n",
       "    <tr>\n",
       "      <th>25</th>\n",
       "      <td>917</td>\n",
       "    </tr>\n",
       "    <tr>\n",
       "      <th>26</th>\n",
       "      <td>918</td>\n",
       "    </tr>\n",
       "    <tr>\n",
       "      <th>27</th>\n",
       "      <td>919</td>\n",
       "    </tr>\n",
       "    <tr>\n",
       "      <th>28</th>\n",
       "      <td>920</td>\n",
       "    </tr>\n",
       "    <tr>\n",
       "      <th>29</th>\n",
       "      <td>921</td>\n",
       "    </tr>\n",
       "    <tr>\n",
       "      <th>...</th>\n",
       "      <td>...</td>\n",
       "    </tr>\n",
       "    <tr>\n",
       "      <th>388</th>\n",
       "      <td>1280</td>\n",
       "    </tr>\n",
       "    <tr>\n",
       "      <th>389</th>\n",
       "      <td>1281</td>\n",
       "    </tr>\n",
       "    <tr>\n",
       "      <th>390</th>\n",
       "      <td>1282</td>\n",
       "    </tr>\n",
       "    <tr>\n",
       "      <th>391</th>\n",
       "      <td>1283</td>\n",
       "    </tr>\n",
       "    <tr>\n",
       "      <th>392</th>\n",
       "      <td>1284</td>\n",
       "    </tr>\n",
       "    <tr>\n",
       "      <th>393</th>\n",
       "      <td>1285</td>\n",
       "    </tr>\n",
       "    <tr>\n",
       "      <th>394</th>\n",
       "      <td>1286</td>\n",
       "    </tr>\n",
       "    <tr>\n",
       "      <th>395</th>\n",
       "      <td>1287</td>\n",
       "    </tr>\n",
       "    <tr>\n",
       "      <th>396</th>\n",
       "      <td>1288</td>\n",
       "    </tr>\n",
       "    <tr>\n",
       "      <th>397</th>\n",
       "      <td>1289</td>\n",
       "    </tr>\n",
       "    <tr>\n",
       "      <th>398</th>\n",
       "      <td>1290</td>\n",
       "    </tr>\n",
       "    <tr>\n",
       "      <th>399</th>\n",
       "      <td>1291</td>\n",
       "    </tr>\n",
       "    <tr>\n",
       "      <th>400</th>\n",
       "      <td>1292</td>\n",
       "    </tr>\n",
       "    <tr>\n",
       "      <th>401</th>\n",
       "      <td>1293</td>\n",
       "    </tr>\n",
       "    <tr>\n",
       "      <th>402</th>\n",
       "      <td>1294</td>\n",
       "    </tr>\n",
       "    <tr>\n",
       "      <th>403</th>\n",
       "      <td>1295</td>\n",
       "    </tr>\n",
       "    <tr>\n",
       "      <th>404</th>\n",
       "      <td>1296</td>\n",
       "    </tr>\n",
       "    <tr>\n",
       "      <th>405</th>\n",
       "      <td>1297</td>\n",
       "    </tr>\n",
       "    <tr>\n",
       "      <th>406</th>\n",
       "      <td>1298</td>\n",
       "    </tr>\n",
       "    <tr>\n",
       "      <th>407</th>\n",
       "      <td>1299</td>\n",
       "    </tr>\n",
       "    <tr>\n",
       "      <th>408</th>\n",
       "      <td>1300</td>\n",
       "    </tr>\n",
       "    <tr>\n",
       "      <th>409</th>\n",
       "      <td>1301</td>\n",
       "    </tr>\n",
       "    <tr>\n",
       "      <th>410</th>\n",
       "      <td>1302</td>\n",
       "    </tr>\n",
       "    <tr>\n",
       "      <th>411</th>\n",
       "      <td>1303</td>\n",
       "    </tr>\n",
       "    <tr>\n",
       "      <th>412</th>\n",
       "      <td>1304</td>\n",
       "    </tr>\n",
       "    <tr>\n",
       "      <th>413</th>\n",
       "      <td>1305</td>\n",
       "    </tr>\n",
       "    <tr>\n",
       "      <th>414</th>\n",
       "      <td>1306</td>\n",
       "    </tr>\n",
       "    <tr>\n",
       "      <th>415</th>\n",
       "      <td>1307</td>\n",
       "    </tr>\n",
       "    <tr>\n",
       "      <th>416</th>\n",
       "      <td>1308</td>\n",
       "    </tr>\n",
       "    <tr>\n",
       "      <th>417</th>\n",
       "      <td>1309</td>\n",
       "    </tr>\n",
       "  </tbody>\n",
       "</table>\n",
       "<p>418 rows × 1 columns</p>\n",
       "</div>"
      ],
      "text/plain": [
       "     PassengerId\n",
       "0            892\n",
       "1            893\n",
       "2            894\n",
       "3            895\n",
       "4            896\n",
       "5            897\n",
       "6            898\n",
       "7            899\n",
       "8            900\n",
       "9            901\n",
       "10           902\n",
       "11           903\n",
       "12           904\n",
       "13           905\n",
       "14           906\n",
       "15           907\n",
       "16           908\n",
       "17           909\n",
       "18           910\n",
       "19           911\n",
       "20           912\n",
       "21           913\n",
       "22           914\n",
       "23           915\n",
       "24           916\n",
       "25           917\n",
       "26           918\n",
       "27           919\n",
       "28           920\n",
       "29           921\n",
       "..           ...\n",
       "388         1280\n",
       "389         1281\n",
       "390         1282\n",
       "391         1283\n",
       "392         1284\n",
       "393         1285\n",
       "394         1286\n",
       "395         1287\n",
       "396         1288\n",
       "397         1289\n",
       "398         1290\n",
       "399         1291\n",
       "400         1292\n",
       "401         1293\n",
       "402         1294\n",
       "403         1295\n",
       "404         1296\n",
       "405         1297\n",
       "406         1298\n",
       "407         1299\n",
       "408         1300\n",
       "409         1301\n",
       "410         1302\n",
       "411         1303\n",
       "412         1304\n",
       "413         1305\n",
       "414         1306\n",
       "415         1307\n",
       "416         1308\n",
       "417         1309\n",
       "\n",
       "[418 rows x 1 columns]"
      ]
     },
     "execution_count": 230,
     "metadata": {},
     "output_type": "execute_result"
    }
   ],
   "source": [
    "ids = data_test['PassengerId'].copy()\n",
    "new_output = ids.to_frame()\n",
    "new_output"
   ]
  },
  {
   "cell_type": "code",
   "execution_count": 231,
   "metadata": {},
   "outputs": [
    {
     "data": {
      "text/html": [
       "<div>\n",
       "<style scoped>\n",
       "    .dataframe tbody tr th:only-of-type {\n",
       "        vertical-align: middle;\n",
       "    }\n",
       "\n",
       "    .dataframe tbody tr th {\n",
       "        vertical-align: top;\n",
       "    }\n",
       "\n",
       "    .dataframe thead th {\n",
       "        text-align: right;\n",
       "    }\n",
       "</style>\n",
       "<table border=\"1\" class=\"dataframe\">\n",
       "  <thead>\n",
       "    <tr style=\"text-align: right;\">\n",
       "      <th></th>\n",
       "      <th>PassengerId</th>\n",
       "      <th>Survived</th>\n",
       "    </tr>\n",
       "  </thead>\n",
       "  <tbody>\n",
       "    <tr>\n",
       "      <th>88</th>\n",
       "      <td>980</td>\n",
       "      <td>1</td>\n",
       "    </tr>\n",
       "    <tr>\n",
       "      <th>234</th>\n",
       "      <td>1126</td>\n",
       "      <td>0</td>\n",
       "    </tr>\n",
       "    <tr>\n",
       "      <th>33</th>\n",
       "      <td>925</td>\n",
       "      <td>1</td>\n",
       "    </tr>\n",
       "    <tr>\n",
       "      <th>320</th>\n",
       "      <td>1212</td>\n",
       "      <td>0</td>\n",
       "    </tr>\n",
       "    <tr>\n",
       "      <th>348</th>\n",
       "      <td>1240</td>\n",
       "      <td>0</td>\n",
       "    </tr>\n",
       "    <tr>\n",
       "      <th>411</th>\n",
       "      <td>1303</td>\n",
       "      <td>1</td>\n",
       "    </tr>\n",
       "    <tr>\n",
       "      <th>358</th>\n",
       "      <td>1250</td>\n",
       "      <td>0</td>\n",
       "    </tr>\n",
       "    <tr>\n",
       "      <th>344</th>\n",
       "      <td>1236</td>\n",
       "      <td>0</td>\n",
       "    </tr>\n",
       "    <tr>\n",
       "      <th>60</th>\n",
       "      <td>952</td>\n",
       "      <td>0</td>\n",
       "    </tr>\n",
       "    <tr>\n",
       "      <th>183</th>\n",
       "      <td>1075</td>\n",
       "      <td>0</td>\n",
       "    </tr>\n",
       "  </tbody>\n",
       "</table>\n",
       "</div>"
      ],
      "text/plain": [
       "     PassengerId  Survived\n",
       "88           980         1\n",
       "234         1126         0\n",
       "33           925         1\n",
       "320         1212         0\n",
       "348         1240         0\n",
       "411         1303         1\n",
       "358         1250         0\n",
       "344         1236         0\n",
       "60           952         0\n",
       "183         1075         0"
      ]
     },
     "execution_count": 231,
     "metadata": {},
     "output_type": "execute_result"
    }
   ],
   "source": [
    "new_output['Survived'] = predictions\n",
    "new_output.sample(10)"
   ]
  },
  {
   "cell_type": "code",
   "execution_count": 232,
   "metadata": {
    "collapsed": true
   },
   "outputs": [],
   "source": [
    "\n",
    "\n",
    "new_output.to_csv('./working/my_submit.csv',index=False)"
   ]
  },
  {
   "cell_type": "code",
   "execution_count": null,
   "metadata": {
    "collapsed": true
   },
   "outputs": [],
   "source": []
  }
 ],
 "metadata": {
  "kernelspec": {
   "display_name": "Python 3",
   "language": "python",
   "name": "python3"
  },
  "language_info": {
   "codemirror_mode": {
    "name": "ipython",
    "version": 3
   },
   "file_extension": ".py",
   "mimetype": "text/x-python",
   "name": "python",
   "nbconvert_exporter": "python",
   "pygments_lexer": "ipython3",
   "version": "3.6.2"
  }
 },
 "nbformat": 4,
 "nbformat_minor": 1
}
