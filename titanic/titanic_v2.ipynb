{
 "cells": [
  {
   "cell_type": "code",
   "execution_count": 1,
   "metadata": {
    "collapsed": true
   },
   "outputs": [],
   "source": [
    "import os\n",
    "\n",
    "import numpy as np\n",
    "import pandas as pd\n",
    "import tensorflow.keras as keras\n",
    "from sklearn.model_selection import train_test_split\n",
    "import matplotlib.pyplot as plt\n",
    "\n",
    "DIR_TRAIN = os.getcwd() + \"\\\\data\\\\train.csv\"\n",
    "DIR_TEST = os.getcwd() + \"\\\\data\\\\test.csv\"\n",
    "\n",
    "test_names = ['PassengerId', 'Pclass', 'Name', 'Sex', 'Age', 'SibSp', 'Parch', 'Ticket', 'Fare', 'Cabin', 'Embarked']\n",
    "train_names = ['PassengerId', 'Survived', 'Pclass', 'Name', 'Sex', 'Age', 'SibSp', 'Parch', 'Ticket', 'Fare', 'Cabin',\n",
    "               'Embarked']"
   ]
  },
  {
   "cell_type": "code",
   "execution_count": 35,
   "metadata": {
    "collapsed": true
   },
   "outputs": [],
   "source": [
    "def model():\n",
    "    '''\n",
    "    定义模型\n",
    "    :return: keras model\n",
    "    '''\n",
    "    model = keras.models.Sequential()\n",
    "    model.add(keras.layers.Dense(32, activation='relu',kernel_regularizer=keras.regularizers.l1_l2(l1=0.001,l2=0.001)))\n",
    "    model.add(keras.layers.Dropout(0.2))\n",
    "    model.add(keras.layers.Dense(32, activation='relu',kernel_regularizer=keras.regularizers.l1_l2(l1=0.001,l2=0.001)))\n",
    "    model.add(keras.layers.Dropout(0.2))\n",
    "    model.add(keras.layers.Dense(16, activation='relu',kernel_regularizer=keras.regularizers.l1_l2(l1=0.001,l2=0.001)))\n",
    "    model.add(keras.layers.Dropout(0.2))\n",
    "    model.add(keras.layers.Dense(1,activation='sigmoid'))\n",
    "#     model.add(keras.layers.Dense(8, activation='relu'))\n",
    "    model.compile(optimizer=keras.optimizers.RMSprop(), loss=keras.losses.binary_crossentropy, metrics=[keras.metrics.binary_accuracy])\n",
    "    return model"
   ]
  },
  {
   "cell_type": "code",
   "execution_count": 36,
   "metadata": {
    "collapsed": true
   },
   "outputs": [],
   "source": [
    "keras_model = model()"
   ]
  },
  {
   "cell_type": "code",
   "execution_count": 4,
   "metadata": {
    "collapsed": true
   },
   "outputs": [],
   "source": [
    "def loadData(is_train, dir):\n",
    "    if is_train:\n",
    "        names = train_names\n",
    "    else:\n",
    "        names = test_names\n",
    "    data = pd.read_csv(dir, header=0, names=names)\n",
    "    return data"
   ]
  },
  {
   "cell_type": "code",
   "execution_count": 5,
   "metadata": {
    "collapsed": true
   },
   "outputs": [],
   "source": [
    "def progressData(data):\n",
    "    # 补充完整数据\n",
    "#     passengerId = data.pop('PassengerId')\n",
    "    mean_age = round(data.mean()['Age'], 1)\n",
    "    mean_fare = round(data.mean()['Fare'], 1)\n",
    "    data = data.fillna({'Age': mean_age, 'Fare': mean_fare})\n",
    "    data = data.fillna(method='ffill')\n",
    "    return data"
   ]
  },
  {
   "cell_type": "code",
   "execution_count": 6,
   "metadata": {
    "collapsed": true
   },
   "outputs": [],
   "source": [
    "def splitData(datas, labels, splite):\n",
    "    return train_test_split(datas, labels, test_size=splite, random_state=42)"
   ]
  },
  {
   "cell_type": "code",
   "execution_count": 7,
   "metadata": {
    "collapsed": true
   },
   "outputs": [],
   "source": [
    "def generator(data, lables, batch_size):\n",
    "    idx = np.arange(len(data))\n",
    "    print(len(data))\n",
    "    np.random.shuffle(idx)\n",
    "    print(data.columns)\n",
    "    batchs = [idx[range(batch_size * i, min(len(data), batch_size * (i + 1)))] for i in\n",
    "              range(int(len(data) / batch_size + 1))]\n",
    "    while True:\n",
    "        for i in batchs:\n",
    "            xx = data.loc[i, :]\n",
    "            yy = lables.loc[i]\n",
    "            yield (xx, yy)"
   ]
  },
  {
   "cell_type": "code",
   "execution_count": 8,
   "metadata": {
    "collapsed": true
   },
   "outputs": [],
   "source": [
    "data_train = loadData(is_train=True, dir=DIR_TRAIN)"
   ]
  },
  {
   "cell_type": "code",
   "execution_count": 9,
   "metadata": {
    "collapsed": true
   },
   "outputs": [],
   "source": [
    "data_test = loadData(is_train=False,dir=DIR_TEST)"
   ]
  },
  {
   "cell_type": "code",
   "execution_count": 10,
   "metadata": {
    "collapsed": true
   },
   "outputs": [],
   "source": [
    "x_train = data_train.drop(['PassengerId','Name','Ticket','Survived','Cabin'],axis = 1)\n",
    "y_train = data_train['Survived']"
   ]
  },
  {
   "cell_type": "code",
   "execution_count": 11,
   "metadata": {},
   "outputs": [
    {
     "name": "stdout",
     "output_type": "stream",
     "text": [
      "   Pclass     Sex   Age  SibSp  Parch     Fare Embarked\n",
      "0       3    male  22.0      1      0   7.2500        S\n",
      "1       1  female  38.0      1      0  71.2833        C\n",
      "2       3  female  26.0      0      0   7.9250        S\n",
      "3       1  female  35.0      1      0  53.1000        S\n",
      "4       3    male  35.0      0      0   8.0500        S\n",
      "0    0\n",
      "1    1\n",
      "2    1\n",
      "3    1\n",
      "4    0\n",
      "Name: Survived, dtype: int64\n"
     ]
    }
   ],
   "source": [
    "print(x_train.head())\n",
    "print(y_train.head())"
   ]
  },
  {
   "cell_type": "code",
   "execution_count": 12,
   "metadata": {
    "collapsed": true
   },
   "outputs": [],
   "source": [
    "x_val = data_test.drop(['PassengerId','Name','Ticket','Cabin'],axis=1)"
   ]
  },
  {
   "cell_type": "code",
   "execution_count": 13,
   "metadata": {},
   "outputs": [
    {
     "name": "stdout",
     "output_type": "stream",
     "text": [
      "----------\n",
      "Pclass        0\n",
      "Sex           0\n",
      "Age         177\n",
      "SibSp         0\n",
      "Parch         0\n",
      "Fare          0\n",
      "Embarked      2\n",
      "dtype: int64\n",
      "----------\n",
      "Pclass       0\n",
      "Sex          0\n",
      "Age         86\n",
      "SibSp        0\n",
      "Parch        0\n",
      "Fare         1\n",
      "Embarked     0\n",
      "dtype: int64\n"
     ]
    }
   ],
   "source": [
    "print('-' *10)\n",
    "print(x_train.isnull().sum())\n",
    "print('-' *10)\n",
    "print(x_val.isnull().sum())"
   ]
  },
  {
   "cell_type": "code",
   "execution_count": 14,
   "metadata": {},
   "outputs": [
    {
     "name": "stdout",
     "output_type": "stream",
     "text": [
      "(891, 7)\n",
      "(418, 7)\n",
      "(1309, 7)\n"
     ]
    }
   ],
   "source": [
    "print(x_train.shape)\n",
    "print(x_val.shape)\n",
    "data = x_train.append(x_val)\n",
    "print(data.shape)"
   ]
  },
  {
   "cell_type": "code",
   "execution_count": 15,
   "metadata": {},
   "outputs": [
    {
     "data": {
      "text/html": [
       "<div>\n",
       "<style>\n",
       "    .dataframe thead tr:only-child th {\n",
       "        text-align: right;\n",
       "    }\n",
       "\n",
       "    .dataframe thead th {\n",
       "        text-align: left;\n",
       "    }\n",
       "\n",
       "    .dataframe tbody tr th {\n",
       "        vertical-align: top;\n",
       "    }\n",
       "</style>\n",
       "<table border=\"1\" class=\"dataframe\">\n",
       "  <thead>\n",
       "    <tr style=\"text-align: right;\">\n",
       "      <th></th>\n",
       "      <th>Pclass</th>\n",
       "      <th>Sex</th>\n",
       "      <th>Age</th>\n",
       "      <th>SibSp</th>\n",
       "      <th>Parch</th>\n",
       "      <th>Fare</th>\n",
       "      <th>Embarked</th>\n",
       "    </tr>\n",
       "  </thead>\n",
       "  <tbody>\n",
       "    <tr>\n",
       "      <th>0</th>\n",
       "      <td>3</td>\n",
       "      <td>male</td>\n",
       "      <td>22.0</td>\n",
       "      <td>1</td>\n",
       "      <td>0</td>\n",
       "      <td>7.2500</td>\n",
       "      <td>S</td>\n",
       "    </tr>\n",
       "    <tr>\n",
       "      <th>1</th>\n",
       "      <td>1</td>\n",
       "      <td>female</td>\n",
       "      <td>38.0</td>\n",
       "      <td>1</td>\n",
       "      <td>0</td>\n",
       "      <td>71.2833</td>\n",
       "      <td>C</td>\n",
       "    </tr>\n",
       "    <tr>\n",
       "      <th>2</th>\n",
       "      <td>3</td>\n",
       "      <td>female</td>\n",
       "      <td>26.0</td>\n",
       "      <td>0</td>\n",
       "      <td>0</td>\n",
       "      <td>7.9250</td>\n",
       "      <td>S</td>\n",
       "    </tr>\n",
       "    <tr>\n",
       "      <th>3</th>\n",
       "      <td>1</td>\n",
       "      <td>female</td>\n",
       "      <td>35.0</td>\n",
       "      <td>1</td>\n",
       "      <td>0</td>\n",
       "      <td>53.1000</td>\n",
       "      <td>S</td>\n",
       "    </tr>\n",
       "    <tr>\n",
       "      <th>4</th>\n",
       "      <td>3</td>\n",
       "      <td>male</td>\n",
       "      <td>35.0</td>\n",
       "      <td>0</td>\n",
       "      <td>0</td>\n",
       "      <td>8.0500</td>\n",
       "      <td>S</td>\n",
       "    </tr>\n",
       "  </tbody>\n",
       "</table>\n",
       "</div>"
      ],
      "text/plain": [
       "   Pclass     Sex   Age  SibSp  Parch     Fare Embarked\n",
       "0       3    male  22.0      1      0   7.2500        S\n",
       "1       1  female  38.0      1      0  71.2833        C\n",
       "2       3  female  26.0      0      0   7.9250        S\n",
       "3       1  female  35.0      1      0  53.1000        S\n",
       "4       3    male  35.0      0      0   8.0500        S"
      ]
     },
     "execution_count": 15,
     "metadata": {},
     "output_type": "execute_result"
    }
   ],
   "source": [
    "data.head()"
   ]
  },
  {
   "cell_type": "markdown",
   "metadata": {},
   "source": [
    "#### Age  Embarked  Fare 存在空数据"
   ]
  },
  {
   "cell_type": "code",
   "execution_count": 16,
   "metadata": {},
   "outputs": [
    {
     "name": "stdout",
     "output_type": "stream",
     "text": [
      "age mean : 29.881137667304014    fare mean : 33.2954792813456\n"
     ]
    }
   ],
   "source": [
    "age_mean = data['Age'].mean()\n",
    "fare_mean = data['Fare'].mean()\n",
    "print('age mean : {}    fare mean : {}'.format(age_mean,fare_mean))"
   ]
  },
  {
   "cell_type": "code",
   "execution_count": 17,
   "metadata": {},
   "outputs": [
    {
     "data": {
      "text/plain": [
       "0    S\n",
       "dtype: object"
      ]
     },
     "execution_count": 17,
     "metadata": {},
     "output_type": "execute_result"
    }
   ],
   "source": [
    "data['Embarked'].mode()"
   ]
  },
  {
   "cell_type": "code",
   "execution_count": 18,
   "metadata": {
    "collapsed": true
   },
   "outputs": [],
   "source": [
    "data['Embarked'].fillna(data['Embarked'].mode()[0],inplace=True)\n",
    "data = data.fillna({'Age':age_mean,'Fare':fare_mean})"
   ]
  },
  {
   "cell_type": "code",
   "execution_count": 19,
   "metadata": {},
   "outputs": [
    {
     "name": "stdout",
     "output_type": "stream",
     "text": [
      "Pclass      0\n",
      "Sex         0\n",
      "Age         0\n",
      "SibSp       0\n",
      "Parch       0\n",
      "Fare        0\n",
      "Embarked    0\n",
      "dtype: int64\n"
     ]
    }
   ],
   "source": [
    "print(data.isnull().sum())"
   ]
  },
  {
   "cell_type": "markdown",
   "metadata": {},
   "source": [
    "#### 处理Sex Embarked 变为类别"
   ]
  },
  {
   "cell_type": "code",
   "execution_count": 20,
   "metadata": {
    "collapsed": true
   },
   "outputs": [],
   "source": [
    "data['Embarked'] = pd.Categorical(data['Embarked'])\n",
    "data['Embarked'] = data['Embarked'].cat.codes+1\n",
    "\n",
    "data['Sex'] = pd.Categorical(data['Sex'])\n",
    "data['Sex'] = data['Sex'].cat.codes+1"
   ]
  },
  {
   "cell_type": "code",
   "execution_count": 21,
   "metadata": {},
   "outputs": [
    {
     "data": {
      "text/html": [
       "<div>\n",
       "<style>\n",
       "    .dataframe thead tr:only-child th {\n",
       "        text-align: right;\n",
       "    }\n",
       "\n",
       "    .dataframe thead th {\n",
       "        text-align: left;\n",
       "    }\n",
       "\n",
       "    .dataframe tbody tr th {\n",
       "        vertical-align: top;\n",
       "    }\n",
       "</style>\n",
       "<table border=\"1\" class=\"dataframe\">\n",
       "  <thead>\n",
       "    <tr style=\"text-align: right;\">\n",
       "      <th></th>\n",
       "      <th>Pclass</th>\n",
       "      <th>Sex</th>\n",
       "      <th>Age</th>\n",
       "      <th>SibSp</th>\n",
       "      <th>Parch</th>\n",
       "      <th>Fare</th>\n",
       "      <th>Embarked</th>\n",
       "    </tr>\n",
       "  </thead>\n",
       "  <tbody>\n",
       "    <tr>\n",
       "      <th>0</th>\n",
       "      <td>3</td>\n",
       "      <td>2</td>\n",
       "      <td>22.0</td>\n",
       "      <td>1</td>\n",
       "      <td>0</td>\n",
       "      <td>7.2500</td>\n",
       "      <td>3</td>\n",
       "    </tr>\n",
       "    <tr>\n",
       "      <th>1</th>\n",
       "      <td>1</td>\n",
       "      <td>1</td>\n",
       "      <td>38.0</td>\n",
       "      <td>1</td>\n",
       "      <td>0</td>\n",
       "      <td>71.2833</td>\n",
       "      <td>1</td>\n",
       "    </tr>\n",
       "    <tr>\n",
       "      <th>2</th>\n",
       "      <td>3</td>\n",
       "      <td>1</td>\n",
       "      <td>26.0</td>\n",
       "      <td>0</td>\n",
       "      <td>0</td>\n",
       "      <td>7.9250</td>\n",
       "      <td>3</td>\n",
       "    </tr>\n",
       "    <tr>\n",
       "      <th>3</th>\n",
       "      <td>1</td>\n",
       "      <td>1</td>\n",
       "      <td>35.0</td>\n",
       "      <td>1</td>\n",
       "      <td>0</td>\n",
       "      <td>53.1000</td>\n",
       "      <td>3</td>\n",
       "    </tr>\n",
       "    <tr>\n",
       "      <th>4</th>\n",
       "      <td>3</td>\n",
       "      <td>2</td>\n",
       "      <td>35.0</td>\n",
       "      <td>0</td>\n",
       "      <td>0</td>\n",
       "      <td>8.0500</td>\n",
       "      <td>3</td>\n",
       "    </tr>\n",
       "  </tbody>\n",
       "</table>\n",
       "</div>"
      ],
      "text/plain": [
       "   Pclass  Sex   Age  SibSp  Parch     Fare  Embarked\n",
       "0       3    2  22.0      1      0   7.2500         3\n",
       "1       1    1  38.0      1      0  71.2833         1\n",
       "2       3    1  26.0      0      0   7.9250         3\n",
       "3       1    1  35.0      1      0  53.1000         3\n",
       "4       3    2  35.0      0      0   8.0500         3"
      ]
     },
     "execution_count": 21,
     "metadata": {},
     "output_type": "execute_result"
    }
   ],
   "source": [
    "data.head()"
   ]
  },
  {
   "cell_type": "markdown",
   "metadata": {},
   "source": [
    "#### 将年龄和fare按区间分类"
   ]
  },
  {
   "cell_type": "code",
   "execution_count": 22,
   "metadata": {
    "collapsed": true
   },
   "outputs": [],
   "source": [
    "age_bin = [-1,0,5,12,18,25,35,60,120]\n",
    "group_names = ['Unknown', 'Baby', 'Child', 'Teenager', 'Student', 'Young Adult', 'Adult', 'Senior']\n",
    "age_cat = pd.cut(data['Age'],bins=age_bin,labels=group_names)\n",
    "data['Age'] = age_cat.cat.codes"
   ]
  },
  {
   "cell_type": "code",
   "execution_count": 23,
   "metadata": {},
   "outputs": [
    {
     "data": {
      "text/html": [
       "<div>\n",
       "<style>\n",
       "    .dataframe thead tr:only-child th {\n",
       "        text-align: right;\n",
       "    }\n",
       "\n",
       "    .dataframe thead th {\n",
       "        text-align: left;\n",
       "    }\n",
       "\n",
       "    .dataframe tbody tr th {\n",
       "        vertical-align: top;\n",
       "    }\n",
       "</style>\n",
       "<table border=\"1\" class=\"dataframe\">\n",
       "  <thead>\n",
       "    <tr style=\"text-align: right;\">\n",
       "      <th></th>\n",
       "      <th>Pclass</th>\n",
       "      <th>Sex</th>\n",
       "      <th>Age</th>\n",
       "      <th>SibSp</th>\n",
       "      <th>Parch</th>\n",
       "      <th>Fare</th>\n",
       "      <th>Embarked</th>\n",
       "    </tr>\n",
       "  </thead>\n",
       "  <tbody>\n",
       "    <tr>\n",
       "      <th>0</th>\n",
       "      <td>3</td>\n",
       "      <td>2</td>\n",
       "      <td>4</td>\n",
       "      <td>1</td>\n",
       "      <td>0</td>\n",
       "      <td>7.2500</td>\n",
       "      <td>3</td>\n",
       "    </tr>\n",
       "    <tr>\n",
       "      <th>1</th>\n",
       "      <td>1</td>\n",
       "      <td>1</td>\n",
       "      <td>0</td>\n",
       "      <td>1</td>\n",
       "      <td>0</td>\n",
       "      <td>71.2833</td>\n",
       "      <td>1</td>\n",
       "    </tr>\n",
       "    <tr>\n",
       "      <th>2</th>\n",
       "      <td>3</td>\n",
       "      <td>1</td>\n",
       "      <td>7</td>\n",
       "      <td>0</td>\n",
       "      <td>0</td>\n",
       "      <td>7.9250</td>\n",
       "      <td>3</td>\n",
       "    </tr>\n",
       "    <tr>\n",
       "      <th>3</th>\n",
       "      <td>1</td>\n",
       "      <td>1</td>\n",
       "      <td>7</td>\n",
       "      <td>1</td>\n",
       "      <td>0</td>\n",
       "      <td>53.1000</td>\n",
       "      <td>3</td>\n",
       "    </tr>\n",
       "    <tr>\n",
       "      <th>4</th>\n",
       "      <td>3</td>\n",
       "      <td>2</td>\n",
       "      <td>7</td>\n",
       "      <td>0</td>\n",
       "      <td>0</td>\n",
       "      <td>8.0500</td>\n",
       "      <td>3</td>\n",
       "    </tr>\n",
       "  </tbody>\n",
       "</table>\n",
       "</div>"
      ],
      "text/plain": [
       "   Pclass  Sex  Age  SibSp  Parch     Fare  Embarked\n",
       "0       3    2    4      1      0   7.2500         3\n",
       "1       1    1    0      1      0  71.2833         1\n",
       "2       3    1    7      0      0   7.9250         3\n",
       "3       1    1    7      1      0  53.1000         3\n",
       "4       3    2    7      0      0   8.0500         3"
      ]
     },
     "execution_count": 23,
     "metadata": {},
     "output_type": "execute_result"
    }
   ],
   "source": [
    "data.head()"
   ]
  },
  {
   "cell_type": "code",
   "execution_count": 24,
   "metadata": {},
   "outputs": [
    {
     "data": {
      "text/html": [
       "<div>\n",
       "<style>\n",
       "    .dataframe thead tr:only-child th {\n",
       "        text-align: right;\n",
       "    }\n",
       "\n",
       "    .dataframe thead th {\n",
       "        text-align: left;\n",
       "    }\n",
       "\n",
       "    .dataframe tbody tr th {\n",
       "        vertical-align: top;\n",
       "    }\n",
       "</style>\n",
       "<table border=\"1\" class=\"dataframe\">\n",
       "  <thead>\n",
       "    <tr style=\"text-align: right;\">\n",
       "      <th></th>\n",
       "      <th>Pclass</th>\n",
       "      <th>Sex</th>\n",
       "      <th>Age</th>\n",
       "      <th>SibSp</th>\n",
       "      <th>Parch</th>\n",
       "      <th>Fare</th>\n",
       "      <th>Embarked</th>\n",
       "    </tr>\n",
       "  </thead>\n",
       "  <tbody>\n",
       "    <tr>\n",
       "      <th>0</th>\n",
       "      <td>3</td>\n",
       "      <td>2</td>\n",
       "      <td>4</td>\n",
       "      <td>1</td>\n",
       "      <td>0</td>\n",
       "      <td>0</td>\n",
       "      <td>3</td>\n",
       "    </tr>\n",
       "    <tr>\n",
       "      <th>1</th>\n",
       "      <td>1</td>\n",
       "      <td>1</td>\n",
       "      <td>0</td>\n",
       "      <td>1</td>\n",
       "      <td>0</td>\n",
       "      <td>3</td>\n",
       "      <td>1</td>\n",
       "    </tr>\n",
       "    <tr>\n",
       "      <th>2</th>\n",
       "      <td>3</td>\n",
       "      <td>1</td>\n",
       "      <td>7</td>\n",
       "      <td>0</td>\n",
       "      <td>0</td>\n",
       "      <td>0</td>\n",
       "      <td>3</td>\n",
       "    </tr>\n",
       "    <tr>\n",
       "      <th>3</th>\n",
       "      <td>1</td>\n",
       "      <td>1</td>\n",
       "      <td>7</td>\n",
       "      <td>1</td>\n",
       "      <td>0</td>\n",
       "      <td>3</td>\n",
       "      <td>3</td>\n",
       "    </tr>\n",
       "    <tr>\n",
       "      <th>4</th>\n",
       "      <td>3</td>\n",
       "      <td>2</td>\n",
       "      <td>7</td>\n",
       "      <td>0</td>\n",
       "      <td>0</td>\n",
       "      <td>1</td>\n",
       "      <td>3</td>\n",
       "    </tr>\n",
       "  </tbody>\n",
       "</table>\n",
       "</div>"
      ],
      "text/plain": [
       "   Pclass  Sex  Age  SibSp  Parch  Fare  Embarked\n",
       "0       3    2    4      1      0     0         3\n",
       "1       1    1    0      1      0     3         1\n",
       "2       3    1    7      0      0     0         3\n",
       "3       1    1    7      1      0     3         3\n",
       "4       3    2    7      0      0     1         3"
      ]
     },
     "execution_count": 24,
     "metadata": {},
     "output_type": "execute_result"
    }
   ],
   "source": [
    "fare_bin = (-1, 0, 8, 15, 31, 1000)\n",
    "group_names = ['Unknown', '1_quartile', '2_quartile', '3_quartile', '4_quartile']\n",
    "fare_cat = pd.cut(data['Fare'],bins=fare_bin,labels=group_names)\n",
    "data['Fare'] = fare_cat.cat.codes\n",
    "data.head()"
   ]
  },
  {
   "cell_type": "code",
   "execution_count": 26,
   "metadata": {},
   "outputs": [],
   "source": [
    "x_train = data.iloc[0:891]\n",
    "x_val = data.iloc[891:]\n",
    "x_train,x_test,y_train,y_test = splitData(x_train,y_train,0.2)"
   ]
  },
  {
   "cell_type": "code",
   "execution_count": 27,
   "metadata": {},
   "outputs": [
    {
     "data": {
      "text/html": [
       "<div>\n",
       "<style>\n",
       "    .dataframe thead tr:only-child th {\n",
       "        text-align: right;\n",
       "    }\n",
       "\n",
       "    .dataframe thead th {\n",
       "        text-align: left;\n",
       "    }\n",
       "\n",
       "    .dataframe tbody tr th {\n",
       "        vertical-align: top;\n",
       "    }\n",
       "</style>\n",
       "<table border=\"1\" class=\"dataframe\">\n",
       "  <thead>\n",
       "    <tr style=\"text-align: right;\">\n",
       "      <th></th>\n",
       "      <th>Pclass</th>\n",
       "      <th>Sex</th>\n",
       "      <th>Age</th>\n",
       "      <th>SibSp</th>\n",
       "      <th>Parch</th>\n",
       "      <th>Fare</th>\n",
       "      <th>Embarked</th>\n",
       "    </tr>\n",
       "  </thead>\n",
       "  <tbody>\n",
       "    <tr>\n",
       "      <th>331</th>\n",
       "      <td>1</td>\n",
       "      <td>2</td>\n",
       "      <td>0</td>\n",
       "      <td>0</td>\n",
       "      <td>0</td>\n",
       "      <td>2</td>\n",
       "      <td>3</td>\n",
       "    </tr>\n",
       "    <tr>\n",
       "      <th>733</th>\n",
       "      <td>2</td>\n",
       "      <td>2</td>\n",
       "      <td>4</td>\n",
       "      <td>0</td>\n",
       "      <td>0</td>\n",
       "      <td>1</td>\n",
       "      <td>3</td>\n",
       "    </tr>\n",
       "    <tr>\n",
       "      <th>382</th>\n",
       "      <td>3</td>\n",
       "      <td>2</td>\n",
       "      <td>7</td>\n",
       "      <td>0</td>\n",
       "      <td>0</td>\n",
       "      <td>0</td>\n",
       "      <td>3</td>\n",
       "    </tr>\n",
       "    <tr>\n",
       "      <th>704</th>\n",
       "      <td>3</td>\n",
       "      <td>2</td>\n",
       "      <td>7</td>\n",
       "      <td>1</td>\n",
       "      <td>0</td>\n",
       "      <td>0</td>\n",
       "      <td>3</td>\n",
       "    </tr>\n",
       "    <tr>\n",
       "      <th>813</th>\n",
       "      <td>3</td>\n",
       "      <td>1</td>\n",
       "      <td>2</td>\n",
       "      <td>4</td>\n",
       "      <td>2</td>\n",
       "      <td>3</td>\n",
       "      <td>3</td>\n",
       "    </tr>\n",
       "  </tbody>\n",
       "</table>\n",
       "</div>"
      ],
      "text/plain": [
       "     Pclass  Sex  Age  SibSp  Parch  Fare  Embarked\n",
       "331       1    2    0      0      0     2         3\n",
       "733       2    2    4      0      0     1         3\n",
       "382       3    2    7      0      0     0         3\n",
       "704       3    2    7      1      0     0         3\n",
       "813       3    1    2      4      2     3         3"
      ]
     },
     "execution_count": 27,
     "metadata": {},
     "output_type": "execute_result"
    }
   ],
   "source": [
    "x_train.head()"
   ]
  },
  {
   "cell_type": "code",
   "execution_count": 28,
   "metadata": {
    "collapsed": true
   },
   "outputs": [],
   "source": [
    "y_train = np.asarray(y_train)\n",
    "x_train = np.asarray(x_train)\n",
    "\n",
    "y_test = np.asarray(y_test)\n",
    "y_train = np.asarray(y_train)"
   ]
  },
  {
   "cell_type": "code",
   "execution_count": 37,
   "metadata": {},
   "outputs": [
    {
     "name": "stdout",
     "output_type": "stream",
     "text": [
      "Train on 712 samples, validate on 179 samples\n",
      "Epoch 1/50\n",
      "712/712 [==============================] - 1s 1ms/step - loss: 1.0361 - binary_accuracy: 0.5281 - val_loss: 1.0002 - val_binary_accuracy: 0.5866\n",
      "Epoch 2/50\n",
      "712/712 [==============================] - 0s 21us/step - loss: 0.9787 - binary_accuracy: 0.6236 - val_loss: 0.9761 - val_binary_accuracy: 0.5866\n",
      "Epoch 3/50\n",
      "712/712 [==============================] - 0s 27us/step - loss: 0.9555 - binary_accuracy: 0.6292 - val_loss: 0.9593 - val_binary_accuracy: 0.5866\n",
      "Epoch 4/50\n",
      "712/712 [==============================] - 0s 25us/step - loss: 0.9375 - binary_accuracy: 0.6306 - val_loss: 0.9395 - val_binary_accuracy: 0.6034\n",
      "Epoch 5/50\n",
      "712/712 [==============================] - 0s 25us/step - loss: 0.9231 - binary_accuracy: 0.6433 - val_loss: 0.9243 - val_binary_accuracy: 0.6034\n",
      "Epoch 6/50\n",
      "712/712 [==============================] - 0s 24us/step - loss: 0.9097 - binary_accuracy: 0.6419 - val_loss: 0.9062 - val_binary_accuracy: 0.6089\n",
      "Epoch 7/50\n",
      "712/712 [==============================] - 0s 22us/step - loss: 0.8964 - binary_accuracy: 0.6559 - val_loss: 0.8969 - val_binary_accuracy: 0.6089\n",
      "Epoch 8/50\n",
      "712/712 [==============================] - 0s 25us/step - loss: 0.8838 - binary_accuracy: 0.6587 - val_loss: 0.8775 - val_binary_accuracy: 0.6480\n",
      "Epoch 9/50\n",
      "712/712 [==============================] - 0s 22us/step - loss: 0.8707 - binary_accuracy: 0.6699 - val_loss: 0.8563 - val_binary_accuracy: 0.6927\n",
      "Epoch 10/50\n",
      "712/712 [==============================] - 0s 21us/step - loss: 0.8572 - binary_accuracy: 0.6910 - val_loss: 0.8355 - val_binary_accuracy: 0.7263\n",
      "Epoch 11/50\n",
      "712/712 [==============================] - 0s 27us/step - loss: 0.8435 - binary_accuracy: 0.6868 - val_loss: 0.8220 - val_binary_accuracy: 0.7151\n",
      "Epoch 12/50\n",
      "712/712 [==============================] - 0s 22us/step - loss: 0.8342 - binary_accuracy: 0.6910 - val_loss: 0.8107 - val_binary_accuracy: 0.7207\n",
      "Epoch 13/50\n",
      "712/712 [==============================] - 0s 28us/step - loss: 0.8176 - binary_accuracy: 0.6966 - val_loss: 0.7999 - val_binary_accuracy: 0.7095\n",
      "Epoch 14/50\n",
      "712/712 [==============================] - 0s 25us/step - loss: 0.8085 - binary_accuracy: 0.7065 - val_loss: 0.7915 - val_binary_accuracy: 0.7095\n",
      "Epoch 15/50\n",
      "712/712 [==============================] - 0s 22us/step - loss: 0.7969 - binary_accuracy: 0.7107 - val_loss: 0.7750 - val_binary_accuracy: 0.7318\n",
      "Epoch 16/50\n",
      "712/712 [==============================] - 0s 25us/step - loss: 0.7875 - binary_accuracy: 0.7233 - val_loss: 0.7688 - val_binary_accuracy: 0.7039\n",
      "Epoch 17/50\n",
      "712/712 [==============================] - 0s 28us/step - loss: 0.7775 - binary_accuracy: 0.7093 - val_loss: 0.7547 - val_binary_accuracy: 0.7374\n",
      "Epoch 18/50\n",
      "712/712 [==============================] - 0s 28us/step - loss: 0.7678 - binary_accuracy: 0.7191 - val_loss: 0.7479 - val_binary_accuracy: 0.7430\n",
      "Epoch 19/50\n",
      "712/712 [==============================] - 0s 25us/step - loss: 0.7600 - binary_accuracy: 0.7261 - val_loss: 0.7327 - val_binary_accuracy: 0.7374\n",
      "Epoch 20/50\n",
      "712/712 [==============================] - 0s 24us/step - loss: 0.7510 - binary_accuracy: 0.7317 - val_loss: 0.7308 - val_binary_accuracy: 0.7430\n",
      "Epoch 21/50\n",
      "712/712 [==============================] - 0s 25us/step - loss: 0.7407 - binary_accuracy: 0.7331 - val_loss: 0.7218 - val_binary_accuracy: 0.7374\n",
      "Epoch 22/50\n",
      "712/712 [==============================] - 0s 22us/step - loss: 0.7328 - binary_accuracy: 0.7275 - val_loss: 0.7097 - val_binary_accuracy: 0.7430\n",
      "Epoch 23/50\n",
      "712/712 [==============================] - 0s 27us/step - loss: 0.7260 - binary_accuracy: 0.7388 - val_loss: 0.7015 - val_binary_accuracy: 0.7430\n",
      "Epoch 24/50\n",
      "712/712 [==============================] - 0s 22us/step - loss: 0.7236 - binary_accuracy: 0.7514 - val_loss: 0.6940 - val_binary_accuracy: 0.7430\n",
      "Epoch 25/50\n",
      "712/712 [==============================] - 0s 25us/step - loss: 0.7090 - binary_accuracy: 0.7486 - val_loss: 0.6872 - val_binary_accuracy: 0.7542\n",
      "Epoch 26/50\n",
      "712/712 [==============================] - 0s 22us/step - loss: 0.7018 - binary_accuracy: 0.7556 - val_loss: 0.6844 - val_binary_accuracy: 0.7486\n",
      "Epoch 27/50\n",
      "712/712 [==============================] - 0s 24us/step - loss: 0.6966 - binary_accuracy: 0.7458 - val_loss: 0.6754 - val_binary_accuracy: 0.7263\n",
      "Epoch 28/50\n",
      "712/712 [==============================] - 0s 20us/step - loss: 0.6882 - binary_accuracy: 0.7584 - val_loss: 0.6900 - val_binary_accuracy: 0.7430\n",
      "Epoch 29/50\n",
      "712/712 [==============================] - 0s 28us/step - loss: 0.6826 - binary_accuracy: 0.7542 - val_loss: 0.6598 - val_binary_accuracy: 0.7486\n",
      "Epoch 30/50\n",
      "712/712 [==============================] - 0s 21us/step - loss: 0.6800 - binary_accuracy: 0.7556 - val_loss: 0.6549 - val_binary_accuracy: 0.7374\n",
      "Epoch 31/50\n",
      "712/712 [==============================] - 0s 25us/step - loss: 0.6730 - binary_accuracy: 0.7584 - val_loss: 0.6522 - val_binary_accuracy: 0.7430\n",
      "Epoch 32/50\n",
      "712/712 [==============================] - 0s 21us/step - loss: 0.6647 - binary_accuracy: 0.7570 - val_loss: 0.6607 - val_binary_accuracy: 0.7542\n",
      "Epoch 33/50\n",
      "712/712 [==============================] - 0s 31us/step - loss: 0.6615 - binary_accuracy: 0.7697 - val_loss: 0.6364 - val_binary_accuracy: 0.7430\n",
      "Epoch 34/50\n",
      "712/712 [==============================] - 0s 25us/step - loss: 0.6597 - binary_accuracy: 0.7626 - val_loss: 0.6339 - val_binary_accuracy: 0.7430\n",
      "Epoch 35/50\n",
      "712/712 [==============================] - 0s 25us/step - loss: 0.6505 - binary_accuracy: 0.7669 - val_loss: 0.6315 - val_binary_accuracy: 0.7374\n",
      "Epoch 36/50\n",
      "712/712 [==============================] - 0s 25us/step - loss: 0.6464 - binary_accuracy: 0.7598 - val_loss: 0.6321 - val_binary_accuracy: 0.7486\n",
      "Epoch 37/50\n",
      "712/712 [==============================] - 0s 24us/step - loss: 0.6423 - binary_accuracy: 0.7753 - val_loss: 0.6216 - val_binary_accuracy: 0.7374\n",
      "Epoch 38/50\n",
      "712/712 [==============================] - 0s 28us/step - loss: 0.6367 - binary_accuracy: 0.7767 - val_loss: 0.6184 - val_binary_accuracy: 0.7542\n",
      "Epoch 39/50\n",
      "712/712 [==============================] - 0s 21us/step - loss: 0.6344 - binary_accuracy: 0.7739 - val_loss: 0.6133 - val_binary_accuracy: 0.7542\n",
      "Epoch 40/50\n",
      "712/712 [==============================] - 0s 24us/step - loss: 0.6333 - binary_accuracy: 0.7753 - val_loss: 0.6099 - val_binary_accuracy: 0.7486\n",
      "Epoch 41/50\n",
      "712/712 [==============================] - 0s 24us/step - loss: 0.6291 - binary_accuracy: 0.7739 - val_loss: 0.6063 - val_binary_accuracy: 0.7598\n",
      "Epoch 42/50\n",
      "712/712 [==============================] - 0s 28us/step - loss: 0.6225 - binary_accuracy: 0.7837 - val_loss: 0.6024 - val_binary_accuracy: 0.7542\n",
      "Epoch 43/50\n",
      "712/712 [==============================] - 0s 27us/step - loss: 0.6229 - binary_accuracy: 0.7865 - val_loss: 0.5997 - val_binary_accuracy: 0.7486\n",
      "Epoch 44/50\n",
      "712/712 [==============================] - 0s 27us/step - loss: 0.6157 - binary_accuracy: 0.7865 - val_loss: 0.5987 - val_binary_accuracy: 0.7486\n",
      "Epoch 45/50\n",
      "712/712 [==============================] - 0s 25us/step - loss: 0.6127 - binary_accuracy: 0.7893 - val_loss: 0.5954 - val_binary_accuracy: 0.7486\n",
      "Epoch 46/50\n",
      "712/712 [==============================] - 0s 42us/step - loss: 0.6094 - binary_accuracy: 0.7921 - val_loss: 0.5925 - val_binary_accuracy: 0.7486\n",
      "Epoch 47/50\n",
      "712/712 [==============================] - 0s 60us/step - loss: 0.6057 - binary_accuracy: 0.7935 - val_loss: 0.5939 - val_binary_accuracy: 0.7542\n",
      "Epoch 48/50\n",
      "712/712 [==============================] - 0s 29us/step - loss: 0.6061 - binary_accuracy: 0.7851 - val_loss: 0.5887 - val_binary_accuracy: 0.7486\n",
      "Epoch 49/50\n",
      "712/712 [==============================] - 0s 22us/step - loss: 0.6027 - binary_accuracy: 0.7921 - val_loss: 0.5873 - val_binary_accuracy: 0.7486\n",
      "Epoch 50/50\n",
      "712/712 [==============================] - 0s 24us/step - loss: 0.5980 - binary_accuracy: 0.8034 - val_loss: 0.5843 - val_binary_accuracy: 0.7542\n"
     ]
    }
   ],
   "source": [
    "history = keras_model.fit(x_train,y_train,batch_size=128,validation_data=[x_test,y_test],epochs=50)"
   ]
  },
  {
   "cell_type": "code",
   "execution_count": 38,
   "metadata": {},
   "outputs": [
    {
     "data": {
      "image/png": "[encoded data removed]",
      "text/plain": [
       "<matplotlib.figure.Figure at 0x16bd0d30>"
      ]
     },
     "metadata": {},
     "output_type": "display_data"
    }
   ],
   "source": [
    "train_acc = history.history['binary_accuracy']\n",
    "val_acc = history.history['val_binary_accuracy']\n",
    "\n",
    "epcho = range(1,len(train_acc)+1)\n",
    "\n",
    "plt.plot(epcho,train_acc,'bo',label='train acc')\n",
    "plt.plot(epcho,val_acc,'b',label='val acc')\n",
    "plt.legend()\n",
    "plt.xlabel('Epochs')\n",
    "plt.ylabel('Acc')\n",
    "plt.show()"
   ]
  },
  {
   "cell_type": "code",
   "execution_count": 39,
   "metadata": {},
   "outputs": [
    {
     "data": {
      "image/png": "[encoded data removed]",
      "text/plain": [
       "<matplotlib.figure.Figure at 0x16c45a90>"
      ]
     },
     "metadata": {},
     "output_type": "display_data"
    }
   ],
   "source": [
    "plt.clf()\n",
    "\n",
    "train_loss = history.history['loss']\n",
    "val_loss = history.history['val_loss']\n",
    "\n",
    "epcho = range(1,len(train_acc)+1)\n",
    "\n",
    "plt.plot(epcho,train_loss,'bo',label='train loss')\n",
    "plt.plot(epcho,val_loss,'b',label='val_loss')\n",
    "plt.legend()\n",
    "plt.xlabel('Epochs')\n",
    "plt.ylabel('loss')\n",
    "plt.show()"
   ]
  },
  {
   "cell_type": "code",
   "execution_count": null,
   "metadata": {
    "collapsed": true
   },
   "outputs": [],
   "source": []
  }
 ],
 "metadata": {
  "kernelspec": {
   "display_name": "Python 3",
   "language": "python",
   "name": "python3"
  },
  "language_info": {
   "codemirror_mode": {
    "name": "ipython",
    "version": 3
   },
   "file_extension": ".py",
   "mimetype": "text/x-python",
   "name": "python",
   "nbconvert_exporter": "python",
   "pygments_lexer": "ipython3",
   "version": "3.6.1"
  }
 },
 "nbformat": 4,
 "nbformat_minor": 1
}
