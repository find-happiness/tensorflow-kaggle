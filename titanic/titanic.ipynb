{
 "cells": [
  {
   "cell_type": "code",
   "execution_count": 1,
   "metadata": {},
   "outputs": [
    {
     "name": "stderr",
     "output_type": "stream",
     "text": [
      "E:\\Anaconda3_5_0_0\\lib\\site-packages\\h5py\\__init__.py:34: FutureWarning: Conversion of the second argument of issubdtype from `float` to `np.floating` is deprecated. In future, it will be treated as `np.float64 == np.dtype(float).type`.\n",
      "  from ._conv import register_converters as _register_converters\n"
     ]
    }
   ],
   "source": [
    "import tensorflow as tf\n",
    "import pandas as pd\n",
    "import numpy as np"
   ]
  },
  {
   "cell_type": "markdown",
   "metadata": {},
   "source": [
    "### 读出数据观测"
   ]
  },
  {
   "cell_type": "code",
   "execution_count": 2,
   "metadata": {
    "collapsed": true
   },
   "outputs": [],
   "source": [
    "# Pclass Ticket class \n",
    "# Fare 票价\n",
    "# ticket ticket number\n",
    "# cabin 客舱号码\n",
    "# embarked 地点\n",
    "# parch 父母，孩子\n",
    "# sibsp 亲友\n",
    "\n",
    "test_names = ['PassengerId','Pclass','Name','Sex','Age','SibSp','Parch','Ticket','Fare','Cabin','Embarked']\n",
    "train_names = ['PassengerId','Survived','Pclass','Name','Sex','Age','SibSp','Parch','Ticket','Fare','Cabin','Embarked']"
   ]
  },
  {
   "cell_type": "code",
   "execution_count": 3,
   "metadata": {
    "collapsed": true
   },
   "outputs": [],
   "source": [
    "def load_cvs(path,names,isDeleteCabin=False,isDeleteName = True,isDeleteTicket = True):\n",
    "    data = pd.read_csv(path,header=0,names = names)\n",
    "    if isDeleteCabin:\n",
    "        data.pop('Cabin')\n",
    "    if isDeleteName:\n",
    "        data.pop('Name')\n",
    "    if isDeleteName:\n",
    "        data.pop('Ticket')\n",
    "    return data"
   ]
  },
  {
   "cell_type": "code",
   "execution_count": 4,
   "metadata": {},
   "outputs": [
    {
     "data": {
      "text/html": [
       "<div>\n",
       "<style>\n",
       "    .dataframe thead tr:only-child th {\n",
       "        text-align: right;\n",
       "    }\n",
       "\n",
       "    .dataframe thead th {\n",
       "        text-align: left;\n",
       "    }\n",
       "\n",
       "    .dataframe tbody tr th {\n",
       "        vertical-align: top;\n",
       "    }\n",
       "</style>\n",
       "<table border=\"1\" class=\"dataframe\">\n",
       "  <thead>\n",
       "    <tr style=\"text-align: right;\">\n",
       "      <th></th>\n",
       "      <th>Survived</th>\n",
       "      <th>Pclass</th>\n",
       "      <th>Sex</th>\n",
       "      <th>Age</th>\n",
       "      <th>SibSp</th>\n",
       "      <th>Parch</th>\n",
       "      <th>Fare</th>\n",
       "      <th>Embarked</th>\n",
       "    </tr>\n",
       "  </thead>\n",
       "  <tbody>\n",
       "    <tr>\n",
       "      <th>0</th>\n",
       "      <td>0</td>\n",
       "      <td>3</td>\n",
       "      <td>male</td>\n",
       "      <td>22.0</td>\n",
       "      <td>1</td>\n",
       "      <td>0</td>\n",
       "      <td>7.2500</td>\n",
       "      <td>S</td>\n",
       "    </tr>\n",
       "    <tr>\n",
       "      <th>1</th>\n",
       "      <td>1</td>\n",
       "      <td>1</td>\n",
       "      <td>female</td>\n",
       "      <td>38.0</td>\n",
       "      <td>1</td>\n",
       "      <td>0</td>\n",
       "      <td>71.2833</td>\n",
       "      <td>C</td>\n",
       "    </tr>\n",
       "    <tr>\n",
       "      <th>2</th>\n",
       "      <td>1</td>\n",
       "      <td>3</td>\n",
       "      <td>female</td>\n",
       "      <td>26.0</td>\n",
       "      <td>0</td>\n",
       "      <td>0</td>\n",
       "      <td>7.9250</td>\n",
       "      <td>S</td>\n",
       "    </tr>\n",
       "    <tr>\n",
       "      <th>3</th>\n",
       "      <td>1</td>\n",
       "      <td>1</td>\n",
       "      <td>female</td>\n",
       "      <td>35.0</td>\n",
       "      <td>1</td>\n",
       "      <td>0</td>\n",
       "      <td>53.1000</td>\n",
       "      <td>S</td>\n",
       "    </tr>\n",
       "    <tr>\n",
       "      <th>4</th>\n",
       "      <td>0</td>\n",
       "      <td>3</td>\n",
       "      <td>male</td>\n",
       "      <td>35.0</td>\n",
       "      <td>0</td>\n",
       "      <td>0</td>\n",
       "      <td>8.0500</td>\n",
       "      <td>S</td>\n",
       "    </tr>\n",
       "  </tbody>\n",
       "</table>\n",
       "</div>"
      ],
      "text/plain": [
       "   Survived  Pclass     Sex   Age  SibSp  Parch     Fare Embarked\n",
       "0         0       3    male  22.0      1      0   7.2500        S\n",
       "1         1       1  female  38.0      1      0  71.2833        C\n",
       "2         1       3  female  26.0      0      0   7.9250        S\n",
       "3         1       1  female  35.0      1      0  53.1000        S\n",
       "4         0       3    male  35.0      0      0   8.0500        S"
      ]
     },
     "execution_count": 4,
     "metadata": {},
     "output_type": "execute_result"
    }
   ],
   "source": [
    "data_train = load_cvs('./data/train.csv',names=train_names,isDeleteCabin = True)\n",
    "data_train.pop('PassengerId')\n",
    "# 使用平均值进行填充\n",
    "mean_age =round( data_train.mean()['Age'],1)\n",
    "mean_fare =round( data_train.mean()['Fare'],1)\n",
    "data_train = data_train.fillna({'Age':mean_age,'Fare':mean_fare})\n",
    "data_train = data_train.fillna(method='ffill')\n",
    "data_train.head()\n"
   ]
  },
  {
   "cell_type": "code",
   "execution_count": 5,
   "metadata": {},
   "outputs": [
    {
     "data": {
      "text/html": [
       "<div>\n",
       "<style>\n",
       "    .dataframe thead tr:only-child th {\n",
       "        text-align: right;\n",
       "    }\n",
       "\n",
       "    .dataframe thead th {\n",
       "        text-align: left;\n",
       "    }\n",
       "\n",
       "    .dataframe tbody tr th {\n",
       "        vertical-align: top;\n",
       "    }\n",
       "</style>\n",
       "<table border=\"1\" class=\"dataframe\">\n",
       "  <thead>\n",
       "    <tr style=\"text-align: right;\">\n",
       "      <th></th>\n",
       "      <th>Pclass</th>\n",
       "      <th>Sex</th>\n",
       "      <th>Age</th>\n",
       "      <th>SibSp</th>\n",
       "      <th>Parch</th>\n",
       "      <th>Fare</th>\n",
       "      <th>Embarked</th>\n",
       "    </tr>\n",
       "  </thead>\n",
       "  <tbody>\n",
       "    <tr>\n",
       "      <th>0</th>\n",
       "      <td>3</td>\n",
       "      <td>male</td>\n",
       "      <td>34.5</td>\n",
       "      <td>0</td>\n",
       "      <td>0</td>\n",
       "      <td>7.8292</td>\n",
       "      <td>Q</td>\n",
       "    </tr>\n",
       "    <tr>\n",
       "      <th>1</th>\n",
       "      <td>3</td>\n",
       "      <td>female</td>\n",
       "      <td>47.0</td>\n",
       "      <td>1</td>\n",
       "      <td>0</td>\n",
       "      <td>7.0000</td>\n",
       "      <td>S</td>\n",
       "    </tr>\n",
       "    <tr>\n",
       "      <th>2</th>\n",
       "      <td>2</td>\n",
       "      <td>male</td>\n",
       "      <td>62.0</td>\n",
       "      <td>0</td>\n",
       "      <td>0</td>\n",
       "      <td>9.6875</td>\n",
       "      <td>Q</td>\n",
       "    </tr>\n",
       "    <tr>\n",
       "      <th>3</th>\n",
       "      <td>3</td>\n",
       "      <td>male</td>\n",
       "      <td>27.0</td>\n",
       "      <td>0</td>\n",
       "      <td>0</td>\n",
       "      <td>8.6625</td>\n",
       "      <td>S</td>\n",
       "    </tr>\n",
       "    <tr>\n",
       "      <th>4</th>\n",
       "      <td>3</td>\n",
       "      <td>female</td>\n",
       "      <td>22.0</td>\n",
       "      <td>1</td>\n",
       "      <td>1</td>\n",
       "      <td>12.2875</td>\n",
       "      <td>S</td>\n",
       "    </tr>\n",
       "  </tbody>\n",
       "</table>\n",
       "</div>"
      ],
      "text/plain": [
       "   Pclass     Sex   Age  SibSp  Parch     Fare Embarked\n",
       "0       3    male  34.5      0      0   7.8292        Q\n",
       "1       3  female  47.0      1      0   7.0000        S\n",
       "2       2    male  62.0      0      0   9.6875        Q\n",
       "3       3    male  27.0      0      0   8.6625        S\n",
       "4       3  female  22.0      1      1  12.2875        S"
      ]
     },
     "execution_count": 5,
     "metadata": {},
     "output_type": "execute_result"
    }
   ],
   "source": [
    "data_test = load_cvs('./data/test.csv',names=test_names,isDeleteCabin = True)\n",
    "data_test.pop('PassengerId')\n",
    "#使用训练的平均值填充缺省值\n",
    "data_test = data_test.fillna({'Age':mean_age,'Fare':mean_fare})\n",
    "data_test = data_test.fillna(method='ffill')\n",
    "data_test.head()"
   ]
  },
  {
   "cell_type": "markdown",
   "metadata": {},
   "source": [
    "### 标准化年龄"
   ]
  },
  {
   "cell_type": "code",
   "execution_count": 6,
   "metadata": {
    "collapsed": true
   },
   "outputs": [],
   "source": [
    "def mean_std(name_column,data_set):\n",
    "    mean,std= data_set.mean()[name_column],data_set.std()[name_column]\n",
    "    print(mean,std)\n",
    "    return mean,std"
   ]
  },
  {
   "cell_type": "code",
   "execution_count": 7,
   "metadata": {},
   "outputs": [
    {
     "name": "stdout",
     "output_type": "stream",
     "text": [
      "29.69929292929302 13.002015230774283\n",
      "32.2042079685746 49.693428597180905\n"
     ]
    }
   ],
   "source": [
    "mean_age,std_age = mean_std('Age',data_train)\n",
    "mean_fare,std_fare = mean_std('Fare',data_train)"
   ]
  },
  {
   "cell_type": "code",
   "execution_count": 8,
   "metadata": {
    "collapsed": true
   },
   "outputs": [],
   "source": [
    "def normal_data_train(name_column,mean,std,data):\n",
    "    data[name_column] = data.apply(func=lambda x: (x[name_column]-mean)/std ,axis=1)"
   ]
  },
  {
   "cell_type": "code",
   "execution_count": 9,
   "metadata": {
    "collapsed": true
   },
   "outputs": [],
   "source": [
    "def slip_train_data(data_train):\n",
    "    df = data_train.sample(frac=0.8) # 全部打乱\n",
    "    cut_idx = int(round(0.1 * df.shape[0]))\n",
    "    df_test, df_train = df.iloc[:cut_idx], df.iloc[cut_idx:]\n",
    "    train_x,train_y = df_train,df_train.pop('Survived')\n",
    "    test_x,test_y = df_test,df_test.pop('Survived')\n",
    "    return (train_x,train_y),(test_x,test_y)"
   ]
  },
  {
   "cell_type": "code",
   "execution_count": 10,
   "metadata": {
    "collapsed": true
   },
   "outputs": [],
   "source": [
    "(train_x,train_y),(test_x,test_y) = slip_train_data(data_train=data_train)"
   ]
  },
  {
   "cell_type": "code",
   "execution_count": 11,
   "metadata": {},
   "outputs": [
    {
     "data": {
      "text/html": [
       "<div>\n",
       "<style>\n",
       "    .dataframe thead tr:only-child th {\n",
       "        text-align: right;\n",
       "    }\n",
       "\n",
       "    .dataframe thead th {\n",
       "        text-align: left;\n",
       "    }\n",
       "\n",
       "    .dataframe tbody tr th {\n",
       "        vertical-align: top;\n",
       "    }\n",
       "</style>\n",
       "<table border=\"1\" class=\"dataframe\">\n",
       "  <thead>\n",
       "    <tr style=\"text-align: right;\">\n",
       "      <th></th>\n",
       "      <th>Pclass</th>\n",
       "      <th>Sex</th>\n",
       "      <th>Age</th>\n",
       "      <th>SibSp</th>\n",
       "      <th>Parch</th>\n",
       "      <th>Fare</th>\n",
       "      <th>Embarked</th>\n",
       "    </tr>\n",
       "  </thead>\n",
       "  <tbody>\n",
       "    <tr>\n",
       "      <th>617</th>\n",
       "      <td>3</td>\n",
       "      <td>female</td>\n",
       "      <td>26.0</td>\n",
       "      <td>1</td>\n",
       "      <td>0</td>\n",
       "      <td>16.10</td>\n",
       "      <td>S</td>\n",
       "    </tr>\n",
       "    <tr>\n",
       "      <th>463</th>\n",
       "      <td>2</td>\n",
       "      <td>male</td>\n",
       "      <td>48.0</td>\n",
       "      <td>0</td>\n",
       "      <td>0</td>\n",
       "      <td>13.00</td>\n",
       "      <td>S</td>\n",
       "    </tr>\n",
       "    <tr>\n",
       "      <th>472</th>\n",
       "      <td>2</td>\n",
       "      <td>female</td>\n",
       "      <td>33.0</td>\n",
       "      <td>1</td>\n",
       "      <td>2</td>\n",
       "      <td>27.75</td>\n",
       "      <td>S</td>\n",
       "    </tr>\n",
       "    <tr>\n",
       "      <th>588</th>\n",
       "      <td>3</td>\n",
       "      <td>male</td>\n",
       "      <td>22.0</td>\n",
       "      <td>0</td>\n",
       "      <td>0</td>\n",
       "      <td>8.05</td>\n",
       "      <td>S</td>\n",
       "    </tr>\n",
       "    <tr>\n",
       "      <th>87</th>\n",
       "      <td>3</td>\n",
       "      <td>male</td>\n",
       "      <td>29.7</td>\n",
       "      <td>0</td>\n",
       "      <td>0</td>\n",
       "      <td>8.05</td>\n",
       "      <td>S</td>\n",
       "    </tr>\n",
       "  </tbody>\n",
       "</table>\n",
       "</div>"
      ],
      "text/plain": [
       "     Pclass     Sex   Age  SibSp  Parch   Fare Embarked\n",
       "617       3  female  26.0      1      0  16.10        S\n",
       "463       2    male  48.0      0      0  13.00        S\n",
       "472       2  female  33.0      1      2  27.75        S\n",
       "588       3    male  22.0      0      0   8.05        S\n",
       "87        3    male  29.7      0      0   8.05        S"
      ]
     },
     "execution_count": 11,
     "metadata": {},
     "output_type": "execute_result"
    }
   ],
   "source": [
    "train_x.head()"
   ]
  },
  {
   "cell_type": "markdown",
   "metadata": {},
   "source": [
    "### 自定义Estimator"
   ]
  },
  {
   "cell_type": "code",
   "execution_count": 12,
   "metadata": {
    "collapsed": true
   },
   "outputs": [],
   "source": [
    "def model_fn(features,labels,mode,params):\n",
    "    feature_columns = params['features_columns']\n",
    "    print(feature_columns)\n",
    "    inputs = tf.feature_column.input_layer(features=features,feature_columns=feature_columns)\n",
    "    hidden_unit = params['hidden_unit']\n",
    "    # 创建隐藏层\n",
    "    i = 0\n",
    "    for unit in hidden_unit:\n",
    "        inputs = tf.layers.dense(inputs=inputs,units=unit,activation=tf.nn.relu,kernel_regularizer=tf.contrib.layers.l1_l2_regularizer(0.5,0.5),name=('layer_hidden_%d' %i))\n",
    "        i +=1\n",
    "\n",
    "    # 创建输出层\n",
    "    \n",
    "    logits = tf.layers.dense(inputs=inputs,units=params['n_classes'],activation=None,name='layer_output')\n",
    "    \n",
    "    predict_class = tf.argmax(logits,axis=1)\n",
    "    \n",
    "    if mode == tf.estimator.ModeKeys.PREDICT:\n",
    "        predictions={'class_ids':predict_class[:,tf.newaxis],'probabilities':tf.nn.softmax(logits),'logit':logits}\n",
    "        return tf.estimator.EstimatorSpec(mode,predictions)\n",
    "    \n",
    "    loss = tf.losses.sparse_softmax_cross_entropy(labels=labels,logits=logits) +  tf.losses.get_regularization_loss()\n",
    "    \n",
    "    # 评估 返回准确率\n",
    "    if mode == tf.estimator.ModeKeys.EVAL:\n",
    "        accuracy = tf.metrics.accuracy(labels=labels,predictions=predict_class,name ='acc_op')\n",
    "        metrics = {'accuracy':accuracy}\n",
    "#         tf.summary.scalar(accuracy[1])\n",
    "        return tf.estimator.EstimatorSpec(mode,loss = loss,eval_metric_ops = metrics)\n",
    "    \n",
    "    # 训练\n",
    "    tf.assert_equal(mode,tf.estimator.ModeKeys.TRAIN)\n",
    "    global_step = tf.train.get_global_step()\n",
    "    starter_learning_rate = 0.1\n",
    "    learning_rate = tf.train.exponential_decay(starter_learning_rate, global_step,\n",
    "                                           100000, 0.96, staircase=True)\n",
    "    optimizer = tf.train.AdagradOptimizer(learning_rate=learning_rate)\n",
    "    train_op = optimizer.minimize(loss,global_step)\n",
    "    return tf.estimator.EstimatorSpec(mode,loss = loss,train_op = train_op)\n",
    "    "
   ]
  },
  {
   "cell_type": "markdown",
   "metadata": {},
   "source": [
    "### 生成features columns"
   ]
  },
  {
   "cell_type": "code",
   "execution_count": 13,
   "metadata": {
    "collapsed": true
   },
   "outputs": [],
   "source": [
    "feature_columns = []\n",
    "# Pclass 分类特征列\n",
    "feature_columns.append(tf.feature_column.numeric_column(key='Pclass',dtype=tf.int32))\n",
    "# sex 分类词汇列\n",
    "feature_columns.append(tf.feature_column.indicator_column(tf.feature_column.categorical_column_with_vocabulary_list(key='Sex',vocabulary_list=['male','female'])))\n",
    "# Age 数值列\n",
    "feature_columns.append(tf.feature_column.numeric_column(key='Age',normalizer_fn=lambda x: (x-mean_age)/std_age ))\n",
    "# SibSp 数值列\n",
    "feature_columns.append(tf.feature_column.numeric_column(key='SibSp'))\n",
    "# Parch 数值列\n",
    "feature_columns.append(tf.feature_column.numeric_column(key='Parch'))\n",
    "# Ticket 经过哈希处理的列\n",
    "# feature_columns.append(tf.feature_column.categorical_column_with_hash_bucket(key='Ticket',hash_bucket_size=))\n",
    "# Fare 数值列\n",
    "feature_columns.append(tf.feature_column.numeric_column(key='Fare',normalizer_fn=lambda x:(x-mean_fare)/std_fare))\n",
    "# Embarked 分类词汇列\n",
    "feature_columns.append(tf.feature_column.indicator_column(tf.feature_column.categorical_column_with_vocabulary_list(key='Embarked',vocabulary_list=['C','S','Q'])))\n"
   ]
  },
  {
   "cell_type": "code",
   "execution_count": 14,
   "metadata": {},
   "outputs": [
    {
     "name": "stdout",
     "output_type": "stream",
     "text": [
      "INFO:tensorflow:Using default config.\n",
      "INFO:tensorflow:Using config: {'_model_dir': './model', '_tf_random_seed': None, '_save_summary_steps': 100, '_save_checkpoints_steps': None, '_save_checkpoints_secs': 600, '_session_config': None, '_keep_checkpoint_max': 5, '_keep_checkpoint_every_n_hours': 10000, '_log_step_count_steps': 100, '_train_distribute': None, '_device_fn': None, '_service': None, '_cluster_spec': <tensorflow.python.training.server_lib.ClusterSpec object at 0x00000225FC8E1E48>, '_task_type': 'worker', '_task_id': 0, '_global_id_in_cluster': 0, '_master': '', '_evaluation_master': '', '_is_chief': True, '_num_ps_replicas': 0, '_num_worker_replicas': 1}\n"
     ]
    }
   ],
   "source": [
    "params = {'features_columns':feature_columns,'hidden_unit':[10,10],'n_classes':2}\n",
    "titanic_class = tf.estimator.Estimator(model_fn=model_fn,model_dir='./model',params=params)"
   ]
  },
  {
   "cell_type": "code",
   "execution_count": 15,
   "metadata": {
    "collapsed": true
   },
   "outputs": [],
   "source": [
    "def input_fn_train(features,labels,batch_size):\n",
    "    data_set = tf.data.Dataset.from_tensor_slices((dict(features),labels))\n",
    "    data_set.shuffle(1000).repeat().batch(batch_size)\n",
    "    return data_set"
   ]
  },
  {
   "cell_type": "code",
   "execution_count": 16,
   "metadata": {},
   "outputs": [
    {
     "name": "stdout",
     "output_type": "stream",
     "text": [
      "642\n"
     ]
    }
   ],
   "source": [
    "row = train_x.iloc[:,0].size\n",
    "print(row)\n",
    "for i in range(row):\n",
    "    if train_x.iloc[i,0] == 0:\n",
    "        print(\"  hanhao   \",i)"
   ]
  },
  {
   "cell_type": "code",
   "execution_count": 17,
   "metadata": {},
   "outputs": [
    {
     "name": "stdout",
     "output_type": "stream",
     "text": [
      "INFO:tensorflow:Calling model_fn.\n",
      "[_NumericColumn(key='Pclass', shape=(1,), default_value=None, dtype=tf.int32, normalizer_fn=None), _IndicatorColumn(categorical_column=_VocabularyListCategoricalColumn(key='Sex', vocabulary_list=('male', 'female'), dtype=tf.string, default_value=-1, num_oov_buckets=0)), _NumericColumn(key='Age', shape=(1,), default_value=None, dtype=tf.float32, normalizer_fn=<function <lambda> at 0x00000225EC9289D8>), _NumericColumn(key='SibSp', shape=(1,), default_value=None, dtype=tf.float32, normalizer_fn=None), _NumericColumn(key='Parch', shape=(1,), default_value=None, dtype=tf.float32, normalizer_fn=None), _NumericColumn(key='Fare', shape=(1,), default_value=None, dtype=tf.float32, normalizer_fn=<function <lambda> at 0x00000225FC87C8C8>), _IndicatorColumn(categorical_column=_VocabularyListCategoricalColumn(key='Embarked', vocabulary_list=('C', 'S', 'Q'), dtype=tf.string, default_value=-1, num_oov_buckets=0))]\n",
      "INFO:tensorflow:Done calling model_fn.\n",
      "INFO:tensorflow:Create CheckpointSaverHook.\n",
      "INFO:tensorflow:Graph was finalized.\n",
      "INFO:tensorflow:Running local_init_op.\n",
      "INFO:tensorflow:Done running local_init_op.\n",
      "INFO:tensorflow:Saving checkpoints for 0 into ./model\\model.ckpt.\n",
      "INFO:tensorflow:loss = 32.36039, step = 0\n",
      "INFO:tensorflow:global_step/sec: 257.711\n",
      "INFO:tensorflow:loss = 1.1618596, step = 100 (0.390 sec)\n",
      "INFO:tensorflow:global_step/sec: 339.231\n",
      "INFO:tensorflow:loss = 1.0108211, step = 200 (0.295 sec)\n",
      "INFO:tensorflow:global_step/sec: 331.343\n",
      "INFO:tensorflow:loss = 0.9575062, step = 300 (0.302 sec)\n",
      "INFO:tensorflow:global_step/sec: 340.389\n",
      "INFO:tensorflow:loss = 0.9041475, step = 400 (0.293 sec)\n",
      "INFO:tensorflow:global_step/sec: 336.94\n",
      "INFO:tensorflow:loss = 0.8997103, step = 500 (0.298 sec)\n",
      "INFO:tensorflow:global_step/sec: 334.678\n",
      "INFO:tensorflow:loss = 0.88113856, step = 600 (0.298 sec)\n",
      "INFO:tensorflow:global_step/sec: 339.009\n",
      "INFO:tensorflow:loss = 0.8559676, step = 700 (0.296 sec)\n",
      "INFO:tensorflow:global_step/sec: 336.939\n",
      "INFO:tensorflow:loss = 0.82992125, step = 800 (0.297 sec)\n",
      "INFO:tensorflow:global_step/sec: 334.483\n",
      "INFO:tensorflow:loss = 0.84720194, step = 900 (0.299 sec)\n",
      "INFO:tensorflow:Saving checkpoints for 1000 into ./model\\model.ckpt.\n",
      "INFO:tensorflow:Loss for final step: 0.84536976.\n"
     ]
    },
    {
     "data": {
      "text/plain": [
       "<tensorflow.python.estimator.estimator.Estimator at 0x225fc87acc0>"
      ]
     },
     "execution_count": 17,
     "metadata": {},
     "output_type": "execute_result"
    }
   ],
   "source": [
    "input_fn_train = tf.estimator.inputs.pandas_input_fn(train_x,train_y,batch_size=128,num_epochs=1000,shuffle=True)\n",
    "titanic_class.train(input_fn=input_fn_train,steps=1000)"
   ]
  },
  {
   "cell_type": "code",
   "execution_count": 18,
   "metadata": {},
   "outputs": [
    {
     "name": "stdout",
     "output_type": "stream",
     "text": [
      "INFO:tensorflow:Calling model_fn.\n",
      "[_NumericColumn(key='Pclass', shape=(1,), default_value=None, dtype=tf.int32, normalizer_fn=None), _IndicatorColumn(categorical_column=_VocabularyListCategoricalColumn(key='Sex', vocabulary_list=('male', 'female'), dtype=tf.string, default_value=-1, num_oov_buckets=0)), _NumericColumn(key='Age', shape=(1,), default_value=None, dtype=tf.float32, normalizer_fn=<function <lambda> at 0x00000225EC9289D8>), _NumericColumn(key='SibSp', shape=(1,), default_value=None, dtype=tf.float32, normalizer_fn=None), _NumericColumn(key='Parch', shape=(1,), default_value=None, dtype=tf.float32, normalizer_fn=None), _NumericColumn(key='Fare', shape=(1,), default_value=None, dtype=tf.float32, normalizer_fn=<function <lambda> at 0x00000225FC87C8C8>), _IndicatorColumn(categorical_column=_VocabularyListCategoricalColumn(key='Embarked', vocabulary_list=('C', 'S', 'Q'), dtype=tf.string, default_value=-1, num_oov_buckets=0))]\n",
      "INFO:tensorflow:Done calling model_fn.\n",
      "INFO:tensorflow:Starting evaluation at 2018-08-10-06:27:41\n",
      "INFO:tensorflow:Graph was finalized.\n",
      "INFO:tensorflow:Restoring parameters from ./model\\model.ckpt-1000\n",
      "INFO:tensorflow:Running local_init_op.\n",
      "INFO:tensorflow:Done running local_init_op.\n",
      "INFO:tensorflow:Evaluation [1/1]\n",
      "INFO:tensorflow:Finished evaluation at 2018-08-10-06:27:41\n",
      "INFO:tensorflow:Saving dict for global step 1000: accuracy = 0.7265625, global_step = 1000, loss = 0.76613784\n",
      "INFO:tensorflow:Saving 'checkpoint_path' summary for global step 1000: ./model\\model.ckpt-1000\n"
     ]
    },
    {
     "data": {
      "text/plain": [
       "{'accuracy': 0.7265625, 'global_step': 1000, 'loss': 0.76613784}"
      ]
     },
     "execution_count": 18,
     "metadata": {},
     "output_type": "execute_result"
    }
   ],
   "source": [
    "input_fn_eval = tf.estimator.inputs.pandas_input_fn(test_x,test_y,batch_size=128,num_epochs=1000,shuffle=True)\n",
    "titanic_class.evaluate(input_fn=input_fn_eval,steps=1)"
   ]
  },
  {
   "cell_type": "code",
   "execution_count": 19,
   "metadata": {},
   "outputs": [
    {
     "name": "stdout",
     "output_type": "stream",
     "text": [
      "<generator object Estimator.predict at 0x00000225FC8746D0>\n",
      "INFO:tensorflow:Calling model_fn.\n",
      "[_NumericColumn(key='Pclass', shape=(1,), default_value=None, dtype=tf.int32, normalizer_fn=None), _IndicatorColumn(categorical_column=_VocabularyListCategoricalColumn(key='Sex', vocabulary_list=('male', 'female'), dtype=tf.string, default_value=-1, num_oov_buckets=0)), _NumericColumn(key='Age', shape=(1,), default_value=None, dtype=tf.float32, normalizer_fn=<function <lambda> at 0x00000225EC9289D8>), _NumericColumn(key='SibSp', shape=(1,), default_value=None, dtype=tf.float32, normalizer_fn=None), _NumericColumn(key='Parch', shape=(1,), default_value=None, dtype=tf.float32, normalizer_fn=None), _NumericColumn(key='Fare', shape=(1,), default_value=None, dtype=tf.float32, normalizer_fn=<function <lambda> at 0x00000225FC87C8C8>), _IndicatorColumn(categorical_column=_VocabularyListCategoricalColumn(key='Embarked', vocabulary_list=('C', 'S', 'Q'), dtype=tf.string, default_value=-1, num_oov_buckets=0))]\n",
      "INFO:tensorflow:Done calling model_fn.\n",
      "INFO:tensorflow:Graph was finalized.\n",
      "INFO:tensorflow:Restoring parameters from ./model\\model.ckpt-1000\n",
      "INFO:tensorflow:Running local_init_op.\n",
      "INFO:tensorflow:Done running local_init_op.\n",
      "\n",
      "Prediction is \"saveed\" (62.6%), expected \"saveed\"\n"
     ]
    }
   ],
   "source": [
    "input_fn_predict = tf.estimator.inputs.pandas_input_fn(data_test.head(1),shuffle = True)\n",
    "predictions = titanic_class.predict(input_fn=input_fn_predict)\n",
    "print(predictions)\n",
    "SPECIES = ['saveed', 'dead']\n",
    "for pred_dict,expec in zip(predictions,SPECIES):\n",
    "    template = ('\\nPrediction is \"{}\" ({:.1f}%), expected \"{}\"')\n",
    "    class_id = pred_dict['class_ids'][0]\n",
    "    probability = pred_dict['probabilities'][class_id]\n",
    "    \n",
    "    print(template.format(SPECIES[class_id],\n",
    "                              100 * probability, expec))"
   ]
  },
  {
   "cell_type": "code",
   "execution_count": null,
   "metadata": {
    "collapsed": true
   },
   "outputs": [],
   "source": []
  },
  {
   "cell_type": "code",
   "execution_count": null,
   "metadata": {
    "collapsed": true
   },
   "outputs": [],
   "source": []
  }
 ],
 "metadata": {
  "kernelspec": {
   "display_name": "Python 3",
   "language": "python",
   "name": "python3"
  },
  "language_info": {
   "codemirror_mode": {
    "name": "ipython",
    "version": 3
   },
   "file_extension": ".py",
   "mimetype": "text/x-python",
   "name": "python",
   "nbconvert_exporter": "python",
   "pygments_lexer": "ipython3",
   "version": "3.6.2"
  }
 },
 "nbformat": 4,
 "nbformat_minor": 2
}
