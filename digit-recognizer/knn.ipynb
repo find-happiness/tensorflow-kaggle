{
 "cells": [
  {
   "cell_type": "code",
   "execution_count": 137,
   "metadata": {
    "collapsed": true
   },
   "outputs": [],
   "source": [
    "import pandas as pd\n",
    "import os\n",
    "import numpy as np"
   ]
  },
  {
   "cell_type": "code",
   "execution_count": 138,
   "metadata": {
    "collapsed": true
   },
   "outputs": [],
   "source": [
    "def opencsv():\n",
    "    train = pd.read_csv('./train.csv')\n",
    "    test = pd.read_csv('./test.csv')\n",
    "    train_data = train.values[0:, 1:]\n",
    "    train_lable = train.values[:, 0]\n",
    "    test_data = test.values[0:, 0:]\n",
    "    return train_data, train_lable, test_data\n"
   ]
  },
  {
   "cell_type": "code",
   "execution_count": 139,
   "metadata": {
    "collapsed": true
   },
   "outputs": [],
   "source": [
    "import numpy as np"
   ]
  },
  {
   "cell_type": "code",
   "execution_count": 140,
   "metadata": {},
   "outputs": [
    {
     "name": "stdout",
     "output_type": "stream",
     "text": [
      "F:\\Test\\python\\tensorflow-kaggle\\digit-recognizer\n"
     ]
    }
   ],
   "source": [
    "np.random.seed(13)\n",
    "\n",
    "print(os.getcwd())\n",
    "\n",
    "x_vals, train_lable, test_data = opencsv()"
   ]
  },
  {
   "cell_type": "code",
   "execution_count": 141,
   "metadata": {},
   "outputs": [
    {
     "name": "stdout",
     "output_type": "stream",
     "text": [
      "42000\n"
     ]
    }
   ],
   "source": [
    "print(len(train_lable))\n",
    "train_indices = np.random.choice(len(x_vals), round(len(x_vals) * 0.8), replace=False)\n",
    "test_indices = np.array(list(set(range(len(x_vals))) - set(train_indices)))\n",
    "x_vals_train = x_vals[train_indices]\n",
    "x_vals_test = x_vals[test_indices]\n",
    "y_vals_train = train_lable[train_indices]\n",
    "y_vals_test = train_lable[test_indices]"
   ]
  },
  {
   "cell_type": "markdown",
   "metadata": {},
   "source": [
    "### 计算距离L1"
   ]
  },
  {
   "cell_type": "code",
   "execution_count": 142,
   "metadata": {},
   "outputs": [],
   "source": [
    "import tensorflow as tf\n",
    "from tensorflow.python.framework import ops\n",
    "ops.reset_default_graph()\n",
    "\n",
    "sess = tf.Session()"
   ]
  },
  {
   "cell_type": "code",
   "execution_count": 143,
   "metadata": {},
   "outputs": [],
   "source": [
    "x_input = tf.placeholder(shape=[None, 28 * 28], name=\"x_input\", dtype=tf.float32)\n",
    "y_input = tf.placeholder(shape=[None], name=\"y_input\", dtype=tf.float32)\n",
    "test_input = tf.placeholder(shape=[None,28 * 28], name=\"test_input\", dtype=tf.float32)\n",
    "top_k_indices_input=tf.placeholder(shape=[None,5],name=\"top_k_indices\",dtype=tf.int32)"
   ]
  },
  {
   "cell_type": "code",
   "execution_count": 144,
   "metadata": {},
   "outputs": [
    {
     "name": "stdout",
     "output_type": "stream",
     "text": [
      "28000\n"
     ]
    }
   ],
   "source": [
    "print (len(test_data))\n"
   ]
  },
  {
   "cell_type": "code",
   "execution_count": 145,
   "metadata": {},
   "outputs": [],
   "source": [
    "d_temp = tf.add(x_input, tf.negative(test_input))\n",
    "distance = tf.reduce_sum(tf.abs(d_temp),reduction_indices=1)\n",
    "#tf.expand_dims(test_input, axis=1)"
   ]
  },
  {
   "cell_type": "code",
   "execution_count": 146,
   "metadata": {
    "collapsed": true
   },
   "outputs": [],
   "source": [
    "top_k_xvals,top_k_indices = tf.nn.top_k(tf.negative(distance), k=5)\n",
    "# shape_top_k_xvals = tf.shape(top_k_xvals)\n",
    "# shape_top_k_indices = tf.shape(top_k_indices)\n",
    "\n",
    "# x_sums = tf.expand_dims(tf.reduce_sum(top_k_xvals, 1), 1)\n",
    "# x_sums_repeated = tf.matmul(x_sums, tf.ones([1, k], tf.float32))  # shape = [k,k]\n",
    "# x_val_weights = tf.expand_dims(tf.div(top_k_xvals, x_sums_repeated), 1)  #\n",
    "# \n",
    "# count = tf.unique_with_counts(tf.cast(top_k_yvals, dtype=tf.int32))\n",
    "\n",
    "# pre = tf.argmax(top_k_xvals, axis=1)\n"
   ]
  },
  {
   "cell_type": "code",
   "execution_count": 167,
   "metadata": {},
   "outputs": [],
   "source": [
    "top_k_yvals = tf.gather(y_input, top_k_indices)\n",
    "\n",
    "count = tf.bincount(tf.cast(top_k_yvals,dtype=tf.int32))\n",
    "\n",
    "pre_y = tf.argmax(count)"
   ]
  },
  {
   "cell_type": "code",
   "execution_count": 169,
   "metadata": {},
   "outputs": [
    {
     "name": "stdout",
     "output_type": "stream",
     "text": [
      "0.936\n"
     ]
    }
   ],
   "source": [
    "# Initialize the variables (i.e. assign their default value)\n",
    "init = tf.global_variables_initializer()\n",
    "sess.run(init)\n",
    "batch_size = 1\n",
    "target_size = 5000\n",
    "num_loops = int(np.ceil(len(x_vals_test) / batch_size))\n",
    "num_loops = 1000\n",
    "# pre_dic = []\n",
    "# target_dict=[]\n",
    "acc = []\n",
    "for i in range(num_loops):\n",
    "    min_index = i * batch_size\n",
    "    max_index = min((i + 1) * batch_size, len(x_vals_test))\n",
    "    random_index = np.random.choice(len(x_vals_train),target_size)\n",
    "    pre = sess.run(pre_y, feed_dict={x_input:x_vals_train[random_index], test_input: x_vals_test[min_index:max_index, :],\n",
    "                                 y_input: y_vals_train[random_index]})\n",
    "#     print(np.argmax(pre),\"  \",y_vals_test[min_index])\n",
    "#     pre_y = np.argmax(pre)\n",
    "#     print(pre)\n",
    "#     pre_dic.append(pre)\n",
    "#     target_dict.append(y_vals_test[min_index])\n",
    "    if pre == y_vals_test[min_index]:\n",
    "        acc.append(1)\n",
    "    else:\n",
    "        acc.append(0)\n",
    "\n",
    "print(np.mean(acc))\n",
    "\n",
    "#     pre_dic.append(pre)\n",
    "\n",
    "# print(pre_dic)\n",
    "#     print(y_vals_train[random_index])\n",
    "#     print(k_index)\n",
    "#     for j in range(len(k_index)):\n",
    "#         print(k_index[j])\n",
    "    \n",
    "#     print(\"shape \",y_vals_test[k_index])\n",
    "#     print(y_vals_test[min_index:max_index], \" pre \", np.)\n"
   ]
  },
  {
   "cell_type": "code",
   "execution_count": null,
   "metadata": {
    "collapsed": true
   },
   "outputs": [],
   "source": []
  }
 ],
 "metadata": {
  "kernelspec": {
   "display_name": "Python 3",
   "language": "python",
   "name": "python3"
  },
  "language_info": {
   "codemirror_mode": {
    "name": "ipython",
    "version": 3
   },
   "file_extension": ".py",
   "mimetype": "text/x-python",
   "name": "python",
   "nbconvert_exporter": "python",
   "pygments_lexer": "ipython3",
   "version": "3.6.1"
  }
 },
 "nbformat": 4,
 "nbformat_minor": 1
}
